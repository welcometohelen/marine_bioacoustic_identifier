{
 "cells": [
  {
   "cell_type": "markdown",
   "id": "f369680c",
   "metadata": {},
   "source": [
    "# Including augmented data\n",
    "The following is mostly redundant to notebook_04, but shows the methodology for incorporating the augmented spectrograms into model training.  \n",
    "In creating the un-masked train-test-split groups, I already standardized each input, cast as np.arrays, and shaped them as 4D tensors. Though convenient to do all that preprocessing in one step at the time, now it requires some reformatting on both sides so the masks can be added into the training sets."
   ]
  },
  {
   "cell_type": "code",
   "execution_count": 1,
   "id": "70d9ee44",
   "metadata": {
    "ExecuteTime": {
     "end_time": "2021-06-13T00:04:21.274860Z",
     "start_time": "2021-06-13T00:04:19.051132Z"
    }
   },
   "outputs": [],
   "source": [
    "import pandas as pd\n",
    "import numpy as np\n",
    "import matplotlib.pyplot as plt\n",
    "import pickle\n",
    "import os\n",
    "import gc\n",
    "\n",
    "\n",
    "from tensorflow.keras.models import Sequential\n",
    "from tensorflow.keras.layers import Dense, Dropout, Flatten, Conv2D, MaxPooling2D, BatchNormalization\n",
    "from tensorflow.keras import utils\n",
    "from tensorflow.keras.optimizers import Adam\n",
    "from tensorflow.keras.callbacks import EarlyStopping\n",
    "from tensorflow.keras.regularizers import l1, l2, l1_l2\n",
    "import tensorflow as tf\n",
    "\n",
    "\n",
    "from sklearn.model_selection import train_test_split\n",
    "\n",
    "import random\n",
    "random.seed(42)"
   ]
  },
  {
   "cell_type": "markdown",
   "id": "8d1710bd",
   "metadata": {},
   "source": [
    "## Step 1: import masked specs. Reformat so they can be concatenated to training arrays."
   ]
  },
  {
   "cell_type": "code",
   "execution_count": 2,
   "id": "7c80a039",
   "metadata": {
    "ExecuteTime": {
     "end_time": "2021-06-13T00:04:21.278453Z",
     "start_time": "2021-06-13T00:04:21.275748Z"
    }
   },
   "outputs": [
    {
     "data": {
      "text/plain": [
       "['holdout_1_neg.pkl', 'holdout_1_pos.pkl', 'positives', 'negatives']"
      ]
     },
     "execution_count": 2,
     "metadata": {},
     "output_type": "execute_result"
    }
   ],
   "source": [
    "masks_inpath = '../scratch_data/holdout/'\n",
    "os.listdir(masks_inpath)"
   ]
  },
  {
   "cell_type": "code",
   "execution_count": 3,
   "id": "5bf97c67",
   "metadata": {
    "ExecuteTime": {
     "end_time": "2021-06-13T00:04:21.281301Z",
     "start_time": "2021-06-13T00:04:21.279407Z"
    }
   },
   "outputs": [
    {
     "data": {
      "text/plain": [
       "['holdout_1_neg.pkl', 'holdout_1_pos.pkl']"
      ]
     },
     "execution_count": 3,
     "metadata": {},
     "output_type": "execute_result"
    }
   ],
   "source": [
    "mask_files = [i for i in os.listdir(masks_inpath) if 'holdout' in i]\n",
    "mask_files"
   ]
  },
  {
   "cell_type": "code",
   "execution_count": 4,
   "id": "917f711c",
   "metadata": {
    "ExecuteTime": {
     "end_time": "2021-06-13T00:04:23.200904Z",
     "start_time": "2021-06-13T00:04:21.282165Z"
    }
   },
   "outputs": [],
   "source": [
    "masks = []\n",
    "labels = []\n",
    "for i in mask_files:\n",
    "    with open (masks_inpath + i, mode = 'rb') as m:\n",
    "        temp = pickle.load(m)\n",
    "    masks += temp\n",
    "    if 'pos' in i:\n",
    "        labels += [1]*len(temp)\n",
    "    else:\n",
    "        labels += [0]*len(temp)"
   ]
  },
  {
   "cell_type": "code",
   "execution_count": 5,
   "id": "ef00b9d0",
   "metadata": {
    "ExecuteTime": {
     "end_time": "2021-06-13T00:04:23.204566Z",
     "start_time": "2021-06-13T00:04:23.202348Z"
    }
   },
   "outputs": [
    {
     "data": {
      "text/plain": [
       "(610, 368)"
      ]
     },
     "execution_count": 5,
     "metadata": {},
     "output_type": "execute_result"
    }
   ],
   "source": [
    "masks[0].shape"
   ]
  },
  {
   "cell_type": "code",
   "execution_count": 6,
   "id": "7a90e9a7",
   "metadata": {
    "ExecuteTime": {
     "end_time": "2021-06-13T00:04:24.572586Z",
     "start_time": "2021-06-13T00:04:23.205347Z"
    }
   },
   "outputs": [],
   "source": [
    "#standardize: standard scaler per individual array\n",
    "masks = [(i-np.mean(i)) / np.std(i) for i in masks]"
   ]
  },
  {
   "cell_type": "code",
   "execution_count": 7,
   "id": "e3ae7c52",
   "metadata": {
    "ExecuteTime": {
     "end_time": "2021-06-13T00:04:24.575538Z",
     "start_time": "2021-06-13T00:04:24.573321Z"
    }
   },
   "outputs": [],
   "source": [
    "#shuffle\n",
    "#zipping then unzipping - look I *know* random seed should make shuffling equal in both lists\n",
    "#but without being able to easily check for confirmation it just feels risky, ya know?\n",
    "zipped = list(zip(masks, labels))\n",
    "random.shuffle(zipped)\n",
    "masks, labels = zip(*zipped)"
   ]
  },
  {
   "cell_type": "code",
   "execution_count": 8,
   "id": "4e18d786",
   "metadata": {
    "ExecuteTime": {
     "end_time": "2021-06-13T00:04:24.579136Z",
     "start_time": "2021-06-13T00:04:24.577302Z"
    }
   },
   "outputs": [
    {
     "data": {
      "text/plain": [
       "(1, 0, 1, 0, 0, 0, 0, 1, 0, 1)"
      ]
     },
     "execution_count": 8,
     "metadata": {},
     "output_type": "execute_result"
    }
   ],
   "source": [
    "labels[0:10]  #confirm shuffled"
   ]
  },
  {
   "cell_type": "markdown",
   "id": "0d995284",
   "metadata": {},
   "source": [
    "Converting masks to array for reshaping, then back to list for concatenating with list(X_train). This avoids errors or anomolous fitting due to mixed value types."
   ]
  },
  {
   "cell_type": "code",
   "execution_count": 9,
   "id": "df910ff9",
   "metadata": {
    "ExecuteTime": {
     "end_time": "2021-06-13T00:04:25.431491Z",
     "start_time": "2021-06-13T00:04:24.580402Z"
    }
   },
   "outputs": [],
   "source": [
    "#must be cast as array for reshape to join with X_train\n",
    "masks = np.array(masks)\n",
    "masks = masks.reshape(masks.shape[0], 610, 368, 1)\n",
    "\n",
    "#must also list to concatenate to X_train, y_train\n",
    "masks = list(masks)\n",
    "labels = list(labels) #was tuple"
   ]
  },
  {
   "cell_type": "markdown",
   "id": "8cd48b08",
   "metadata": {},
   "source": [
    "## Step 2: Instantiate model\n",
    "This should be identical to structure in prior notebook, regardless of model version. The **only** difference below is the addition of masked spects, no other parameter tuning. This could be done by importing the model architecture, but given the number of iterations I was doing - with only one parameter changed at a time - it proved more efficient to adjust manually."
   ]
  },
  {
   "cell_type": "code",
   "execution_count": 10,
   "id": "60da4978",
   "metadata": {
    "ExecuteTime": {
     "end_time": "2021-06-13T00:04:25.526917Z",
     "start_time": "2021-06-13T00:04:25.432916Z"
    }
   },
   "outputs": [],
   "source": [
    "# 3 x convolutional layers with max pooling\n",
    "cnn = Sequential()\n",
    "cnn.add(Conv2D(filters = 8, \n",
    "               kernel_size=(11,11),\n",
    "               strides = (4,4), #kernel_size and stride from AlexNet\n",
    "               activation='relu', \n",
    "               input_shape=(610, 368, 1),\n",
    "               padding = 'valid')) #no padding\n",
    "cnn.add(MaxPooling2D(pool_size = (3,3), strides=(2,2)))\n",
    "cnn.add(BatchNormalization())\n",
    "\n",
    "cnn.add(Conv2D(filters= 16, \n",
    "              kernel_size=(5,5), #LeNet uses 2xconv2d with 5x5 kernel, 2x2 pooling\n",
    "              activation='relu')) #default strides =1\n",
    "cnn.add(MaxPooling2D(pool_size = (2,2), strides=(2,2)))\n",
    "cnn.add(BatchNormalization())\n",
    "        \n",
    "cnn.add(Conv2D(filters = 16,\n",
    "               kernel_size = (5,5),\n",
    "               activation = 'relu'))\n",
    "cnn.add(MaxPooling2D(pool_size = (2,2), strides=(2,2)))  #output dim = 15 x 8 x 16 = 1920\n",
    "cnn.add(BatchNormalization())\n",
    "\n",
    "cnn.add(Flatten())\n",
    "\n",
    "#input nodes = # features\n",
    "cnn.add(Dense(1920, activation='relu'))#, kernel_regularizer=l2(.01))) \n",
    "#cnn.add(Dropout(.2)) \n",
    "cnn.add(Dense(256, activation = 'relu'))#, kernel_regularizer=l2(.01)))\n",
    "#cnn.add(Dropout(.2))\n",
    "cnn.add(Dense(1, activation='sigmoid')) #output layer binary classification"
   ]
  },
  {
   "cell_type": "code",
   "execution_count": 11,
   "id": "fb51c9c0",
   "metadata": {
    "ExecuteTime": {
     "end_time": "2021-06-13T00:04:25.529633Z",
     "start_time": "2021-06-13T00:04:25.527746Z"
    }
   },
   "outputs": [],
   "source": [
    "#lower learning rate\n",
    "slow_Adam = tf.keras.optimizers.Adam(learning_rate=.0001)"
   ]
  },
  {
   "cell_type": "code",
   "execution_count": 12,
   "id": "dff89243",
   "metadata": {
    "ExecuteTime": {
     "end_time": "2021-06-13T00:04:25.536890Z",
     "start_time": "2021-06-13T00:04:25.530494Z"
    }
   },
   "outputs": [],
   "source": [
    "# compile model\n",
    "cnn.compile(loss = 'binary_crossentropy', optimizer=slow_Adam, \n",
    "            metrics=['acc', 'Recall', 'Precision'])"
   ]
  },
  {
   "cell_type": "code",
   "execution_count": 13,
   "id": "5843a0e0",
   "metadata": {
    "ExecuteTime": {
     "end_time": "2021-06-13T00:04:25.538958Z",
     "start_time": "2021-06-13T00:04:25.537571Z"
    }
   },
   "outputs": [],
   "source": [
    "#define earlystop\n",
    "early_stop = EarlyStopping(monitor='val_recall', patience = 5)"
   ]
  },
  {
   "cell_type": "markdown",
   "id": "e3049fb3",
   "metadata": {},
   "source": [
    "## Step 3: Fit with train-test splits, with masked spectrograms interspersed with training data\n",
    "No masks in testing data. Verbose=0 for the sake of succinct presentation, but recommend verbose=1 when running in order to follow progress."
   ]
  },
  {
   "cell_type": "code",
   "execution_count": 14,
   "id": "a2326c9a",
   "metadata": {
    "ExecuteTime": {
     "end_time": "2021-06-13T00:04:25.542042Z",
     "start_time": "2021-06-13T00:04:25.539656Z"
    }
   },
   "outputs": [
    {
     "data": {
      "text/plain": [
       "['ch5_test.pkl',\n",
       " 'ch4_test.pkl',\n",
       " 'ch7_train.pkl',\n",
       " 'ch1_train.pkl',\n",
       " 'ch6_train.pkl',\n",
       " 'ch8_test.pkl',\n",
       " 'ch2_test.pkl',\n",
       " 'ch3_test.pkl',\n",
       " 'ch0_train.pkl',\n",
       " 'ch8_train.pkl',\n",
       " 'ch5_train.pkl',\n",
       " 'ch6_test.pkl',\n",
       " 'ch7_test.pkl',\n",
       " 'ch3_train.pkl',\n",
       " 'ch1_test.pkl',\n",
       " 'ch0_test.pkl',\n",
       " 'ch4_train.pkl',\n",
       " 'ch2_train.pkl']"
      ]
     },
     "execution_count": 14,
     "metadata": {},
     "output_type": "execute_result"
    }
   ],
   "source": [
    "#import data, assign pos/neg\n",
    "in_path = '../scratch_data/tts_chunked/'\n",
    "os.listdir(in_path)"
   ]
  },
  {
   "cell_type": "markdown",
   "id": "20c4d5a7",
   "metadata": {},
   "source": [
    "Note the output for pkl_to_CNN has the training data in list form. This differs from notebook_04 and is necessary for concatenation in the next cell:"
   ]
  },
  {
   "cell_type": "code",
   "execution_count": 15,
   "id": "0f306658",
   "metadata": {
    "ExecuteTime": {
     "end_time": "2021-06-13T00:04:25.545188Z",
     "start_time": "2021-06-13T00:04:25.542702Z"
    }
   },
   "outputs": [],
   "source": [
    "#function to preprocess chunks\n",
    "\n",
    "def pkl_to_CNN(train_file, test_file):\n",
    "    with open (in_path+train_file, mode = 'rb') as f:\n",
    "        temp_train = pickle.load(f)\n",
    "    with open (in_path+test_file, mode = 'rb') as j:\n",
    "        temp_test = pickle.load(j)\n",
    "        \n",
    "    X_train, y_train = list(zip(*temp_train))\n",
    "    X_test, y_test = list(zip(*temp_test))\n",
    "\n",
    "    # X_train, y_train as lists for upcoming addition of masks later\n",
    "    return list(X_train), np.array(X_test), list(y_train), np.array(y_test)"
   ]
  },
  {
   "cell_type": "code",
   "execution_count": 16,
   "id": "ef31e3e0",
   "metadata": {
    "ExecuteTime": {
     "end_time": "2021-06-13T00:26:36.154257Z",
     "start_time": "2021-06-13T00:04:25.546213Z"
    },
    "scrolled": true
   },
   "outputs": [
    {
     "name": "stdout",
     "output_type": "stream",
     "text": [
      "\n",
      "\n",
      "        chunk 1 of 9 fit\n",
      "\n",
      "\n",
      "\n",
      "\n",
      "        chunk 2 of 9 fit\n",
      "\n",
      "\n",
      "\n",
      "\n",
      "        chunk 3 of 9 fit\n",
      "\n",
      "\n",
      "\n",
      "\n",
      "        chunk 4 of 9 fit\n",
      "\n",
      "\n",
      "\n",
      "\n",
      "        chunk 5 of 9 fit\n",
      "\n",
      "\n",
      "\n",
      "\n",
      "        chunk 6 of 9 fit\n",
      "\n",
      "\n",
      "\n",
      "\n",
      "        chunk 7 of 9 fit\n",
      "\n",
      "\n",
      "\n",
      "\n",
      "        chunk 8 of 9 fit\n",
      "\n",
      "\n",
      "\n",
      "\n",
      "        chunk 9 of 9 fit\n",
      "\n",
      "\n"
     ]
    }
   ],
   "source": [
    "histlist = []\n",
    "count = 0\n",
    "for i in range(0,9):\n",
    "    \n",
    "    X_train, X_test, y_train, y_test = pkl_to_CNN(f'ch{i}_train.pkl', f'ch{i}_test.pkl')\n",
    "\n",
    "    #disperse masked spects among some training sets\n",
    "    #append (masks, labels) to (X_train, y_train)\n",
    "    if i%2==0:\n",
    "        X_train = X_train + masks[count:count+int((len(masks)/4.9))]\n",
    "        y_train = y_train + labels[count:count+int((len(labels)/4.9))]\n",
    "        count += int(len(labels)/4.9)\n",
    "        X_train = np.array(X_train)\n",
    "        y_train = np.array(y_train)\n",
    "        X_train = X_train.reshape(X_train.shape[0], 610, 368, 1) #k this one might be overkill\n",
    "    \n",
    "    else:\n",
    "        X_train = np.array(X_train)\n",
    "        y_train = np.array(y_train)\n",
    "    \n",
    "    history = cnn.fit(X_train, y_train,\n",
    "                      batch_size=64,\n",
    "                      validation_data = (X_test, y_test),\n",
    "                      epochs = 300, \n",
    "                      callbacks = early_stop, verbose=0)\n",
    "    histlist.append(history.history)\n",
    "    \n",
    "    if i<8:\n",
    "        del X_train, X_test, y_train, y_test\n",
    "        gc.collect()\n",
    "    \n",
    "    print(f'\\n\\n        chunk {i+1} of 9 fit\\n\\n') #spaces so it stands out amongst verbose"
   ]
  },
  {
   "cell_type": "code",
   "execution_count": 17,
   "id": "50ffbaa9",
   "metadata": {
    "ExecuteTime": {
     "end_time": "2021-06-13T00:26:37.222579Z",
     "start_time": "2021-06-13T00:26:36.156830Z"
    }
   },
   "outputs": [
    {
     "name": "stderr",
     "output_type": "stream",
     "text": [
      "/Users/helenmeigs/miniforge3/envs/tensorflow_env/lib/python3.8/site-packages/tensorflow/python/keras/engine/training.py:2325: UserWarning: `Model.state_updates` will be removed in a future version. This property should not be used in TensorFlow 2.0, as `updates` are applied automatically.\n",
      "  warnings.warn('`Model.state_updates` will be removed in a future version. '\n",
      "/Users/helenmeigs/miniforge3/envs/tensorflow_env/lib/python3.8/site-packages/tensorflow/python/keras/engine/base_layer.py:1397: UserWarning: `layer.updates` will be removed in a future version. This property should not be used in TensorFlow 2.0, as `updates` are applied automatically.\n",
      "  warnings.warn('`layer.updates` will be removed in a future version. '\n"
     ]
    },
    {
     "name": "stdout",
     "output_type": "stream",
     "text": [
      "WARNING:tensorflow:FOR KERAS USERS: The object that you are saving contains one or more Keras models or layers. If you are loading the SavedModel with `tf.keras.models.load_model`, continue reading (otherwise, you may ignore the following instructions). Please change your code to save with `tf.keras.models.save_model` or `model.save`, and confirm that the file \"keras.metadata\" exists in the export directory. In the future, Keras will only load the SavedModels that have this file. In other words, `tf.saved_model.save` will no longer write SavedModels that can be recovered as Keras models (this will apply in TF 2.5).\n",
      "\n",
      "FOR DEVS: If you are overwriting _tracking_metadata in your class, this property has been used to save metadata in the SavedModel. The metadta field will be deprecated soon, so please move the metadata to a different file.\n",
      "INFO:tensorflow:Assets written to: ../data/models/vX_again_masked/assets\n"
     ]
    }
   ],
   "source": [
    "tf.keras.models.save_model(cnn, '../data/models/vX_again_masked')"
   ]
  },
  {
   "cell_type": "code",
   "execution_count": 18,
   "id": "34005c1f",
   "metadata": {
    "ExecuteTime": {
     "end_time": "2021-06-13T00:26:37.225149Z",
     "start_time": "2021-06-13T00:26:37.223309Z"
    }
   },
   "outputs": [],
   "source": [
    "with open ('../data/models/histories/vX_again_hist_masked.pkl', mode = 'wb') as f:\n",
    "    pickle.dump(histlist, f)"
   ]
  },
  {
   "cell_type": "code",
   "execution_count": 19,
   "id": "18dc9a3e",
   "metadata": {
    "ExecuteTime": {
     "end_time": "2021-06-13T00:26:37.831006Z",
     "start_time": "2021-06-13T00:26:37.225852Z"
    }
   },
   "outputs": [
    {
     "name": "stdout",
     "output_type": "stream",
     "text": [
      "19/19 [==============================] - 0s 17ms/step - loss: 0.5170 - acc: 0.7776 - recall: 0.5170 - precision: 0.5588\n"
     ]
    }
   ],
   "source": [
    "#eval on unseen test set to follow, but score for last chunk trained:\n",
    "#predicted majority class the whole time, no convergence, HUGE loss holy heck\n",
    "cnn_score = cnn.evaluate(X_test, y_test, verbose=1)"
   ]
  },
  {
   "cell_type": "code",
   "execution_count": 20,
   "id": "c4491567",
   "metadata": {
    "ExecuteTime": {
     "end_time": "2021-06-13T00:26:37.835379Z",
     "start_time": "2021-06-13T00:26:37.832314Z"
    }
   },
   "outputs": [
    {
     "data": {
      "text/plain": [
       "[6, 8, 7, 6, 6, 6, 6, 6, 7]"
      ]
     },
     "execution_count": 20,
     "metadata": {},
     "output_type": "execute_result"
    }
   ],
   "source": [
    "num_epochs = [len(i['loss']) for i in histlist]\n",
    "num_epochs #per subset"
   ]
  },
  {
   "cell_type": "code",
   "execution_count": 21,
   "id": "c2b6e28b",
   "metadata": {
    "ExecuteTime": {
     "end_time": "2021-06-13T00:26:38.390234Z",
     "start_time": "2021-06-13T00:26:37.836413Z"
    }
   },
   "outputs": [
    {
     "data": {
      "image/png": "[encoded data removed]",
      "text/plain": [
       "<Figure size 432x288 with 1 Axes>"
      ]
     },
     "metadata": {
      "needs_background": "light"
     },
     "output_type": "display_data"
    },
    {
     "data": {
      "image/png": "[encoded data removed]",
      "text/plain": [
       "<Figure size 432x288 with 1 Axes>"
      ]
     },
     "metadata": {
      "needs_background": "light"
     },
     "output_type": "display_data"
    },
    {
     "data": {
      "image/png": "[encoded data removed]",
      "text/plain": [
       "<Figure size 432x288 with 1 Axes>"
      ]
     },
     "metadata": {
      "needs_background": "light"
     },
     "output_type": "display_data"
    },
    {
     "data": {
      "image/png": "[encoded data removed]",
      "text/plain": [
       "<Figure size 432x288 with 1 Axes>"
      ]
     },
     "metadata": {
      "needs_background": "light"
     },
     "output_type": "display_data"
    },
    {
     "data": {
      "image/png": "[encoded data removed]",
      "text/plain": [
       "<Figure size 432x288 with 1 Axes>"
      ]
     },
     "metadata": {
      "needs_background": "light"
     },
     "output_type": "display_data"
    },
    {
     "data": {
      "image/png": "[encoded data removed]",
      "text/plain": [
       "<Figure size 432x288 with 1 Axes>"
      ]
     },
     "metadata": {
      "needs_background": "light"
     },
     "output_type": "display_data"
    },
    {
     "data": {
      "image/png": "[encoded data removed]",
      "text/plain": [
       "<Figure size 432x288 with 1 Axes>"
      ]
     },
     "metadata": {
      "needs_background": "light"
     },
     "output_type": "display_data"
    },
    {
     "data": {
      "image/png": "[encoded data removed]",
      "text/plain": [
       "<Figure size 432x288 with 1 Axes>"
      ]
     },
     "metadata": {
      "needs_background": "light"
     },
     "output_type": "display_data"
    },
    {
     "data": {
      "image/png": "[encoded data removed]",
      "text/plain": [
       "<Figure size 432x288 with 1 Axes>"
      ]
     },
     "metadata": {
      "needs_background": "light"
     },
     "output_type": "display_data"
    }
   ],
   "source": [
    "for i in range(len(histlist)):\n",
    "    plt.figure()\n",
    "    plt.plot(histlist[i]['recall'], label='Training recall')\n",
    "    plt.plot(histlist[i]['val_recall'], label='Testing recall')\n",
    "    plt.title(f'subset {i+1} of 9')\n",
    "    plt.legend();"
   ]
  }
 ],
 "metadata": {
  "kernelspec": {
   "display_name": "Python 3",
   "language": "python",
   "name": "python3"
  },
  "language_info": {
   "codemirror_mode": {
    "name": "ipython",
    "version": 3
   },
   "file_extension": ".py",
   "mimetype": "text/x-python",
   "name": "python",
   "nbconvert_exporter": "python",
   "pygments_lexer": "ipython3",
   "version": "3.8.8"
  },
  "varInspector": {
   "cols": {
    "lenName": 16,
    "lenType": 16,
    "lenVar": 40
   },
   "kernels_config": {
    "python": {
     "delete_cmd_postfix": "",
     "delete_cmd_prefix": "del ",
     "library": "var_list.py",
     "varRefreshCmd": "print(var_dic_list())"
    },
    "r": {
     "delete_cmd_postfix": ") ",
     "delete_cmd_prefix": "rm(",
     "library": "var_list.r",
     "varRefreshCmd": "cat(var_dic_list()) "
    }
   },
   "types_to_exclude": [
    "module",
    "function",
    "builtin_function_or_method",
    "instance",
    "_Feature"
   ],
   "window_display": false
  }
 },
 "nbformat": 4,
 "nbformat_minor": 5
}
