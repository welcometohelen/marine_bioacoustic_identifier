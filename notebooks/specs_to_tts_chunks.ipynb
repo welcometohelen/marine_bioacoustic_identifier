{
 "cells": [
  {
   "cell_type": "markdown",
   "id": "afb86a76",
   "metadata": {},
   "source": [
    "## Subsetting to maximize free memory\n",
    "Preprocessing and fitting all data at once crashes my system, so I am using the following procedure to reduce memory demands during model training.\n",
    "\n",
    "a) divide data into subsets of ~2500  \n",
    "\n",
    "b) create a train-test-split for each subset  \n",
    "* maintain consistent pos:neg ratio throughout all subsets  \n",
    "\n",
    "c) import a subset, use it to train the model, delete subset before importing the next one for further training  \n",
    "\n",
    "This notebook re-feng-shuis the spectrograms created in prior notebook by completing steps a & b from above, and pickling each subset so it can be pulled in and easily unpacked for model training later."
   ]
  },
  {
   "cell_type": "code",
   "execution_count": 1,
   "id": "06bfbfca",
   "metadata": {
    "ExecuteTime": {
     "end_time": "2021-06-06T10:06:02.859299Z",
     "start_time": "2021-06-06T10:06:02.239283Z"
    }
   },
   "outputs": [],
   "source": [
    "import pandas as pd\n",
    "import numpy as np\n",
    "import pickle\n",
    "import os\n",
    "import gc\n",
    "\n",
    "from sklearn.model_selection import train_test_split\n",
    "\n",
    "import random\n",
    "random.seed(42)"
   ]
  },
  {
   "cell_type": "code",
   "execution_count": 2,
   "id": "59057194",
   "metadata": {
    "ExecuteTime": {
     "end_time": "2021-06-06T10:06:04.804555Z",
     "start_time": "2021-06-06T10:06:04.797759Z"
    }
   },
   "outputs": [
    {
     "data": {
      "text/plain": [
       "['tts_3_neg.pkl',\n",
       " 'tts_2_pos.pkl',\n",
       " 'tts_2_neg.pkl',\n",
       " 'tts_1_pos.pkl',\n",
       " 'tts_1_neg.pkl',\n",
       " 'tts_4_neg.pkl',\n",
       " 'tts_5_neg.pkl',\n",
       " 'tts_masked_neg.pkl',\n",
       " 'tts_masked_pos.pkl',\n",
       " 'tts_6_neg.pkl']"
      ]
     },
     "execution_count": 2,
     "metadata": {},
     "output_type": "execute_result"
    }
   ],
   "source": [
    "in_path = '../scratch_data/tts_arrays_sm/'\n",
    "files = os.listdir(in_path)\n",
    "files"
   ]
  },
  {
   "cell_type": "code",
   "execution_count": 3,
   "id": "22f3771a",
   "metadata": {
    "ExecuteTime": {
     "end_time": "2021-06-06T10:06:23.755070Z",
     "start_time": "2021-06-06T10:06:16.733243Z"
    }
   },
   "outputs": [],
   "source": [
    "in_path = '../scratch_data/tts_arrays_sm/'\n",
    "files = os.listdir(in_path)\n",
    "target_files = [i for i in files if \"masked\" not in i] #no augmentation\n",
    "\n",
    "pos_specs = []\n",
    "neg_specs = []\n",
    "for i in target_files:\n",
    "    with open (in_path + i, mode = 'rb') as pickle_in:\n",
    "        temp = pickle.load(pickle_in)\n",
    "    if 'pos' in i:\n",
    "        pos_specs += temp\n",
    "    else:\n",
    "        neg_specs += temp"
   ]
  },
  {
   "cell_type": "code",
   "execution_count": 4,
   "id": "37ac4934",
   "metadata": {
    "ExecuteTime": {
     "end_time": "2021-06-06T10:06:38.178017Z",
     "start_time": "2021-06-06T10:06:38.174221Z"
    }
   },
   "outputs": [
    {
     "name": "stdout",
     "output_type": "stream",
     "text": [
      "# positives: 5588\n",
      "# negatives: 16766\n",
      "\n",
      "% pos (minority): 0.24997763263845396\n",
      "% neg (majority): 0.750022367361546\n"
     ]
    }
   ],
   "source": [
    "#baseline, & ratio to maintain in all tts\n",
    "print(f'# positives: {len(pos_specs)}\\n# negatives: {len(neg_specs)}\\n')\n",
    "print(f'% pos (minority): {len(pos_specs)/(len(pos_specs)+len(neg_specs))}')\n",
    "print(f'% neg (majority): {len(neg_specs)/(len(pos_specs)+len(neg_specs))}')"
   ]
  },
  {
   "cell_type": "code",
   "execution_count": 5,
   "id": "197ce73b",
   "metadata": {
    "ExecuteTime": {
     "end_time": "2021-06-06T10:07:24.456410Z",
     "start_time": "2021-06-06T10:06:49.347959Z"
    }
   },
   "outputs": [],
   "source": [
    "#standard scalar for each spectrogram\n",
    "#opt to standardize per input, not use mean/std of whole dataset\n",
    "#could still use re-scaling to get to smaller range, but sticking with this for now\n",
    "pos_specs = [(i-np.mean(i)) / np.std(i) for i in pos_specs]\n",
    "neg_specs = [(i-np.mean(i)) / np.std(i) for i in neg_specs]"
   ]
  },
  {
   "cell_type": "code",
   "execution_count": 6,
   "id": "55ded7ca",
   "metadata": {
    "ExecuteTime": {
     "end_time": "2021-06-06T10:07:41.080081Z",
     "start_time": "2021-06-06T10:07:41.071747Z"
    }
   },
   "outputs": [],
   "source": [
    "#data grouped by deployment site, shuffle before splitting\n",
    "random.shuffle(pos_specs)\n",
    "random.shuffle(neg_specs)"
   ]
  },
  {
   "cell_type": "code",
   "execution_count": 7,
   "id": "e255d2f7",
   "metadata": {
    "ExecuteTime": {
     "end_time": "2021-06-06T10:07:52.288043Z",
     "start_time": "2021-06-06T10:07:52.284851Z"
    }
   },
   "outputs": [],
   "source": [
    "#zip with labels so you know who's who\n",
    "pos_specs = list(zip(pos_specs, [1]*len(pos_specs)))\n",
    "neg_specs = list(zip(neg_specs, [0]*len(neg_specs)))"
   ]
  },
  {
   "cell_type": "code",
   "execution_count": 8,
   "id": "358ea030",
   "metadata": {
    "ExecuteTime": {
     "end_time": "2021-06-06T10:08:03.425409Z",
     "start_time": "2021-06-06T10:08:03.421663Z"
    }
   },
   "outputs": [
    {
     "name": "stdout",
     "output_type": "stream",
     "text": [
      "9 9\n",
      "588 1766\n"
     ]
    }
   ],
   "source": [
    "#subset totalling 2500 with 1:4 ratio (p:n) = 625 positives : 1875 negatives per subset\n",
    "poschunks = [pos_specs[i:i+625] for i in range(0, len(pos_specs), 625)]\n",
    "negchunks = [neg_specs[i:i+1875] for i in range(0, len(neg_specs), 1875)]\n",
    "print(len(poschunks), len(negchunks))\n",
    "print(len(poschunks[-1]), len(negchunks[-1])) #ratio still good in leftovers"
   ]
  },
  {
   "cell_type": "code",
   "execution_count": 12,
   "id": "0935fea8",
   "metadata": {
    "ExecuteTime": {
     "end_time": "2021-06-06T10:12:28.894610Z",
     "start_time": "2021-06-06T10:12:28.888641Z"
    }
   },
   "outputs": [
    {
     "data": {
      "text/plain": [
       "9"
      ]
     },
     "execution_count": 12,
     "metadata": {},
     "output_type": "execute_result"
    }
   ],
   "source": [
    "#concatenate pos and negatives to make whole tts set\n",
    "tts_list = [(poschunks[i] + negchunks[i]) for i in range(len(poschunks))]\n",
    "len(tts_list)"
   ]
  },
  {
   "cell_type": "code",
   "execution_count": 13,
   "id": "d71b9b20",
   "metadata": {
    "ExecuteTime": {
     "end_time": "2021-06-06T10:15:29.542849Z",
     "start_time": "2021-06-06T10:14:35.723045Z"
    }
   },
   "outputs": [],
   "source": [
    "#perform tts on each list item, export for use in model training sessions\n",
    "for i in range(len(tts_list)):\n",
    "    temp_spec, temp_lab = zip(*tts_list[i]) #unzip\n",
    "    temp_spec = np.array(temp_spec)\n",
    "    temp_lab = np.array(temp_lab)\n",
    "    X_train, X_test, y_train, y_test = train_test_split(temp_spec, temp_lab, \n",
    "                                                        random_state=42,\n",
    "                                                        stratify = temp_lab)\n",
    "    X_train = X_train.reshape(X_train.shape[0], 307, 460, 1)\n",
    "    X_test = X_test.reshape(X_test.shape[0], 307, 460, 1)\n",
    "    train_zip = list(zip(X_train, y_train))\n",
    "    test_zip = list(zip(X_test, y_test))\n",
    "    with open (f'../scratch_data/tts_chunked_sm/ch{i}_train.pkl', mode = 'wb') as pickle_out:\n",
    "        pickle.dump(train_zip, pickle_out)  \n",
    "    with open (f'../scratch_data/tts_chunked_sm/ch{i}_test.pkl', mode = 'wb') as pickle_out:\n",
    "        pickle.dump(test_zip, pickle_out)"
   ]
  },
  {
   "cell_type": "markdown",
   "id": "e07b055d",
   "metadata": {},
   "source": [
    "See you in modeling"
   ]
  }
 ],
 "metadata": {
  "kernelspec": {
   "display_name": "Python 3",
   "language": "python",
   "name": "python3"
  },
  "language_info": {
   "codemirror_mode": {
    "name": "ipython",
    "version": 3
   },
   "file_extension": ".py",
   "mimetype": "text/x-python",
   "name": "python",
   "nbconvert_exporter": "python",
   "pygments_lexer": "ipython3",
   "version": "3.8.8"
  },
  "varInspector": {
   "cols": {
    "lenName": 16,
    "lenType": 16,
    "lenVar": 40
   },
   "kernels_config": {
    "python": {
     "delete_cmd_postfix": "",
     "delete_cmd_prefix": "del ",
     "library": "var_list.py",
     "varRefreshCmd": "print(var_dic_list())"
    },
    "r": {
     "delete_cmd_postfix": ") ",
     "delete_cmd_prefix": "rm(",
     "library": "var_list.r",
     "varRefreshCmd": "cat(var_dic_list()) "
    }
   },
   "types_to_exclude": [
    "module",
    "function",
    "builtin_function_or_method",
    "instance",
    "_Feature"
   ],
   "window_display": false
  }
 },
 "nbformat": 4,
 "nbformat_minor": 5
}
