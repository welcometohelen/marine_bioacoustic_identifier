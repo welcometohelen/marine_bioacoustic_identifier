{
 "cells": [
  {
   "cell_type": "markdown",
   "id": "2230394d",
   "metadata": {},
   "source": [
    "## Model construction and training\n",
    "This notebook includes importing and unpacking data that have been preprocessed for model training and training CNN model vX. Details about other CNN model architectures tested so far are reported in the README summary. This training is only on the original spectrograms, in the format resulting from preprocessing. Incorporating the _augmented_ spectrograms into the training data occurs in the next notebook. These processes were kept separate in order to compare the results between models trained with and without augmented data.\n",
    "\n",
    "Spectrograms used for training here have already been **standardized** (standard-scaler within each array, not across whole dataset), **reshaped**, and train-test-splat into 9 subsets of equal pos:neg ratios.  \n",
    "\n",
    "This format is due to memory limitations: training the model on all data at once was not possible on my machine, nor on extra capacity from AWS.  The 9 train-test chunks are fed to the model sequentially. Trial and error proved that implementing EarlyStop helped overall model performance; in general, EarlyStop makes sense: it's more efficient, and allows a target metric to be tracked. However, with this subset format, that means that the model may train on each subset for a unique number of epochs. Thus this subset format is **not directly parallel** to training on all data at once.\n",
    "\n",
    "\n",
    "The basic architecture for this model is derived from deep learning networks used for marine mammal acoustics found in literature review. These sources were operating with data of different volumes, from different environments, and often to different ends (ie multiclass classification, or dealing with species unique calls & frequency ranges). Thus, no network from prior literature was ready 'out of the box' for this project, but they were a better starting point than completely winging it. NNs from these sources had to be made much shallower to fit within my memory limits.\n",
    "\n",
    "---\n",
    "Sources guiding CNN structure:  \n",
    "* [Padovese et al. 2021.](https://asa.scitation.org/doi/full/10.1121/10.0004258) Data augmentation for the classification of North Atlantic right whales upcalls. _Journal of the Acoustical Society of America_ 149:4.\n",
    "* [Thomas et al. 2019.](https://ecmlpkdd2019.org/downloads/paper/314.pdf) Marine Mammal Species Classification using CNN and a Novel Acoustic Representation. \n",
    "* [Shiu et al. 2020.](https://www.nature.com/articles/s41598-020-57549-y) Deep neural networks for automated detection of marine mammal species. _Nature: Scientific Reports_ 10:607.\n",
    "* I did not brush up on correct citation format. Please send all complaints to https://github.com/charles-rice"
   ]
  },
  {
   "cell_type": "code",
   "execution_count": 1,
   "id": "3a8bf573",
   "metadata": {
    "ExecuteTime": {
     "end_time": "2021-06-13T08:47:07.261127Z",
     "start_time": "2021-06-13T08:47:05.120899Z"
    }
   },
   "outputs": [],
   "source": [
    "import pandas as pd\n",
    "import numpy as np\n",
    "import matplotlib.pyplot as plt\n",
    "import pickle\n",
    "import os\n",
    "import gc\n",
    "\n",
    "from tensorflow.keras.models import Sequential\n",
    "from tensorflow.keras.layers import Dense, Dropout, Flatten, Conv2D, MaxPooling2D, BatchNormalization\n",
    "from tensorflow.keras import utils\n",
    "from tensorflow.keras.optimizers import Adam\n",
    "from tensorflow.keras.callbacks import EarlyStopping\n",
    "from tensorflow.keras.regularizers import l1, l2, l1_l2\n",
    "import tensorflow as tf\n",
    "\n",
    "\n",
    "import random\n",
    "random.seed(42)"
   ]
  },
  {
   "cell_type": "markdown",
   "id": "788e8d25",
   "metadata": {},
   "source": [
    "### Model architecture\n",
    "Basic LeNet construction, preceded by a Conv2D layer with a larger filter and stride to reduce dimensions quickly."
   ]
  },
  {
   "cell_type": "code",
   "execution_count": 2,
   "id": "fccab157",
   "metadata": {
    "ExecuteTime": {
     "end_time": "2021-06-13T08:47:07.305530Z",
     "start_time": "2021-06-13T08:47:07.261984Z"
    }
   },
   "outputs": [],
   "source": [
    "# 3 x convolutional layers with max pooling\n",
    "cnn = Sequential()\n",
    "cnn.add(Conv2D(filters = 8, \n",
    "               kernel_size=(11,11),\n",
    "               strides = (4,4), #kernel_size and stride from AlexNet\n",
    "               activation='relu', \n",
    "               input_shape=(610, 368, 1),\n",
    "               padding = 'valid')) # = no padding\n",
    "cnn.add(MaxPooling2D(pool_size = (3,3), strides=(2,2)))\n",
    "cnn.add(BatchNormalization())\n",
    "\n",
    "cnn.add(Conv2D(filters= 16, \n",
    "              kernel_size=(5,5), #LeNet uses 2xconv2d with 5x5 kernel, 2x2 pooling\n",
    "              activation='relu')) #default strides =1\n",
    "cnn.add(MaxPooling2D(pool_size = (2,2), strides=(2,2)))\n",
    "cnn.add(BatchNormalization())\n",
    "        \n",
    "cnn.add(Conv2D(filters = 16,\n",
    "               kernel_size = (5,5),\n",
    "               activation = 'relu'))\n",
    "cnn.add(MaxPooling2D(pool_size = (2,2), strides=(2,2)))  #output dim = 15 x 8 x 16 = 1920\n",
    "cnn.add(BatchNormalization())\n",
    "\n",
    "cnn.add(Flatten())\n",
    "\n",
    "#input nodes = # features\n",
    "cnn.add(Dense(1920, activation='relu')) #, kernel_regularizer=l2(.01))) not used in vX\n",
    "#cnn.add(Dropout(.2)) #not used in vX\n",
    "cnn.add(Dense(256, activation = 'relu')) #, kernel_regularizer=l2(.01)))\n",
    "#cnn.add(Dropout(.2))\n",
    "cnn.add(Dense(1, activation='sigmoid'))"
   ]
  },
  {
   "cell_type": "code",
   "execution_count": 3,
   "id": "25f0f44a",
   "metadata": {
    "ExecuteTime": {
     "end_time": "2021-06-13T08:47:07.308007Z",
     "start_time": "2021-06-13T08:47:07.306588Z"
    }
   },
   "outputs": [],
   "source": [
    "#lower learning rate\n",
    "slow_Adam = tf.keras.optimizers.Adam(learning_rate=.0001)"
   ]
  },
  {
   "cell_type": "code",
   "execution_count": 4,
   "id": "9fb0a1dd",
   "metadata": {
    "ExecuteTime": {
     "end_time": "2021-06-13T08:47:07.315206Z",
     "start_time": "2021-06-13T08:47:07.309049Z"
    }
   },
   "outputs": [],
   "source": [
    "# compile model\n",
    "cnn.compile(loss = 'binary_crossentropy', optimizer=slow_Adam, \n",
    "            metrics=['acc', 'Recall', 'Precision'])"
   ]
  },
  {
   "cell_type": "code",
   "execution_count": 5,
   "id": "8771a73c",
   "metadata": {
    "ExecuteTime": {
     "end_time": "2021-06-13T08:47:07.318467Z",
     "start_time": "2021-06-13T08:47:07.315923Z"
    }
   },
   "outputs": [
    {
     "name": "stdout",
     "output_type": "stream",
     "text": [
      "Model: \"sequential\"\n",
      "_________________________________________________________________\n",
      "Layer (type)                 Output Shape              Param #   \n",
      "=================================================================\n",
      "conv2d (Conv2D)              (None, 150, 90, 8)        976       \n",
      "_________________________________________________________________\n",
      "max_pooling2d (MaxPooling2D) (None, 74, 44, 8)         0         \n",
      "_________________________________________________________________\n",
      "batch_normalization (BatchNo (None, 74, 44, 8)         32        \n",
      "_________________________________________________________________\n",
      "conv2d_1 (Conv2D)            (None, 70, 40, 16)        3216      \n",
      "_________________________________________________________________\n",
      "max_pooling2d_1 (MaxPooling2 (None, 35, 20, 16)        0         \n",
      "_________________________________________________________________\n",
      "batch_normalization_1 (Batch (None, 35, 20, 16)        64        \n",
      "_________________________________________________________________\n",
      "conv2d_2 (Conv2D)            (None, 31, 16, 16)        6416      \n",
      "_________________________________________________________________\n",
      "max_pooling2d_2 (MaxPooling2 (None, 15, 8, 16)         0         \n",
      "_________________________________________________________________\n",
      "batch_normalization_2 (Batch (None, 15, 8, 16)         64        \n",
      "_________________________________________________________________\n",
      "flatten (Flatten)            (None, 1920)              0         \n",
      "_________________________________________________________________\n",
      "dense (Dense)                (None, 1920)              3688320   \n",
      "_________________________________________________________________\n",
      "dense_1 (Dense)              (None, 256)               491776    \n",
      "_________________________________________________________________\n",
      "dense_2 (Dense)              (None, 1)                 257       \n",
      "=================================================================\n",
      "Total params: 4,191,121\n",
      "Trainable params: 4,191,041\n",
      "Non-trainable params: 80\n",
      "_________________________________________________________________\n"
     ]
    }
   ],
   "source": [
    "cnn.summary()"
   ]
  },
  {
   "cell_type": "code",
   "execution_count": 6,
   "id": "907dae6a",
   "metadata": {
    "ExecuteTime": {
     "end_time": "2021-06-13T08:47:07.320364Z",
     "start_time": "2021-06-13T08:47:07.319079Z"
    }
   },
   "outputs": [],
   "source": [
    "#add earlystop\n",
    "early_stop = EarlyStopping(monitor='val_recall', patience = 5)"
   ]
  },
  {
   "cell_type": "markdown",
   "id": "33c90350",
   "metadata": {},
   "source": [
    "### Preview of a train-test subset"
   ]
  },
  {
   "cell_type": "code",
   "execution_count": 7,
   "id": "96a8baf5",
   "metadata": {
    "ExecuteTime": {
     "end_time": "2021-06-13T08:47:07.324484Z",
     "start_time": "2021-06-13T08:47:07.320983Z"
    }
   },
   "outputs": [
    {
     "data": {
      "text/plain": [
       "['ch5_test.pkl',\n",
       " 'ch4_test.pkl',\n",
       " 'ch7_train.pkl',\n",
       " 'ch1_train.pkl',\n",
       " 'ch6_train.pkl',\n",
       " 'ch8_test.pkl',\n",
       " 'ch2_test.pkl',\n",
       " 'ch3_test.pkl',\n",
       " 'ch0_train.pkl',\n",
       " 'ch8_train.pkl',\n",
       " 'ch5_train.pkl',\n",
       " 'ch6_test.pkl',\n",
       " 'ch7_test.pkl',\n",
       " 'ch3_train.pkl',\n",
       " 'ch1_test.pkl',\n",
       " 'ch0_test.pkl',\n",
       " 'ch4_train.pkl',\n",
       " 'ch2_train.pkl']"
      ]
     },
     "execution_count": 7,
     "metadata": {},
     "output_type": "execute_result"
    }
   ],
   "source": [
    "#import data, assign pos/neg\n",
    "in_path = '../scratch_data/tts_chunked/'\n",
    "files = os.listdir(in_path)\n",
    "files #chunks 0-8"
   ]
  },
  {
   "cell_type": "code",
   "execution_count": 8,
   "id": "89876015",
   "metadata": {
    "ExecuteTime": {
     "end_time": "2021-06-13T08:47:08.103775Z",
     "start_time": "2021-06-13T08:47:07.326464Z"
    }
   },
   "outputs": [],
   "source": [
    "with open (in_path+'ch0_train.pkl', mode = 'rb') as f:\n",
    "    ch0_train = pickle.load(f)\n",
    "with open (in_path+'ch0_test.pkl', mode = 'rb') as j:\n",
    "    ch0_test = pickle.load(j)"
   ]
  },
  {
   "cell_type": "code",
   "execution_count": 9,
   "id": "86ec0c4c",
   "metadata": {
    "ExecuteTime": {
     "end_time": "2021-06-13T08:47:08.243134Z",
     "start_time": "2021-06-13T08:47:08.105068Z"
    }
   },
   "outputs": [
    {
     "name": "stdout",
     "output_type": "stream",
     "text": [
      "X_train type and shape: <class 'numpy.ndarray'> (1875, 610, 368, 1)\n",
      "y_train type and shape: <class 'numpy.ndarray'> (1875,)\n"
     ]
    }
   ],
   "source": [
    "X_train0, y_train0 = list(zip(*ch0_train))\n",
    "X_train0 = np.array(X_train0)\n",
    "y_train0 = np.array(y_train0)\n",
    "print('X_train type and shape:', type(X_train0), X_train0.shape)\n",
    "print('y_train type and shape:', type(y_train0), y_train0.shape)"
   ]
  },
  {
   "cell_type": "code",
   "execution_count": 10,
   "id": "d7f63fa7",
   "metadata": {
    "ExecuteTime": {
     "end_time": "2021-06-13T08:47:08.292523Z",
     "start_time": "2021-06-13T08:47:08.243857Z"
    }
   },
   "outputs": [
    {
     "name": "stdout",
     "output_type": "stream",
     "text": [
      "X_test type and shape: <class 'numpy.ndarray'> (625, 610, 368, 1)\n",
      "y_test type and shape: <class 'numpy.ndarray'> (625,)\n"
     ]
    }
   ],
   "source": [
    "X_test0, y_test0 = list(zip(*ch0_test))\n",
    "X_test0 = np.array(X_test0)\n",
    "y_test0 = np.array(y_test0)\n",
    "print('X_test type and shape:', type(X_test0), X_test0.shape)\n",
    "print('y_test type and shape:', type(y_test0), y_test0.shape)"
   ]
  },
  {
   "cell_type": "code",
   "execution_count": 11,
   "id": "b0bf4879",
   "metadata": {
    "ExecuteTime": {
     "end_time": "2021-06-13T08:47:08.302947Z",
     "start_time": "2021-06-13T08:47:08.293343Z"
    }
   },
   "outputs": [
    {
     "name": "stdout",
     "output_type": "stream",
     "text": [
      "0    0.749867\n",
      "1    0.250133\n",
      "dtype: float64 \n",
      "\n",
      "0    0.7504\n",
      "1    0.2496\n",
      "dtype: float64\n"
     ]
    }
   ],
   "source": [
    "#confirm consistent y-stratification\n",
    "print(pd.Series(y_train0).value_counts(normalize=True),'\\n')\n",
    "print(pd.Series(y_test0).value_counts(normalize=True))"
   ]
  },
  {
   "cell_type": "markdown",
   "id": "e57b875c",
   "metadata": {},
   "source": [
    "### Fit model\n",
    "Verbose=1 here in order to monitor progress, apologies for the long output. Small batches necessary for memory."
   ]
  },
  {
   "cell_type": "code",
   "execution_count": 12,
   "id": "0d8568ce",
   "metadata": {
    "ExecuteTime": {
     "end_time": "2021-06-13T08:47:08.305980Z",
     "start_time": "2021-06-13T08:47:08.303740Z"
    }
   },
   "outputs": [],
   "source": [
    "#function to import, unzip, recast\n",
    "\n",
    "def pkl_to_CNN(train_file, test_file):\n",
    "    with open (in_path+train_file, mode = 'rb') as f:\n",
    "        temp_train = pickle.load(f)\n",
    "    with open (in_path+test_file, mode = 'rb') as j:\n",
    "        temp_test = pickle.load(j)\n",
    "        \n",
    "    X_train, y_train = list(zip(*temp_train))\n",
    "    X_test, y_test = list(zip(*temp_test))\n",
    "\n",
    "    return np.array(X_train), np.array(X_test), np.array(y_train), np.array(y_test)"
   ]
  },
  {
   "cell_type": "code",
   "execution_count": 13,
   "id": "53c8193a",
   "metadata": {
    "ExecuteTime": {
     "end_time": "2021-06-13T09:08:39.630463Z",
     "start_time": "2021-06-13T08:47:08.306678Z"
    }
   },
   "outputs": [
    {
     "name": "stdout",
     "output_type": "stream",
     "text": [
      "Epoch 1/300\n",
      "28/28 [==============================] - 17s 591ms/step - loss: 0.6702 - acc: 0.6559 - recall: 0.2305 - precision: 0.3090 - val_loss: 0.6819 - val_acc: 0.5806 - val_recall: 0.6395 - val_precision: 0.3264\n",
      "Epoch 2/300\n",
      "28/28 [==============================] - 16s 560ms/step - loss: 0.3407 - acc: 0.8609 - recall: 0.6146 - precision: 0.7691 - val_loss: 0.6462 - val_acc: 0.6672 - val_recall: 0.5442 - val_precision: 0.3828\n",
      "Epoch 3/300\n",
      "28/28 [==============================] - 16s 560ms/step - loss: 0.3551 - acc: 0.8527 - recall: 0.6290 - precision: 0.7495 - val_loss: 0.6193 - val_acc: 0.7148 - val_recall: 0.5306 - val_precision: 0.4407\n",
      "Epoch 4/300\n",
      "28/28 [==============================] - 16s 560ms/step - loss: 0.3516 - acc: 0.8478 - recall: 0.6009 - precision: 0.7498 - val_loss: 0.5909 - val_acc: 0.7402 - val_recall: 0.4966 - val_precision: 0.4803\n",
      "Epoch 5/300\n",
      "28/28 [==============================] - 16s 572ms/step - loss: 0.3451 - acc: 0.8518 - recall: 0.6042 - precision: 0.7068 - val_loss: 0.5671 - val_acc: 0.7606 - val_recall: 0.4694 - val_precision: 0.5227\n",
      "Epoch 6/300\n",
      "28/28 [==============================] - 16s 567ms/step - loss: 0.3367 - acc: 0.8614 - recall: 0.6128 - precision: 0.7309 - val_loss: 0.5484 - val_acc: 0.7708 - val_recall: 0.4626 - val_precision: 0.5484\n",
      "Epoch 7/300\n",
      "28/28 [==============================] - 16s 566ms/step - loss: 0.3604 - acc: 0.8421 - recall: 0.5856 - precision: 0.7392 - val_loss: 0.5344 - val_acc: 0.7759 - val_recall: 0.4490 - val_precision: 0.5641\n",
      "Epoch 8/300\n",
      "28/28 [==============================] - 16s 568ms/step - loss: 0.3388 - acc: 0.8655 - recall: 0.6142 - precision: 0.7790 - val_loss: 0.5250 - val_acc: 0.7759 - val_recall: 0.4286 - val_precision: 0.5676\n",
      "Epoch 9/300\n",
      "28/28 [==============================] - 16s 569ms/step - loss: 0.3437 - acc: 0.8638 - recall: 0.6456 - precision: 0.7822 - val_loss: 0.5183 - val_acc: 0.7759 - val_recall: 0.4150 - val_precision: 0.5701\n",
      "Epoch 10/300\n",
      "28/28 [==============================] - 16s 575ms/step - loss: 0.3557 - acc: 0.8438 - recall: 0.5887 - precision: 0.7519 - val_loss: 0.5134 - val_acc: 0.7725 - val_recall: 0.4082 - val_precision: 0.5607\n",
      "Epoch 11/300\n",
      "28/28 [==============================] - 16s 572ms/step - loss: 0.3557 - acc: 0.8572 - recall: 0.6158 - precision: 0.7871 - val_loss: 0.5096 - val_acc: 0.7725 - val_recall: 0.4082 - val_precision: 0.5607\n",
      "Epoch 12/300\n",
      "28/28 [==============================] - 16s 573ms/step - loss: 0.3642 - acc: 0.8426 - recall: 0.5853 - precision: 0.7579 - val_loss: 0.5066 - val_acc: 0.7674 - val_recall: 0.3878 - val_precision: 0.5481\n",
      "Epoch 13/300\n",
      "28/28 [==============================] - 16s 575ms/step - loss: 0.3440 - acc: 0.8571 - recall: 0.6188 - precision: 0.7800 - val_loss: 0.5043 - val_acc: 0.7674 - val_recall: 0.3878 - val_precision: 0.5481\n",
      "Epoch 14/300\n",
      "28/28 [==============================] - 16s 575ms/step - loss: 0.3490 - acc: 0.8641 - recall: 0.6232 - precision: 0.7881 - val_loss: 0.5027 - val_acc: 0.7725 - val_recall: 0.3878 - val_precision: 0.5644\n",
      "Epoch 15/300\n",
      "28/28 [==============================] - 16s 577ms/step - loss: 0.3497 - acc: 0.8569 - recall: 0.6218 - precision: 0.7762 - val_loss: 0.5015 - val_acc: 0.7708 - val_recall: 0.3878 - val_precision: 0.5588\n",
      "Epoch 16/300\n",
      "28/28 [==============================] - 16s 575ms/step - loss: 0.3449 - acc: 0.8452 - recall: 0.5906 - precision: 0.7286 - val_loss: 0.5006 - val_acc: 0.7708 - val_recall: 0.3810 - val_precision: 0.5600\n",
      "Epoch 17/300\n",
      "28/28 [==============================] - 16s 578ms/step - loss: 0.3573 - acc: 0.8488 - recall: 0.5819 - precision: 0.7585 - val_loss: 0.5000 - val_acc: 0.7725 - val_recall: 0.3810 - val_precision: 0.5657\n",
      "Epoch 18/300\n",
      "28/28 [==============================] - 16s 579ms/step - loss: 0.3413 - acc: 0.8574 - recall: 0.5850 - precision: 0.7536 - val_loss: 0.4995 - val_acc: 0.7742 - val_recall: 0.3810 - val_precision: 0.5714\n",
      "Epoch 19/300\n",
      "28/28 [==============================] - 17s 582ms/step - loss: 0.3369 - acc: 0.8615 - recall: 0.6280 - precision: 0.7754 - val_loss: 0.4991 - val_acc: 0.7742 - val_recall: 0.3810 - val_precision: 0.5714\n",
      "Epoch 20/300\n",
      "28/28 [==============================] - 17s 584ms/step - loss: 0.3528 - acc: 0.8484 - recall: 0.5922 - precision: 0.7255 - val_loss: 0.4988 - val_acc: 0.7776 - val_recall: 0.3878 - val_precision: 0.5816\n",
      "Epoch 21/300\n",
      "28/28 [==============================] - 16s 581ms/step - loss: 0.3504 - acc: 0.8566 - recall: 0.5991 - precision: 0.7882 - val_loss: 0.4987 - val_acc: 0.7776 - val_recall: 0.3878 - val_precision: 0.5816\n",
      "\n",
      "\n",
      "        chunk 1 of 9 fit\n",
      "\n",
      "\n",
      "Epoch 1/300\n",
      "30/30 [==============================] - 18s 593ms/step - loss: 0.5159 - acc: 0.7552 - recall: 0.3603 - precision: 0.5152 - val_loss: 0.5349 - val_acc: 0.7776 - val_recall: 0.3269 - val_precision: 0.6000\n",
      "Epoch 2/300\n",
      "30/30 [==============================] - 17s 572ms/step - loss: 0.5154 - acc: 0.7552 - recall: 0.3603 - precision: 0.5152 - val_loss: 0.5351 - val_acc: 0.7760 - val_recall: 0.3269 - val_precision: 0.5930\n",
      "Epoch 3/300\n",
      "30/30 [==============================] - 17s 572ms/step - loss: 0.5159 - acc: 0.7584 - recall: 0.3582 - precision: 0.5250 - val_loss: 0.5353 - val_acc: 0.7760 - val_recall: 0.3269 - val_precision: 0.5930\n",
      "Epoch 4/300\n",
      "30/30 [==============================] - 17s 575ms/step - loss: 0.5159 - acc: 0.7563 - recall: 0.3603 - precision: 0.5184 - val_loss: 0.5355 - val_acc: 0.7760 - val_recall: 0.3269 - val_precision: 0.5930\n",
      "Epoch 5/300\n",
      "30/30 [==============================] - 18s 583ms/step - loss: 0.5150 - acc: 0.7541 - recall: 0.3497 - precision: 0.5125 - val_loss: 0.5356 - val_acc: 0.7760 - val_recall: 0.3269 - val_precision: 0.5930\n",
      "Epoch 6/300\n",
      "30/30 [==============================] - 18s 581ms/step - loss: 0.5152 - acc: 0.7531 - recall: 0.3518 - precision: 0.5093 - val_loss: 0.5356 - val_acc: 0.7744 - val_recall: 0.3269 - val_precision: 0.5862\n",
      "\n",
      "\n",
      "        chunk 2 of 9 fit\n",
      "\n",
      "\n",
      "Epoch 1/300\n",
      "30/30 [==============================] - 18s 580ms/step - loss: 0.4943 - acc: 0.7813 - recall: 0.4030 - precision: 0.5925 - val_loss: 0.5251 - val_acc: 0.7568 - val_recall: 0.2885 - val_precision: 0.5233\n",
      "Epoch 2/300\n",
      "30/30 [==============================] - 17s 574ms/step - loss: 0.4947 - acc: 0.7813 - recall: 0.3987 - precision: 0.5937 - val_loss: 0.5250 - val_acc: 0.7568 - val_recall: 0.2885 - val_precision: 0.5233\n",
      "Epoch 3/300\n",
      "30/30 [==============================] - 17s 575ms/step - loss: 0.4937 - acc: 0.7835 - recall: 0.4072 - precision: 0.5987 - val_loss: 0.5248 - val_acc: 0.7568 - val_recall: 0.2885 - val_precision: 0.5233\n",
      "Epoch 4/300\n",
      "30/30 [==============================] - 18s 606ms/step - loss: 0.4938 - acc: 0.7787 - recall: 0.3859 - precision: 0.5877 - val_loss: 0.5248 - val_acc: 0.7552 - val_recall: 0.2821 - val_precision: 0.5176\n",
      "Epoch 5/300\n",
      "30/30 [==============================] - 18s 588ms/step - loss: 0.4953 - acc: 0.7781 - recall: 0.3923 - precision: 0.5841 - val_loss: 0.5248 - val_acc: 0.7552 - val_recall: 0.2821 - val_precision: 0.5176\n",
      "Epoch 6/300\n",
      "30/30 [==============================] - 18s 585ms/step - loss: 0.4926 - acc: 0.7829 - recall: 0.4030 - precision: 0.5981 - val_loss: 0.5247 - val_acc: 0.7552 - val_recall: 0.2821 - val_precision: 0.5176\n",
      "Epoch 7/300\n",
      "30/30 [==============================] - 18s 583ms/step - loss: 0.4949 - acc: 0.7787 - recall: 0.3966 - precision: 0.5849 - val_loss: 0.5247 - val_acc: 0.7552 - val_recall: 0.2821 - val_precision: 0.5176\n",
      "Epoch 8/300\n",
      "30/30 [==============================] - 18s 583ms/step - loss: 0.4950 - acc: 0.7792 - recall: 0.3966 - precision: 0.5868 - val_loss: 0.5247 - val_acc: 0.7568 - val_recall: 0.2885 - val_precision: 0.5233\n",
      "Epoch 9/300\n",
      "30/30 [==============================] - 18s 588ms/step - loss: 0.4941 - acc: 0.7781 - recall: 0.3923 - precision: 0.5841 - val_loss: 0.5246 - val_acc: 0.7568 - val_recall: 0.2885 - val_precision: 0.5233\n",
      "\n",
      "\n",
      "        chunk 3 of 9 fit\n",
      "\n",
      "\n",
      "Epoch 1/300\n",
      "30/30 [==============================] - 18s 586ms/step - loss: 0.5066 - acc: 0.7755 - recall: 0.3881 - precision: 0.5759 - val_loss: 0.5154 - val_acc: 0.7584 - val_recall: 0.3462 - val_precision: 0.5243\n",
      "Epoch 2/300\n"
     ]
    },
    {
     "name": "stdout",
     "output_type": "stream",
     "text": [
      "30/30 [==============================] - 17s 580ms/step - loss: 0.5072 - acc: 0.7717 - recall: 0.3859 - precision: 0.5639 - val_loss: 0.5155 - val_acc: 0.7584 - val_recall: 0.3462 - val_precision: 0.5243\n",
      "Epoch 3/300\n",
      "30/30 [==============================] - 18s 582ms/step - loss: 0.5059 - acc: 0.7696 - recall: 0.3710 - precision: 0.5595 - val_loss: 0.5156 - val_acc: 0.7584 - val_recall: 0.3462 - val_precision: 0.5243\n",
      "Epoch 4/300\n",
      "30/30 [==============================] - 18s 592ms/step - loss: 0.5065 - acc: 0.7701 - recall: 0.3795 - precision: 0.5597 - val_loss: 0.5157 - val_acc: 0.7584 - val_recall: 0.3462 - val_precision: 0.5243\n",
      "Epoch 5/300\n",
      "30/30 [==============================] - 19s 591ms/step - loss: 0.5065 - acc: 0.7723 - recall: 0.3795 - precision: 0.5669 - val_loss: 0.5157 - val_acc: 0.7584 - val_recall: 0.3462 - val_precision: 0.5243\n",
      "Epoch 6/300\n",
      "30/30 [==============================] - 18s 584ms/step - loss: 0.5081 - acc: 0.7717 - recall: 0.3710 - precision: 0.5668 - val_loss: 0.5157 - val_acc: 0.7584 - val_recall: 0.3462 - val_precision: 0.5243\n",
      "\n",
      "\n",
      "        chunk 4 of 9 fit\n",
      "\n",
      "\n",
      "Epoch 1/300\n",
      "30/30 [==============================] - 18s 588ms/step - loss: 0.5154 - acc: 0.7712 - recall: 0.3497 - precision: 0.5694 - val_loss: 0.5147 - val_acc: 0.7504 - val_recall: 0.3590 - val_precision: 0.5000\n",
      "Epoch 2/300\n",
      "30/30 [==============================] - 18s 589ms/step - loss: 0.5151 - acc: 0.7739 - recall: 0.3603 - precision: 0.5768 - val_loss: 0.5146 - val_acc: 0.7504 - val_recall: 0.3590 - val_precision: 0.5000\n",
      "Epoch 3/300\n",
      "30/30 [==============================] - 18s 582ms/step - loss: 0.5136 - acc: 0.7691 - recall: 0.3475 - precision: 0.5621 - val_loss: 0.5146 - val_acc: 0.7504 - val_recall: 0.3590 - val_precision: 0.5000\n",
      "Epoch 4/300\n",
      "30/30 [==============================] - 18s 589ms/step - loss: 0.5156 - acc: 0.7728 - recall: 0.3497 - precision: 0.5754 - val_loss: 0.5146 - val_acc: 0.7504 - val_recall: 0.3590 - val_precision: 0.5000\n",
      "Epoch 5/300\n",
      "30/30 [==============================] - 19s 590ms/step - loss: 0.5137 - acc: 0.7712 - recall: 0.3475 - precision: 0.5699 - val_loss: 0.5146 - val_acc: 0.7504 - val_recall: 0.3590 - val_precision: 0.5000\n",
      "Epoch 6/300\n",
      "30/30 [==============================] - 18s 593ms/step - loss: 0.5144 - acc: 0.7739 - recall: 0.3561 - precision: 0.5779 - val_loss: 0.5146 - val_acc: 0.7504 - val_recall: 0.3590 - val_precision: 0.5000\n",
      "\n",
      "\n",
      "        chunk 5 of 9 fit\n",
      "\n",
      "\n",
      "Epoch 1/300\n",
      "30/30 [==============================] - 18s 585ms/step - loss: 0.4978 - acc: 0.7835 - recall: 0.4094 - precision: 0.5981 - val_loss: 0.4963 - val_acc: 0.7952 - val_recall: 0.4295 - val_precision: 0.6321\n",
      "Epoch 2/300\n",
      "30/30 [==============================] - 18s 583ms/step - loss: 0.4980 - acc: 0.7808 - recall: 0.4072 - precision: 0.5895 - val_loss: 0.4963 - val_acc: 0.7952 - val_recall: 0.4295 - val_precision: 0.6321\n",
      "Epoch 3/300\n",
      "30/30 [==============================] - 17s 581ms/step - loss: 0.4993 - acc: 0.7835 - recall: 0.4094 - precision: 0.5981 - val_loss: 0.4962 - val_acc: 0.7968 - val_recall: 0.4359 - val_precision: 0.6355\n",
      "Epoch 4/300\n",
      "30/30 [==============================] - 17s 581ms/step - loss: 0.4983 - acc: 0.7835 - recall: 0.4094 - precision: 0.5981 - val_loss: 0.4962 - val_acc: 0.7968 - val_recall: 0.4359 - val_precision: 0.6355\n",
      "Epoch 5/300\n",
      "30/30 [==============================] - 19s 623ms/step - loss: 0.4990 - acc: 0.7824 - recall: 0.4136 - precision: 0.5933 - val_loss: 0.4962 - val_acc: 0.7968 - val_recall: 0.4359 - val_precision: 0.6355\n",
      "Epoch 6/300\n",
      "30/30 [==============================] - 18s 599ms/step - loss: 0.4979 - acc: 0.7808 - recall: 0.4094 - precision: 0.5890 - val_loss: 0.4963 - val_acc: 0.7968 - val_recall: 0.4359 - val_precision: 0.6355\n",
      "\n",
      "\n",
      "        chunk 6 of 9 fit\n",
      "\n",
      "\n",
      "Epoch 1/300\n",
      "30/30 [==============================] - 18s 588ms/step - loss: 0.5094 - acc: 0.7813 - recall: 0.3753 - precision: 0.6007 - val_loss: 0.5171 - val_acc: 0.7424 - val_recall: 0.2885 - val_precision: 0.4737\n",
      "Epoch 2/300\n",
      "30/30 [==============================] - 18s 582ms/step - loss: 0.5116 - acc: 0.7803 - recall: 0.3710 - precision: 0.5979 - val_loss: 0.5171 - val_acc: 0.7424 - val_recall: 0.2885 - val_precision: 0.4737\n",
      "Epoch 3/300\n",
      "30/30 [==============================] - 17s 581ms/step - loss: 0.5108 - acc: 0.7765 - recall: 0.3561 - precision: 0.5880 - val_loss: 0.5171 - val_acc: 0.7408 - val_recall: 0.2885 - val_precision: 0.4688\n",
      "Epoch 4/300\n",
      "30/30 [==============================] - 18s 597ms/step - loss: 0.5101 - acc: 0.7776 - recall: 0.3646 - precision: 0.5897 - val_loss: 0.5170 - val_acc: 0.7408 - val_recall: 0.2885 - val_precision: 0.4688\n",
      "Epoch 5/300\n",
      "30/30 [==============================] - 19s 597ms/step - loss: 0.5112 - acc: 0.7771 - recall: 0.3710 - precision: 0.5859 - val_loss: 0.5170 - val_acc: 0.7408 - val_recall: 0.2885 - val_precision: 0.4688\n",
      "Epoch 6/300\n",
      "30/30 [==============================] - 18s 594ms/step - loss: 0.5118 - acc: 0.7787 - recall: 0.3667 - precision: 0.5931 - val_loss: 0.5170 - val_acc: 0.7408 - val_recall: 0.2885 - val_precision: 0.4688\n",
      "\n",
      "\n",
      "        chunk 7 of 9 fit\n",
      "\n",
      "\n",
      "Epoch 1/300\n",
      "30/30 [==============================] - 18s 589ms/step - loss: 0.5092 - acc: 0.7648 - recall: 0.3454 - precision: 0.5473 - val_loss: 0.5245 - val_acc: 0.7552 - val_recall: 0.2885 - val_precision: 0.5172\n",
      "Epoch 2/300\n",
      "30/30 [==============================] - 18s 582ms/step - loss: 0.5100 - acc: 0.7659 - recall: 0.3497 - precision: 0.5503 - val_loss: 0.5246 - val_acc: 0.7552 - val_recall: 0.2885 - val_precision: 0.5172\n",
      "Epoch 3/300\n",
      "30/30 [==============================] - 18s 583ms/step - loss: 0.5104 - acc: 0.7659 - recall: 0.3454 - precision: 0.5510 - val_loss: 0.5247 - val_acc: 0.7552 - val_recall: 0.2885 - val_precision: 0.5172\n",
      "Epoch 4/300\n",
      "30/30 [==============================] - 18s 590ms/step - loss: 0.5091 - acc: 0.7685 - recall: 0.3603 - precision: 0.5578 - val_loss: 0.5248 - val_acc: 0.7552 - val_recall: 0.2885 - val_precision: 0.5172\n",
      "Epoch 5/300\n",
      "30/30 [==============================] - 19s 595ms/step - loss: 0.5103 - acc: 0.7712 - recall: 0.3539 - precision: 0.5685 - val_loss: 0.5248 - val_acc: 0.7552 - val_recall: 0.2885 - val_precision: 0.5172\n",
      "Epoch 6/300\n",
      "30/30 [==============================] - 18s 594ms/step - loss: 0.5109 - acc: 0.7691 - recall: 0.3561 - precision: 0.5604 - val_loss: 0.5249 - val_acc: 0.7552 - val_recall: 0.2885 - val_precision: 0.5172\n",
      "\n",
      "\n",
      "        chunk 8 of 9 fit\n",
      "\n",
      "\n",
      "Epoch 1/300\n",
      "30/30 [==============================] - 18s 593ms/step - loss: 0.4991 - acc: 0.7808 - recall: 0.3795 - precision: 0.5973 - val_loss: 0.5194 - val_acc: 0.7616 - val_recall: 0.3397 - val_precision: 0.5354\n",
      "Epoch 2/300\n",
      "30/30 [==============================] - 20s 661ms/step - loss: 0.4977 - acc: 0.7808 - recall: 0.3774 - precision: 0.5980 - val_loss: 0.5195 - val_acc: 0.7616 - val_recall: 0.3397 - val_precision: 0.5354\n",
      "Epoch 3/300\n",
      "30/30 [==============================] - 19s 624ms/step - loss: 0.4978 - acc: 0.7840 - recall: 0.3923 - precision: 0.6053 - val_loss: 0.5195 - val_acc: 0.7616 - val_recall: 0.3397 - val_precision: 0.5354\n",
      "Epoch 4/300\n",
      "30/30 [==============================] - 19s 613ms/step - loss: 0.4985 - acc: 0.7835 - recall: 0.3881 - precision: 0.6047 - val_loss: 0.5196 - val_acc: 0.7616 - val_recall: 0.3397 - val_precision: 0.5354\n",
      "Epoch 5/300\n",
      "30/30 [==============================] - 19s 623ms/step - loss: 0.4980 - acc: 0.7829 - recall: 0.3945 - precision: 0.6006 - val_loss: 0.5196 - val_acc: 0.7616 - val_recall: 0.3397 - val_precision: 0.5354\n",
      "Epoch 6/300\n",
      "30/30 [==============================] - 19s 613ms/step - loss: 0.4986 - acc: 0.7829 - recall: 0.3966 - precision: 0.6000 - val_loss: 0.5196 - val_acc: 0.7616 - val_recall: 0.3397 - val_precision: 0.5354\n",
      "\n",
      "\n",
      "        chunk 9 of 9 fit\n",
      "\n",
      "\n"
     ]
    }
   ],
   "source": [
    "histlist = [] #save history for each subset fit\n",
    "for i in range(0,9):\n",
    "    #{8-i} to fit in reverse\n",
    "    X_train, X_test, y_train, y_test = pkl_to_CNN(f'ch{8-i}_train.pkl', f'ch{8-i}_test.pkl')\n",
    "\n",
    "    history = cnn.fit(X_train, y_train,\n",
    "                      batch_size=64,\n",
    "                      validation_data = (X_test, y_test),\n",
    "                      epochs = 300, #overkill because earlystop\n",
    "                      callbacks = early_stop, verbose=1)\n",
    "    histlist.append(history.history)\n",
    "    \n",
    "    if i<8: #probably gratuitous\n",
    "        del X_train, X_test, y_train, y_test\n",
    "        gc.collect()\n",
    "    \n",
    "    print(f'\\n\\n        chunk {i+1} of 9 fit\\n\\n')"
   ]
  },
  {
   "cell_type": "code",
   "execution_count": 14,
   "id": "e3aadb38",
   "metadata": {
    "ExecuteTime": {
     "end_time": "2021-06-13T09:08:40.508999Z",
     "start_time": "2021-06-13T09:08:39.633511Z"
    }
   },
   "outputs": [
    {
     "name": "stderr",
     "output_type": "stream",
     "text": [
      "/Users/helenmeigs/miniforge3/envs/tensorflow_env/lib/python3.8/site-packages/tensorflow/python/keras/engine/training.py:2325: UserWarning: `Model.state_updates` will be removed in a future version. This property should not be used in TensorFlow 2.0, as `updates` are applied automatically.\n",
      "  warnings.warn('`Model.state_updates` will be removed in a future version. '\n",
      "/Users/helenmeigs/miniforge3/envs/tensorflow_env/lib/python3.8/site-packages/tensorflow/python/keras/engine/base_layer.py:1397: UserWarning: `layer.updates` will be removed in a future version. This property should not be used in TensorFlow 2.0, as `updates` are applied automatically.\n",
      "  warnings.warn('`layer.updates` will be removed in a future version. '\n"
     ]
    },
    {
     "name": "stdout",
     "output_type": "stream",
     "text": [
      "WARNING:tensorflow:FOR KERAS USERS: The object that you are saving contains one or more Keras models or layers. If you are loading the SavedModel with `tf.keras.models.load_model`, continue reading (otherwise, you may ignore the following instructions). Please change your code to save with `tf.keras.models.save_model` or `model.save`, and confirm that the file \"keras.metadata\" exists in the export directory. In the future, Keras will only load the SavedModels that have this file. In other words, `tf.saved_model.save` will no longer write SavedModels that can be recovered as Keras models (this will apply in TF 2.5).\n",
      "\n",
      "FOR DEVS: If you are overwriting _tracking_metadata in your class, this property has been used to save metadata in the SavedModel. The metadta field will be deprecated soon, so please move the metadata to a different file.\n",
      "INFO:tensorflow:Assets written to: ../data/models/vX_rev2_nomasks/assets\n"
     ]
    }
   ],
   "source": [
    "#first things first save results before kernel dies!\n",
    "tf.keras.models.save_model(cnn, '../data/models/vX_rev2_nomasks')"
   ]
  },
  {
   "cell_type": "code",
   "execution_count": 15,
   "id": "ccf5bf87",
   "metadata": {
    "ExecuteTime": {
     "end_time": "2021-06-13T09:08:40.512164Z",
     "start_time": "2021-06-13T09:08:40.509750Z"
    }
   },
   "outputs": [],
   "source": [
    "with open ('../data/models/histories/vX_rev2_hist.pkl', mode = 'wb') as f:\n",
    "    pickle.dump(histlist, f)"
   ]
  },
  {
   "cell_type": "markdown",
   "id": "e6c08156",
   "metadata": {},
   "source": [
    "### Investigate\n",
    "Final evaluation of all model versions is on holdout test set in later notebook. For now, we've retained the last train-test subset in memory to at least look at _A_ score."
   ]
  },
  {
   "cell_type": "code",
   "execution_count": 16,
   "id": "e366babb",
   "metadata": {
    "ExecuteTime": {
     "end_time": "2021-06-13T09:08:41.132461Z",
     "start_time": "2021-06-13T09:08:40.512843Z"
    }
   },
   "outputs": [
    {
     "name": "stdout",
     "output_type": "stream",
     "text": [
      "20/20 [==============================] - 0s 17ms/step - loss: 0.5196 - acc: 0.7616 - recall: 0.3397 - precision: 0.5354\n",
      "CNN final subset loss : 0.5195947885513306\n",
      "CNN final subset acc : 0.7616000175476074\n",
      "CNN final subset recall : 0.33974358439445496\n",
      "CNN final subset precision : 0.5353535413742065\n"
     ]
    }
   ],
   "source": [
    "cnn_score = cnn.evaluate(X_test, y_test, verbose=1)\n",
    "cnn_labels = cnn.metrics_names\n",
    "for i in range(len(cnn_labels)):\n",
    "    print(f'CNN final subset {cnn_labels[i]} : {cnn_score[i]}')"
   ]
  },
  {
   "cell_type": "code",
   "execution_count": 17,
   "id": "28baf917",
   "metadata": {
    "ExecuteTime": {
     "end_time": "2021-06-13T09:08:41.135221Z",
     "start_time": "2021-06-13T09:08:41.133160Z"
    }
   },
   "outputs": [
    {
     "data": {
      "text/plain": [
       "[21, 6, 9, 6, 6, 6, 6, 6, 6]"
      ]
     },
     "execution_count": 17,
     "metadata": {},
     "output_type": "execute_result"
    }
   ],
   "source": [
    "#epochs per subset\n",
    "num_epochs = [len(i['loss']) for i in histlist]\n",
    "num_epochs"
   ]
  },
  {
   "cell_type": "markdown",
   "id": "10ffad81",
   "metadata": {},
   "source": [
    "### Visualize\n",
    "Recall is priority classification metric here. Small subsets and few epochs make these visualizations not exactly compelling, but it's what we're working with."
   ]
  },
  {
   "cell_type": "code",
   "execution_count": 18,
   "id": "835b3c3d",
   "metadata": {
    "ExecuteTime": {
     "end_time": "2021-06-13T09:08:41.646928Z",
     "start_time": "2021-06-13T09:08:41.135908Z"
    }
   },
   "outputs": [
    {
     "data": {
      "image/png": "[encoded data removed]",
      "text/plain": [
       "<Figure size 432x288 with 1 Axes>"
      ]
     },
     "metadata": {
      "needs_background": "light"
     },
     "output_type": "display_data"
    },
    {
     "data": {
      "image/png": "[encoded data removed]",
      "text/plain": [
       "<Figure size 432x288 with 1 Axes>"
      ]
     },
     "metadata": {
      "needs_background": "light"
     },
     "output_type": "display_data"
    },
    {
     "data": {
      "image/png": "[encoded data removed]",
      "text/plain": [
       "<Figure size 432x288 with 1 Axes>"
      ]
     },
     "metadata": {
      "needs_background": "light"
     },
     "output_type": "display_data"
    },
    {
     "data": {
      "image/png": "[encoded data removed]",
      "text/plain": [
       "<Figure size 432x288 with 1 Axes>"
      ]
     },
     "metadata": {
      "needs_background": "light"
     },
     "output_type": "display_data"
    },
    {
     "data": {
      "image/png": "[encoded data removed]",
      "text/plain": [
       "<Figure size 432x288 with 1 Axes>"
      ]
     },
     "metadata": {
      "needs_background": "light"
     },
     "output_type": "display_data"
    },
    {
     "data": {
      "image/png": "[encoded data removed]",
      "text/plain": [
       "<Figure size 432x288 with 1 Axes>"
      ]
     },
     "metadata": {
      "needs_background": "light"
     },
     "output_type": "display_data"
    },
    {
     "data": {
      "image/png": "[encoded data removed]",
      "text/plain": [
       "<Figure size 432x288 with 1 Axes>"
      ]
     },
     "metadata": {
      "needs_background": "light"
     },
     "output_type": "display_data"
    },
    {
     "data": {
      "image/png": "[encoded data removed]",
      "text/plain": [
       "<Figure size 432x288 with 1 Axes>"
      ]
     },
     "metadata": {
      "needs_background": "light"
     },
     "output_type": "display_data"
    },
    {
     "data": {
      "image/png": "[encoded data removed]",
      "text/plain": [
       "<Figure size 432x288 with 1 Axes>"
      ]
     },
     "metadata": {
      "needs_background": "light"
     },
     "output_type": "display_data"
    }
   ],
   "source": [
    "for i in range(len(histlist)):\n",
    "    plt.figure()\n",
    "    plt.plot(histlist[i]['recall'], label='Training recall')\n",
    "    plt.plot(histlist[i]['val_recall'], label='Testing recall')\n",
    "    plt.legend();"
   ]
  },
  {
   "cell_type": "markdown",
   "id": "95aac35c",
   "metadata": {},
   "source": [
    "### Next Steps\n",
    "* The next step in this project is to include the augmented data that we generated earlier.   \n",
    "\n",
    "vX is the best scoring model so far, and likely represents the maximum recall achievable with this depth of neural network. External server options were pursued but still did not allow for fitting the entire dataset at once, let alone increasing CNN depth.\n",
    "\n",
    "For optimum performance (outside the scope of this project for now), this neural net needs to be deeper. Given more memory and GPU access, first step would be to at least **double the number of filters** in each Conv2D layer. Secondly, most marine mammal acoustic CNNs utilize many _more_ Conv2D layers in addition to higher filter count."
   ]
  }
 ],
 "metadata": {
  "kernelspec": {
   "display_name": "Python 3",
   "language": "python",
   "name": "python3"
  },
  "language_info": {
   "codemirror_mode": {
    "name": "ipython",
    "version": 3
   },
   "file_extension": ".py",
   "mimetype": "text/x-python",
   "name": "python",
   "nbconvert_exporter": "python",
   "pygments_lexer": "ipython3",
   "version": "3.8.8"
  },
  "varInspector": {
   "cols": {
    "lenName": 16,
    "lenType": 16,
    "lenVar": 40
   },
   "kernels_config": {
    "python": {
     "delete_cmd_postfix": "",
     "delete_cmd_prefix": "del ",
     "library": "var_list.py",
     "varRefreshCmd": "print(var_dic_list())"
    },
    "r": {
     "delete_cmd_postfix": ") ",
     "delete_cmd_prefix": "rm(",
     "library": "var_list.r",
     "varRefreshCmd": "cat(var_dic_list()) "
    }
   },
   "types_to_exclude": [
    "module",
    "function",
    "builtin_function_or_method",
    "instance",
    "_Feature"
   ],
   "window_display": false
  }
 },
 "nbformat": 4,
 "nbformat_minor": 5
}
