{
 "cells": [
  {
   "cell_type": "markdown",
   "id": "2230394d",
   "metadata": {},
   "source": [
    "## Model construction and training\n",
    "This notebook includes importing and unpacking data that have been preprocessed for model training and training CNN model vX. Details about other CNN model architectures tested so far are reported in the README summary. This training is only on the original spectrograms, in the format resulting from preprocessing. Incorporating the _augmented_ spectrograms into the training data occurs in the next notebook. These processes were kept separate in order to compare the results between models trained with and without augmented data.\n",
    "\n",
    "Spectrograms used for training here have already been **standardized** (standard-scaler within each array, not across whole dataset), **reshaped**, and train-test-splat into 9 subsets of equal pos:neg ratios.  \n",
    "\n",
    "This format is due to memory limitations: training the model on all data at once was not possible on my machine, nor on extra capacity from AWS.  The 9 train-test chunks are fed to the model sequentially. Trial and error proved that implementing EarlyStop helped overall model performance; in general, EarlyStop makes sense: it's more efficient, and allows a target metric to be tracked. However, with this subset format, that means that the model may train on each subset for a unique number of epochs. Thus this subset format is **not directly parallel** to training on all data at once.\n",
    "\n",
    "\n",
    "The basic architecture for this model is derived from deep learning networks used for marine mammal acoustics found in literature review. These sources were operating with data of different volumes, from different environments, and often to different ends (ie multiclass classification, or dealing with species unique calls & frequency ranges). Thus, no network from prior literature was ready 'out of the box' for this project, but they were a better starting point than completely winging it. NNs from these sources had to be made much shallower to fit within my memory limits.\n",
    "\n",
    "---\n",
    "Sources guiding CNN structure:  \n",
    "* [Padovese et al. 2021.](https://asa.scitation.org/doi/full/10.1121/10.0004258) Data augmentation for the classification of North Atlantic right whales upcalls. _Journal of the Acoustical Society of America_ 149:4.\n",
    "* [Thomas et al. 2019.](https://ecmlpkdd2019.org/downloads/paper/314.pdf) Marine Mammal Species Classification using CNN and a Novel Acoustic Representation. \n",
    "* [Shiu et al. 2020.](https://www.nature.com/articles/s41598-020-57549-y) Deep neural networks for automated detection of marine mammal species. _Nature: Scientific Reports_ 10:607.\n",
    "* I did not brush up on correct citation format. Please send all complaints to https://github.com/charles-rice"
   ]
  },
  {
   "cell_type": "code",
   "execution_count": 1,
   "id": "3a8bf573",
   "metadata": {
    "ExecuteTime": {
     "end_time": "2021-06-12T23:40:36.413851Z",
     "start_time": "2021-06-12T23:40:34.669986Z"
    }
   },
   "outputs": [],
   "source": [
    "import pandas as pd\n",
    "import numpy as np\n",
    "import matplotlib.pyplot as plt\n",
    "import pickle\n",
    "import os\n",
    "import gc\n",
    "\n",
    "from tensorflow.keras.models import Sequential\n",
    "from tensorflow.keras.layers import Dense, Dropout, Flatten, Conv2D, MaxPooling2D, BatchNormalization\n",
    "from tensorflow.keras import utils\n",
    "from tensorflow.keras.optimizers import Adam\n",
    "from tensorflow.keras.callbacks import EarlyStopping\n",
    "from tensorflow.keras.regularizers import l1, l2, l1_l2\n",
    "import tensorflow as tf\n",
    "\n",
    "\n",
    "import random\n",
    "random.seed(42)"
   ]
  },
  {
   "cell_type": "markdown",
   "id": "788e8d25",
   "metadata": {},
   "source": [
    "### Model architecture\n",
    "Basic LeNet construction, preceded by a Conv2D layer with a larger filter and stride to reduce dimensions quickly."
   ]
  },
  {
   "cell_type": "code",
   "execution_count": 2,
   "id": "fccab157",
   "metadata": {
    "ExecuteTime": {
     "end_time": "2021-06-12T23:40:36.461288Z",
     "start_time": "2021-06-12T23:40:36.414728Z"
    }
   },
   "outputs": [],
   "source": [
    "# 3 x convolutional layers with max pooling\n",
    "cnn = Sequential()\n",
    "cnn.add(Conv2D(filters = 8, \n",
    "               kernel_size=(11,11),\n",
    "               strides = (4,4), #kernel_size and stride from AlexNet\n",
    "               activation='relu', \n",
    "               input_shape=(610, 368, 1),\n",
    "               padding = 'valid')) # = no padding\n",
    "cnn.add(MaxPooling2D(pool_size = (3,3), strides=(2,2)))\n",
    "cnn.add(BatchNormalization())\n",
    "\n",
    "cnn.add(Conv2D(filters= 16, \n",
    "              kernel_size=(5,5), #LeNet uses 2xconv2d with 5x5 kernel, 2x2 pooling\n",
    "              activation='relu')) #default strides =1\n",
    "cnn.add(MaxPooling2D(pool_size = (2,2), strides=(2,2)))\n",
    "cnn.add(BatchNormalization())\n",
    "        \n",
    "cnn.add(Conv2D(filters = 16,\n",
    "               kernel_size = (5,5),\n",
    "               activation = 'relu'))\n",
    "cnn.add(MaxPooling2D(pool_size = (2,2), strides=(2,2)))  #output dim = 15 x 8 x 16 = 1920\n",
    "cnn.add(BatchNormalization())\n",
    "\n",
    "cnn.add(Flatten())\n",
    "\n",
    "#input nodes = # features\n",
    "cnn.add(Dense(1920, activation='relu')) #, kernel_regularizer=l2(.01))) not used in vX\n",
    "#cnn.add(Dropout(.2)) #not used in vX\n",
    "cnn.add(Dense(256, activation = 'relu')) #, kernel_regularizer=l2(.01)))\n",
    "#cnn.add(Dropout(.2))\n",
    "cnn.add(Dense(1, activation='sigmoid'))"
   ]
  },
  {
   "cell_type": "code",
   "execution_count": 3,
   "id": "25f0f44a",
   "metadata": {
    "ExecuteTime": {
     "end_time": "2021-06-12T23:40:36.463821Z",
     "start_time": "2021-06-12T23:40:36.462408Z"
    }
   },
   "outputs": [],
   "source": [
    "#lower learning rate\n",
    "slow_Adam = tf.keras.optimizers.Adam(learning_rate=.0001)"
   ]
  },
  {
   "cell_type": "code",
   "execution_count": 4,
   "id": "9fb0a1dd",
   "metadata": {
    "ExecuteTime": {
     "end_time": "2021-06-12T23:40:36.470718Z",
     "start_time": "2021-06-12T23:40:36.464736Z"
    }
   },
   "outputs": [],
   "source": [
    "# compile model\n",
    "cnn.compile(loss = 'binary_crossentropy', optimizer=slow_Adam, \n",
    "            metrics=['acc', 'Recall', 'Precision'])"
   ]
  },
  {
   "cell_type": "code",
   "execution_count": 5,
   "id": "8771a73c",
   "metadata": {
    "ExecuteTime": {
     "end_time": "2021-06-12T23:40:36.474088Z",
     "start_time": "2021-06-12T23:40:36.471515Z"
    }
   },
   "outputs": [
    {
     "name": "stdout",
     "output_type": "stream",
     "text": [
      "Model: \"sequential\"\n",
      "_________________________________________________________________\n",
      "Layer (type)                 Output Shape              Param #   \n",
      "=================================================================\n",
      "conv2d (Conv2D)              (None, 150, 90, 8)        976       \n",
      "_________________________________________________________________\n",
      "max_pooling2d (MaxPooling2D) (None, 74, 44, 8)         0         \n",
      "_________________________________________________________________\n",
      "batch_normalization (BatchNo (None, 74, 44, 8)         32        \n",
      "_________________________________________________________________\n",
      "conv2d_1 (Conv2D)            (None, 70, 40, 16)        3216      \n",
      "_________________________________________________________________\n",
      "max_pooling2d_1 (MaxPooling2 (None, 35, 20, 16)        0         \n",
      "_________________________________________________________________\n",
      "batch_normalization_1 (Batch (None, 35, 20, 16)        64        \n",
      "_________________________________________________________________\n",
      "conv2d_2 (Conv2D)            (None, 31, 16, 16)        6416      \n",
      "_________________________________________________________________\n",
      "max_pooling2d_2 (MaxPooling2 (None, 15, 8, 16)         0         \n",
      "_________________________________________________________________\n",
      "batch_normalization_2 (Batch (None, 15, 8, 16)         64        \n",
      "_________________________________________________________________\n",
      "flatten (Flatten)            (None, 1920)              0         \n",
      "_________________________________________________________________\n",
      "dense (Dense)                (None, 1920)              3688320   \n",
      "_________________________________________________________________\n",
      "dense_1 (Dense)              (None, 256)               491776    \n",
      "_________________________________________________________________\n",
      "dense_2 (Dense)              (None, 1)                 257       \n",
      "=================================================================\n",
      "Total params: 4,191,121\n",
      "Trainable params: 4,191,041\n",
      "Non-trainable params: 80\n",
      "_________________________________________________________________\n"
     ]
    }
   ],
   "source": [
    "cnn.summary()"
   ]
  },
  {
   "cell_type": "code",
   "execution_count": 6,
   "id": "907dae6a",
   "metadata": {
    "ExecuteTime": {
     "end_time": "2021-06-12T23:40:36.476026Z",
     "start_time": "2021-06-12T23:40:36.474763Z"
    }
   },
   "outputs": [],
   "source": [
    "#add earlystop\n",
    "early_stop = EarlyStopping(monitor='val_recall', patience = 5)"
   ]
  },
  {
   "cell_type": "markdown",
   "id": "33c90350",
   "metadata": {},
   "source": [
    "### Preview of a train-test subset"
   ]
  },
  {
   "cell_type": "code",
   "execution_count": 7,
   "id": "96a8baf5",
   "metadata": {
    "ExecuteTime": {
     "end_time": "2021-06-12T23:40:36.479704Z",
     "start_time": "2021-06-12T23:40:36.476678Z"
    }
   },
   "outputs": [
    {
     "data": {
      "text/plain": [
       "['ch5_test.pkl',\n",
       " 'ch4_test.pkl',\n",
       " 'ch7_train.pkl',\n",
       " 'ch1_train.pkl',\n",
       " 'ch6_train.pkl',\n",
       " 'ch8_test.pkl',\n",
       " 'ch2_test.pkl',\n",
       " 'ch3_test.pkl',\n",
       " 'ch0_train.pkl',\n",
       " 'ch8_train.pkl',\n",
       " 'ch5_train.pkl',\n",
       " 'ch6_test.pkl',\n",
       " 'ch7_test.pkl',\n",
       " 'ch3_train.pkl',\n",
       " 'ch1_test.pkl',\n",
       " 'ch0_test.pkl',\n",
       " 'ch4_train.pkl',\n",
       " 'ch2_train.pkl']"
      ]
     },
     "execution_count": 7,
     "metadata": {},
     "output_type": "execute_result"
    }
   ],
   "source": [
    "#import data, assign pos/neg\n",
    "in_path = '../scratch_data/tts_chunked/'\n",
    "files = os.listdir(in_path)\n",
    "files #chunks 0-8"
   ]
  },
  {
   "cell_type": "code",
   "execution_count": 8,
   "id": "89876015",
   "metadata": {
    "ExecuteTime": {
     "end_time": "2021-06-12T23:40:39.377000Z",
     "start_time": "2021-06-12T23:40:36.481943Z"
    }
   },
   "outputs": [],
   "source": [
    "with open (in_path+'ch0_train.pkl', mode = 'rb') as f:\n",
    "    ch0_train = pickle.load(f)\n",
    "with open (in_path+'ch0_test.pkl', mode = 'rb') as j:\n",
    "    ch0_test = pickle.load(j)"
   ]
  },
  {
   "cell_type": "code",
   "execution_count": 9,
   "id": "86ec0c4c",
   "metadata": {
    "ExecuteTime": {
     "end_time": "2021-06-12T23:40:40.192136Z",
     "start_time": "2021-06-12T23:40:39.378865Z"
    }
   },
   "outputs": [
    {
     "name": "stdout",
     "output_type": "stream",
     "text": [
      "X_train type and shape: <class 'numpy.ndarray'> (1875, 610, 368, 1)\n",
      "y_train type and shape: <class 'numpy.ndarray'> (1875,)\n"
     ]
    }
   ],
   "source": [
    "X_train0, y_train0 = list(zip(*ch0_train))\n",
    "X_train0 = np.array(X_train0)\n",
    "y_train0 = np.array(y_train0)\n",
    "print('X_train type and shape:', type(X_train0), X_train0.shape)\n",
    "print('y_train type and shape:', type(y_train0), y_train0.shape)"
   ]
  },
  {
   "cell_type": "code",
   "execution_count": 10,
   "id": "d7f63fa7",
   "metadata": {
    "ExecuteTime": {
     "end_time": "2021-06-12T23:40:40.496544Z",
     "start_time": "2021-06-12T23:40:40.193064Z"
    }
   },
   "outputs": [
    {
     "name": "stdout",
     "output_type": "stream",
     "text": [
      "X_test type and shape: <class 'numpy.ndarray'> (625, 610, 368, 1)\n",
      "y_test type and shape: <class 'numpy.ndarray'> (625,)\n"
     ]
    }
   ],
   "source": [
    "X_test0, y_test0 = list(zip(*ch0_test))\n",
    "X_test0 = np.array(X_test0)\n",
    "y_test0 = np.array(y_test0)\n",
    "print('X_test type and shape:', type(X_test0), X_test0.shape)\n",
    "print('y_test type and shape:', type(y_test0), y_test0.shape)"
   ]
  },
  {
   "cell_type": "code",
   "execution_count": 11,
   "id": "b0bf4879",
   "metadata": {
    "ExecuteTime": {
     "end_time": "2021-06-12T23:40:40.515572Z",
     "start_time": "2021-06-12T23:40:40.497530Z"
    }
   },
   "outputs": [
    {
     "name": "stdout",
     "output_type": "stream",
     "text": [
      "0    0.749867\n",
      "1    0.250133\n",
      "dtype: float64 \n",
      "\n",
      "0    0.7504\n",
      "1    0.2496\n",
      "dtype: float64\n"
     ]
    }
   ],
   "source": [
    "#confirm consistent y-stratification\n",
    "print(pd.Series(y_train0).value_counts(normalize=True),'\\n')\n",
    "print(pd.Series(y_test0).value_counts(normalize=True))"
   ]
  },
  {
   "cell_type": "markdown",
   "id": "e57b875c",
   "metadata": {},
   "source": [
    "### Fit model\n",
    "Verbose=1 here in order to monitor progress, apologies for the long output. Small batches necessary for memory."
   ]
  },
  {
   "cell_type": "code",
   "execution_count": 12,
   "id": "0d8568ce",
   "metadata": {
    "ExecuteTime": {
     "end_time": "2021-06-12T23:40:40.519320Z",
     "start_time": "2021-06-12T23:40:40.516930Z"
    }
   },
   "outputs": [],
   "source": [
    "#function to import, unzip, recast\n",
    "\n",
    "def pkl_to_CNN(train_file, test_file):\n",
    "    with open (in_path+train_file, mode = 'rb') as f:\n",
    "        temp_train = pickle.load(f)\n",
    "    with open (in_path+test_file, mode = 'rb') as j:\n",
    "        temp_test = pickle.load(j)\n",
    "        \n",
    "    X_train, y_train = list(zip(*temp_train))\n",
    "    X_test, y_test = list(zip(*temp_test))\n",
    "\n",
    "    return np.array(X_train), np.array(X_test), np.array(y_train), np.array(y_test)"
   ]
  },
  {
   "cell_type": "code",
   "execution_count": 13,
   "id": "53c8193a",
   "metadata": {
    "ExecuteTime": {
     "end_time": "2021-06-12T23:59:49.559732Z",
     "start_time": "2021-06-12T23:40:40.520346Z"
    }
   },
   "outputs": [
    {
     "name": "stdout",
     "output_type": "stream",
     "text": [
      "Epoch 1/300\n",
      "30/30 [==============================] - 19s 590ms/step - loss: 0.6498 - acc: 0.6952 - recall: 0.3075 - precision: 0.3943 - val_loss: 0.6634 - val_acc: 0.6496 - val_recall: 0.6282 - val_precision: 0.3784\n",
      "Epoch 2/300\n",
      "30/30 [==============================] - 17s 557ms/step - loss: 0.3189 - acc: 0.8545 - recall: 0.5191 - precision: 0.8042 - val_loss: 0.6056 - val_acc: 0.7648 - val_recall: 0.4423 - val_precision: 0.5349\n",
      "Epoch 3/300\n",
      "30/30 [==============================] - 17s 564ms/step - loss: 0.3217 - acc: 0.8584 - recall: 0.5370 - precision: 0.8286 - val_loss: 0.5554 - val_acc: 0.7616 - val_recall: 0.2308 - val_precision: 0.5538\n",
      "Epoch 4/300\n",
      "30/30 [==============================] - 18s 585ms/step - loss: 0.3279 - acc: 0.8429 - recall: 0.4992 - precision: 0.7936 - val_loss: 0.5250 - val_acc: 0.7568 - val_recall: 0.1090 - val_precision: 0.5667\n",
      "Epoch 5/300\n",
      "30/30 [==============================] - 18s 584ms/step - loss: 0.3348 - acc: 0.8414 - recall: 0.5014 - precision: 0.8068 - val_loss: 0.5105 - val_acc: 0.7616 - val_recall: 0.0833 - val_precision: 0.6842\n",
      "Epoch 6/300\n",
      "30/30 [==============================] - 17s 571ms/step - loss: 0.3282 - acc: 0.8479 - recall: 0.5214 - precision: 0.8222 - val_loss: 0.5044 - val_acc: 0.7600 - val_recall: 0.0833 - val_precision: 0.6500\n",
      "Epoch 7/300\n",
      "30/30 [==============================] - 18s 575ms/step - loss: 0.3355 - acc: 0.8388 - recall: 0.4812 - precision: 0.7866 - val_loss: 0.5030 - val_acc: 0.7600 - val_recall: 0.0962 - val_precision: 0.6250\n",
      "Epoch 8/300\n",
      "30/30 [==============================] - 18s 590ms/step - loss: 0.3181 - acc: 0.8553 - recall: 0.5057 - precision: 0.8087 - val_loss: 0.5033 - val_acc: 0.7632 - val_recall: 0.1218 - val_precision: 0.6333\n",
      "Epoch 9/300\n",
      "30/30 [==============================] - 18s 580ms/step - loss: 0.3300 - acc: 0.8513 - recall: 0.4925 - precision: 0.8428 - val_loss: 0.5044 - val_acc: 0.7664 - val_recall: 0.1474 - val_precision: 0.6389\n",
      "Epoch 10/300\n",
      "30/30 [==============================] - 18s 586ms/step - loss: 0.3302 - acc: 0.8457 - recall: 0.4976 - precision: 0.7952 - val_loss: 0.5051 - val_acc: 0.7664 - val_recall: 0.1667 - val_precision: 0.6190\n",
      "\n",
      "\n",
      "        chunk 1 of 9 fit\n",
      "\n",
      "\n",
      "Epoch 1/300\n",
      "30/30 [==============================] - 18s 594ms/step - loss: 0.4898 - acc: 0.7675 - recall: 0.2665 - precision: 0.5760 - val_loss: 0.5150 - val_acc: 0.7536 - val_recall: 0.1154 - val_precision: 0.5294\n",
      "Epoch 2/300\n",
      "30/30 [==============================] - 18s 589ms/step - loss: 0.4895 - acc: 0.7728 - recall: 0.2772 - precision: 0.5991 - val_loss: 0.5154 - val_acc: 0.7632 - val_recall: 0.1538 - val_precision: 0.6000\n",
      "Epoch 3/300\n",
      "30/30 [==============================] - 18s 583ms/step - loss: 0.4879 - acc: 0.7728 - recall: 0.2793 - precision: 0.5982 - val_loss: 0.5158 - val_acc: 0.7616 - val_recall: 0.1603 - val_precision: 0.5814\n",
      "Epoch 4/300\n",
      "30/30 [==============================] - 18s 590ms/step - loss: 0.4887 - acc: 0.7680 - recall: 0.2665 - precision: 0.5787 - val_loss: 0.5162 - val_acc: 0.7600 - val_recall: 0.1603 - val_precision: 0.5682\n",
      "Epoch 5/300\n",
      "30/30 [==============================] - 19s 616ms/step - loss: 0.4882 - acc: 0.7760 - recall: 0.2729 - precision: 0.6184 - val_loss: 0.5164 - val_acc: 0.7584 - val_recall: 0.1731 - val_precision: 0.5510\n",
      "Epoch 6/300\n",
      "30/30 [==============================] - 18s 596ms/step - loss: 0.4882 - acc: 0.7691 - recall: 0.2751 - precision: 0.5811 - val_loss: 0.5167 - val_acc: 0.7584 - val_recall: 0.1731 - val_precision: 0.5510\n",
      "\n",
      "\n",
      "        chunk 2 of 9 fit\n",
      "\n",
      "\n",
      "Epoch 1/300\n",
      "30/30 [==============================] - 18s 608ms/step - loss: 0.4989 - acc: 0.7824 - recall: 0.3006 - precision: 0.6380 - val_loss: 0.5161 - val_acc: 0.7616 - val_recall: 0.2244 - val_precision: 0.5556\n",
      "Epoch 2/300\n",
      "30/30 [==============================] - 18s 601ms/step - loss: 0.5010 - acc: 0.7835 - recall: 0.2985 - precision: 0.6452 - val_loss: 0.5161 - val_acc: 0.7632 - val_recall: 0.2308 - val_precision: 0.5625\n",
      "Epoch 3/300\n",
      "30/30 [==============================] - 18s 603ms/step - loss: 0.4996 - acc: 0.7835 - recall: 0.3028 - precision: 0.6425 - val_loss: 0.5162 - val_acc: 0.7632 - val_recall: 0.2308 - val_precision: 0.5625\n",
      "Epoch 4/300\n",
      "30/30 [==============================] - 19s 623ms/step - loss: 0.4991 - acc: 0.7861 - recall: 0.3092 - precision: 0.6532 - val_loss: 0.5163 - val_acc: 0.7632 - val_recall: 0.2308 - val_precision: 0.5625\n",
      "Epoch 5/300\n",
      "30/30 [==============================] - 18s 605ms/step - loss: 0.4986 - acc: 0.7840 - recall: 0.3049 - precision: 0.6441 - val_loss: 0.5164 - val_acc: 0.7632 - val_recall: 0.2308 - val_precision: 0.5625\n",
      "Epoch 6/300\n",
      "30/30 [==============================] - 18s 607ms/step - loss: 0.5001 - acc: 0.7829 - recall: 0.2942 - precision: 0.6449 - val_loss: 0.5165 - val_acc: 0.7632 - val_recall: 0.2308 - val_precision: 0.5625\n",
      "\n",
      "\n",
      "        chunk 3 of 9 fit\n",
      "\n",
      "\n",
      "Epoch 1/300\n",
      "30/30 [==============================] - 18s 598ms/step - loss: 0.4834 - acc: 0.7723 - recall: 0.3049 - precision: 0.5861 - val_loss: 0.4518 - val_acc: 0.7936 - val_recall: 0.3013 - val_precision: 0.7015\n",
      "Epoch 2/300\n",
      "30/30 [==============================] - 18s 596ms/step - loss: 0.4851 - acc: 0.7701 - recall: 0.2985 - precision: 0.5785 - val_loss: 0.4516 - val_acc: 0.7952 - val_recall: 0.3141 - val_precision: 0.7000\n",
      "Epoch 3/300\n",
      "30/30 [==============================] - 18s 595ms/step - loss: 0.4844 - acc: 0.7691 - recall: 0.2964 - precision: 0.5744 - val_loss: 0.4515 - val_acc: 0.7952 - val_recall: 0.3141 - val_precision: 0.7000\n",
      "Epoch 4/300\n",
      "30/30 [==============================] - 18s 598ms/step - loss: 0.4864 - acc: 0.7691 - recall: 0.3049 - precision: 0.5720 - val_loss: 0.4514 - val_acc: 0.7952 - val_recall: 0.3141 - val_precision: 0.7000\n",
      "Epoch 5/300\n",
      "30/30 [==============================] - 19s 606ms/step - loss: 0.4848 - acc: 0.7717 - recall: 0.3070 - precision: 0.5830 - val_loss: 0.4512 - val_acc: 0.7952 - val_recall: 0.3141 - val_precision: 0.7000\n",
      "Epoch 6/300\n",
      "30/30 [==============================] - 19s 613ms/step - loss: 0.4835 - acc: 0.7717 - recall: 0.3028 - precision: 0.5844 - val_loss: 0.4512 - val_acc: 0.7936 - val_recall: 0.3141 - val_precision: 0.6901\n",
      "\n",
      "\n",
      "        chunk 4 of 9 fit\n",
      "\n",
      "\n",
      "Epoch 1/300\n",
      "30/30 [==============================] - 19s 617ms/step - loss: 0.4903 - acc: 0.7792 - recall: 0.2942 - precision: 0.6244 - val_loss: 0.4963 - val_acc: 0.7712 - val_recall: 0.2692 - val_precision: 0.5915\n",
      "Epoch 2/300\n",
      "30/30 [==============================] - 19s 626ms/step - loss: 0.4893 - acc: 0.7787 - recall: 0.2964 - precision: 0.6205 - val_loss: 0.4964 - val_acc: 0.7712 - val_recall: 0.2692 - val_precision: 0.5915\n",
      "Epoch 3/300\n",
      "30/30 [==============================] - 19s 631ms/step - loss: 0.4897 - acc: 0.7819 - recall: 0.3006 - precision: 0.6351 - val_loss: 0.4964 - val_acc: 0.7712 - val_recall: 0.2692 - val_precision: 0.5915\n",
      "Epoch 4/300\n",
      "30/30 [==============================] - 20s 666ms/step - loss: 0.4889 - acc: 0.7797 - recall: 0.2921 - precision: 0.6284 - val_loss: 0.4964 - val_acc: 0.7712 - val_recall: 0.2692 - val_precision: 0.5915\n",
      "Epoch 5/300\n",
      "30/30 [==============================] - 20s 659ms/step - loss: 0.4885 - acc: 0.7803 - recall: 0.2985 - precision: 0.6278 - val_loss: 0.4964 - val_acc: 0.7712 - val_recall: 0.2692 - val_precision: 0.5915\n",
      "Epoch 6/300\n",
      "30/30 [==============================] - 20s 662ms/step - loss: 0.4900 - acc: 0.7776 - recall: 0.2985 - precision: 0.6140 - val_loss: 0.4964 - val_acc: 0.7712 - val_recall: 0.2692 - val_precision: 0.5915\n",
      "\n",
      "\n",
      "        chunk 5 of 9 fit\n",
      "\n",
      "\n",
      "Epoch 1/300\n",
      "30/30 [==============================] - 20s 652ms/step - loss: 0.4912 - acc: 0.7835 - recall: 0.3220 - precision: 0.6318 - val_loss: 0.4947 - val_acc: 0.7808 - val_recall: 0.2949 - val_precision: 0.6301\n",
      "Epoch 2/300\n",
      "30/30 [==============================] - 20s 657ms/step - loss: 0.4892 - acc: 0.7824 - recall: 0.3156 - precision: 0.6298 - val_loss: 0.4946 - val_acc: 0.7808 - val_recall: 0.2949 - val_precision: 0.6301\n",
      "Epoch 3/300\n",
      "30/30 [==============================] - 20s 658ms/step - loss: 0.4891 - acc: 0.7856 - recall: 0.3284 - precision: 0.6390 - val_loss: 0.4947 - val_acc: 0.7808 - val_recall: 0.2949 - val_precision: 0.6301\n",
      "Epoch 4/300\n"
     ]
    },
    {
     "name": "stdout",
     "output_type": "stream",
     "text": [
      "30/30 [==============================] - 20s 663ms/step - loss: 0.4895 - acc: 0.7829 - recall: 0.3220 - precision: 0.6292 - val_loss: 0.4946 - val_acc: 0.7808 - val_recall: 0.3013 - val_precision: 0.6267\n",
      "Epoch 5/300\n",
      "30/30 [==============================] - 21s 681ms/step - loss: 0.4900 - acc: 0.7835 - recall: 0.3220 - precision: 0.6318 - val_loss: 0.4946 - val_acc: 0.7808 - val_recall: 0.3013 - val_precision: 0.6267\n",
      "Epoch 6/300\n",
      "30/30 [==============================] - 20s 670ms/step - loss: 0.4893 - acc: 0.7851 - recall: 0.3262 - precision: 0.6375 - val_loss: 0.4946 - val_acc: 0.7808 - val_recall: 0.3013 - val_precision: 0.6267\n",
      "\n",
      "\n",
      "        chunk 6 of 9 fit\n",
      "\n",
      "\n",
      "Epoch 1/300\n",
      "30/30 [==============================] - 20s 669ms/step - loss: 0.4889 - acc: 0.7824 - recall: 0.3049 - precision: 0.6356 - val_loss: 0.5191 - val_acc: 0.7696 - val_recall: 0.2308 - val_precision: 0.6000\n",
      "Epoch 2/300\n",
      "30/30 [==============================] - 20s 671ms/step - loss: 0.4891 - acc: 0.7829 - recall: 0.3070 - precision: 0.6372 - val_loss: 0.5191 - val_acc: 0.7696 - val_recall: 0.2308 - val_precision: 0.6000\n",
      "Epoch 3/300\n",
      "30/30 [==============================] - 20s 674ms/step - loss: 0.4908 - acc: 0.7861 - recall: 0.3049 - precision: 0.6560 - val_loss: 0.5193 - val_acc: 0.7696 - val_recall: 0.2308 - val_precision: 0.6000\n",
      "Epoch 4/300\n",
      "30/30 [==============================] - 20s 673ms/step - loss: 0.4884 - acc: 0.7872 - recall: 0.3113 - precision: 0.6577 - val_loss: 0.5193 - val_acc: 0.7696 - val_recall: 0.2308 - val_precision: 0.6000\n",
      "Epoch 5/300\n",
      "30/30 [==============================] - 22s 708ms/step - loss: 0.4896 - acc: 0.7835 - recall: 0.2964 - precision: 0.6465 - val_loss: 0.5191 - val_acc: 0.7696 - val_recall: 0.2308 - val_precision: 0.6000\n",
      "Epoch 6/300\n",
      "30/30 [==============================] - 21s 682ms/step - loss: 0.4895 - acc: 0.7851 - recall: 0.3028 - precision: 0.6514 - val_loss: 0.5191 - val_acc: 0.7696 - val_recall: 0.2308 - val_precision: 0.6000\n",
      "\n",
      "\n",
      "        chunk 7 of 9 fit\n",
      "\n",
      "\n",
      "Epoch 1/300\n",
      "30/30 [==============================] - 21s 698ms/step - loss: 0.4932 - acc: 0.7691 - recall: 0.2878 - precision: 0.5769 - val_loss: 0.5070 - val_acc: 0.7776 - val_recall: 0.2821 - val_precision: 0.6197\n",
      "Epoch 2/300\n",
      "30/30 [==============================] - 21s 684ms/step - loss: 0.4953 - acc: 0.7685 - recall: 0.2857 - precision: 0.5751 - val_loss: 0.5070 - val_acc: 0.7776 - val_recall: 0.2821 - val_precision: 0.6197\n",
      "Epoch 3/300\n",
      "30/30 [==============================] - 21s 684ms/step - loss: 0.4951 - acc: 0.7685 - recall: 0.2836 - precision: 0.5758 - val_loss: 0.5069 - val_acc: 0.7776 - val_recall: 0.2821 - val_precision: 0.6197\n",
      "Epoch 4/300\n",
      "30/30 [==============================] - 21s 709ms/step - loss: 0.4935 - acc: 0.7701 - recall: 0.2900 - precision: 0.5812 - val_loss: 0.5069 - val_acc: 0.7776 - val_recall: 0.2821 - val_precision: 0.6197\n",
      "Epoch 5/300\n",
      "30/30 [==============================] - 22s 717ms/step - loss: 0.4944 - acc: 0.7696 - recall: 0.2857 - precision: 0.5801 - val_loss: 0.5068 - val_acc: 0.7776 - val_recall: 0.2821 - val_precision: 0.6197\n",
      "Epoch 6/300\n",
      "30/30 [==============================] - 21s 698ms/step - loss: 0.4941 - acc: 0.7696 - recall: 0.2878 - precision: 0.5794 - val_loss: 0.5069 - val_acc: 0.7776 - val_recall: 0.2821 - val_precision: 0.6197\n",
      "\n",
      "\n",
      "        chunk 8 of 9 fit\n",
      "\n",
      "\n",
      "Epoch 1/300\n",
      "28/28 [==============================] - 21s 733ms/step - loss: 0.4924 - acc: 0.7796 - recall: 0.2880 - precision: 0.6287 - val_loss: 0.4719 - val_acc: 0.7827 - val_recall: 0.3537 - val_precision: 0.6118\n",
      "Epoch 2/300\n",
      "28/28 [==============================] - 20s 712ms/step - loss: 0.4922 - acc: 0.7785 - recall: 0.2857 - precision: 0.6238 - val_loss: 0.4720 - val_acc: 0.7827 - val_recall: 0.3537 - val_precision: 0.6118\n",
      "Epoch 3/300\n",
      "28/28 [==============================] - 20s 709ms/step - loss: 0.4904 - acc: 0.7790 - recall: 0.2766 - precision: 0.6321 - val_loss: 0.4721 - val_acc: 0.7827 - val_recall: 0.3537 - val_precision: 0.6118\n",
      "Epoch 4/300\n",
      "28/28 [==============================] - 20s 709ms/step - loss: 0.4933 - acc: 0.7785 - recall: 0.2834 - precision: 0.6250 - val_loss: 0.4721 - val_acc: 0.7844 - val_recall: 0.3537 - val_precision: 0.6190\n",
      "Epoch 5/300\n",
      "28/28 [==============================] - 20s 705ms/step - loss: 0.4918 - acc: 0.7807 - recall: 0.2834 - precision: 0.6378 - val_loss: 0.4722 - val_acc: 0.7844 - val_recall: 0.3537 - val_precision: 0.6190\n",
      "Epoch 6/300\n",
      "28/28 [==============================] - 20s 705ms/step - loss: 0.4919 - acc: 0.7756 - recall: 0.2766 - precision: 0.6131 - val_loss: 0.4722 - val_acc: 0.7844 - val_recall: 0.3537 - val_precision: 0.6190\n",
      "\n",
      "\n",
      "        chunk 9 of 9 fit\n",
      "\n",
      "\n"
     ]
    }
   ],
   "source": [
    "histlist = [] #save history for each subset fit\n",
    "for i in range(0,9):\n",
    "    \n",
    "    X_train, X_test, y_train, y_test = pkl_to_CNN(f'ch{i}_train.pkl', f'ch{i}_test.pkl')\n",
    "\n",
    "    history = cnn.fit(X_train, y_train,\n",
    "                      batch_size=64,\n",
    "                      validation_data = (X_test, y_test),\n",
    "                      epochs = 300, #overkill because earlystop\n",
    "                      callbacks = early_stop, verbose=1)\n",
    "    histlist.append(history.history)\n",
    "    \n",
    "    if i<8: #probably gratuitous\n",
    "        del X_train, X_test, y_train, y_test\n",
    "        gc.collect()\n",
    "    \n",
    "    print(f'\\n\\n        chunk {i+1} of 9 fit\\n\\n')"
   ]
  },
  {
   "cell_type": "code",
   "execution_count": 14,
   "id": "e3aadb38",
   "metadata": {
    "ExecuteTime": {
     "end_time": "2021-06-12T23:59:50.716416Z",
     "start_time": "2021-06-12T23:59:49.561714Z"
    }
   },
   "outputs": [
    {
     "name": "stderr",
     "output_type": "stream",
     "text": [
      "/Users/helenmeigs/miniforge3/envs/tensorflow_env/lib/python3.8/site-packages/tensorflow/python/keras/engine/training.py:2325: UserWarning: `Model.state_updates` will be removed in a future version. This property should not be used in TensorFlow 2.0, as `updates` are applied automatically.\n",
      "  warnings.warn('`Model.state_updates` will be removed in a future version. '\n",
      "/Users/helenmeigs/miniforge3/envs/tensorflow_env/lib/python3.8/site-packages/tensorflow/python/keras/engine/base_layer.py:1397: UserWarning: `layer.updates` will be removed in a future version. This property should not be used in TensorFlow 2.0, as `updates` are applied automatically.\n",
      "  warnings.warn('`layer.updates` will be removed in a future version. '\n"
     ]
    },
    {
     "name": "stdout",
     "output_type": "stream",
     "text": [
      "WARNING:tensorflow:FOR KERAS USERS: The object that you are saving contains one or more Keras models or layers. If you are loading the SavedModel with `tf.keras.models.load_model`, continue reading (otherwise, you may ignore the following instructions). Please change your code to save with `tf.keras.models.save_model` or `model.save`, and confirm that the file \"keras.metadata\" exists in the export directory. In the future, Keras will only load the SavedModels that have this file. In other words, `tf.saved_model.save` will no longer write SavedModels that can be recovered as Keras models (this will apply in TF 2.5).\n",
      "\n",
      "FOR DEVS: If you are overwriting _tracking_metadata in your class, this property has been used to save metadata in the SavedModel. The metadta field will be deprecated soon, so please move the metadata to a different file.\n",
      "INFO:tensorflow:Assets written to: ../data/models/vX_again_nomasks/assets\n"
     ]
    }
   ],
   "source": [
    "#first things first save results before kernel dies!\n",
    "tf.keras.models.save_model(cnn, '../data/models/vX_again_nomasks')"
   ]
  },
  {
   "cell_type": "code",
   "execution_count": 15,
   "id": "ccf5bf87",
   "metadata": {
    "ExecuteTime": {
     "end_time": "2021-06-12T23:59:50.720248Z",
     "start_time": "2021-06-12T23:59:50.717236Z"
    }
   },
   "outputs": [],
   "source": [
    "with open ('../data/models/histories/vX_again_hist.pkl', mode = 'wb') as f:\n",
    "    pickle.dump(histlist, f)"
   ]
  },
  {
   "cell_type": "markdown",
   "id": "e6c08156",
   "metadata": {},
   "source": [
    "### Investigate\n",
    "Final evaluation of all model versions is on holdout test set in later notebook. For now, we've retained the last train-test subset in memory to at least look at _A_ score."
   ]
  },
  {
   "cell_type": "code",
   "execution_count": 16,
   "id": "e366babb",
   "metadata": {
    "ExecuteTime": {
     "end_time": "2021-06-12T23:59:51.312730Z",
     "start_time": "2021-06-12T23:59:50.721742Z"
    }
   },
   "outputs": [
    {
     "name": "stdout",
     "output_type": "stream",
     "text": [
      "19/19 [==============================] - 0s 18ms/step - loss: 0.4722 - acc: 0.7844 - recall: 0.3537 - precision: 0.6190\n",
      "CNN final subset loss : 0.4722328782081604\n",
      "CNN final subset acc : 0.784380316734314\n",
      "CNN final subset recall : 0.35374149680137634\n",
      "CNN final subset precision : 0.6190476417541504\n"
     ]
    }
   ],
   "source": [
    "cnn_score = cnn.evaluate(X_test, y_test, verbose=1)\n",
    "cnn_labels = cnn.metrics_names\n",
    "for i in range(len(cnn_labels)):\n",
    "    print(f'CNN final subset {cnn_labels[i]} : {cnn_score[i]}')"
   ]
  },
  {
   "cell_type": "code",
   "execution_count": 17,
   "id": "28baf917",
   "metadata": {
    "ExecuteTime": {
     "end_time": "2021-06-12T23:59:51.317783Z",
     "start_time": "2021-06-12T23:59:51.314432Z"
    }
   },
   "outputs": [
    {
     "data": {
      "text/plain": [
       "[10, 6, 6, 6, 6, 6, 6, 6, 6]"
      ]
     },
     "execution_count": 17,
     "metadata": {},
     "output_type": "execute_result"
    }
   ],
   "source": [
    "#epochs per subset\n",
    "num_epochs = [len(i['loss']) for i in histlist]\n",
    "num_epochs"
   ]
  },
  {
   "cell_type": "markdown",
   "id": "10ffad81",
   "metadata": {},
   "source": [
    "### Visualize\n",
    "Recall is priority classification metric here. Small subsets and few epochs make these visualizations not exactly compelling, but it's what we're working with."
   ]
  },
  {
   "cell_type": "code",
   "execution_count": 18,
   "id": "835b3c3d",
   "metadata": {
    "ExecuteTime": {
     "end_time": "2021-06-12T23:59:51.894574Z",
     "start_time": "2021-06-12T23:59:51.319053Z"
    }
   },
   "outputs": [
    {
     "data": {
      "image/png": "[encoded data removed]",
      "text/plain": [
       "<Figure size 432x288 with 1 Axes>"
      ]
     },
     "metadata": {
      "needs_background": "light"
     },
     "output_type": "display_data"
    },
    {
     "data": {
      "image/png": "[encoded data removed]",
      "text/plain": [
       "<Figure size 432x288 with 1 Axes>"
      ]
     },
     "metadata": {
      "needs_background": "light"
     },
     "output_type": "display_data"
    },
    {
     "data": {
      "image/png": "[encoded data removed]",
      "text/plain": [
       "<Figure size 432x288 with 1 Axes>"
      ]
     },
     "metadata": {
      "needs_background": "light"
     },
     "output_type": "display_data"
    },
    {
     "data": {
      "image/png": "[encoded data removed]",
      "text/plain": [
       "<Figure size 432x288 with 1 Axes>"
      ]
     },
     "metadata": {
      "needs_background": "light"
     },
     "output_type": "display_data"
    },
    {
     "data": {
      "image/png": "[encoded data removed]",
      "text/plain": [
       "<Figure size 432x288 with 1 Axes>"
      ]
     },
     "metadata": {
      "needs_background": "light"
     },
     "output_type": "display_data"
    },
    {
     "data": {
      "image/png": "[encoded data removed]",
      "text/plain": [
       "<Figure size 432x288 with 1 Axes>"
      ]
     },
     "metadata": {
      "needs_background": "light"
     },
     "output_type": "display_data"
    },
    {
     "data": {
      "image/png": "[encoded data removed]",
      "text/plain": [
       "<Figure size 432x288 with 1 Axes>"
      ]
     },
     "metadata": {
      "needs_background": "light"
     },
     "output_type": "display_data"
    },
    {
     "data": {
      "image/png": "[encoded data removed]",
      "text/plain": [
       "<Figure size 432x288 with 1 Axes>"
      ]
     },
     "metadata": {
      "needs_background": "light"
     },
     "output_type": "display_data"
    },
    {
     "data": {
      "image/png": "[encoded data removed]",
      "text/plain": [
       "<Figure size 432x288 with 1 Axes>"
      ]
     },
     "metadata": {
      "needs_background": "light"
     },
     "output_type": "display_data"
    }
   ],
   "source": [
    "for i in range(len(histlist)):\n",
    "    plt.figure()\n",
    "    plt.plot(histlist[i]['recall'], label='Training recall')\n",
    "    plt.plot(histlist[i]['val_recall'], label='Testing recall')\n",
    "    plt.legend();"
   ]
  },
  {
   "cell_type": "markdown",
   "id": "95aac35c",
   "metadata": {},
   "source": [
    "### Next Steps\n",
    "* The next step in this project is to include the augmented data that we generated earlier.   \n",
    "\n",
    "vX is the best scoring model so far, and likely represents the maximum recall achievable with this depth of neural network. External server options were pursued but still did not allow for fitting the entire dataset at once, let alone increasing CNN depth.\n",
    "\n",
    "For optimum performance (outside the scope of this project for now), this neural net needs to be deeper. Given more memory and GPU access, first step would be to at least **double the number of filters** in each Conv2D layer. Secondly, most marine mammal acoustic CNNs utilize many _more_ Conv2D layers in addition to higher filter count."
   ]
  }
 ],
 "metadata": {
  "kernelspec": {
   "display_name": "Python 3",
   "language": "python",
   "name": "python3"
  },
  "language_info": {
   "codemirror_mode": {
    "name": "ipython",
    "version": 3
   },
   "file_extension": ".py",
   "mimetype": "text/x-python",
   "name": "python",
   "nbconvert_exporter": "python",
   "pygments_lexer": "ipython3",
   "version": "3.8.8"
  },
  "varInspector": {
   "cols": {
    "lenName": 16,
    "lenType": 16,
    "lenVar": 40
   },
   "kernels_config": {
    "python": {
     "delete_cmd_postfix": "",
     "delete_cmd_prefix": "del ",
     "library": "var_list.py",
     "varRefreshCmd": "print(var_dic_list())"
    },
    "r": {
     "delete_cmd_postfix": ") ",
     "delete_cmd_prefix": "rm(",
     "library": "var_list.r",
     "varRefreshCmd": "cat(var_dic_list()) "
    }
   },
   "types_to_exclude": [
    "module",
    "function",
    "builtin_function_or_method",
    "instance",
    "_Feature"
   ],
   "window_display": false
  }
 },
 "nbformat": 4,
 "nbformat_minor": 5
}
