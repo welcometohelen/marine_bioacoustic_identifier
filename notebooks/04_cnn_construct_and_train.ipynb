{
 "cells": [
  {
   "cell_type": "markdown",
   "id": "2230394d",
   "metadata": {},
   "source": [
    "## Model construction and training\n",
    "This notebook includes importing and unpacking data that have been preprocessed for model training and training CNN model vX. Details about other CNN model architectures tested so far are reported in the README summary. This training is only on the original spectrograms, in the format resulting from preprocessing. Incorporating the _augmented_ spectrograms into the training data occurs in the next notebook. These processes were kept separate in order to compare the results between models trained with and without augmented data.\n",
    "\n",
    "Spectrograms used for training here have already been **standardized** (standard-scaler within each array, not across whole dataset), **reshaped**, and train-test-splat into 9 subsets of equal pos:neg ratios.  \n",
    "\n",
    "This format is due to memory limitations: training the model on all data at once was not possible on my machine, nor on extra capacity from AWS.  The 9 train-test chunks are fed to the model sequentially. Trial and error proved that implementing EarlyStop helped overall model performance; in general, EarlyStop makes sense: it's more efficient, and allows a target metric to be tracked. However, with this subset format, that means that the model may train on each subset for a unique number of epochs. Thus this subset format is **not directly parallel** to training on all data at once. For most versions of the model fit so far, subsets have been presented in order 0-8. In the iteration below, I reverse this order; the overall performance of model vX will be the average across multiple fittings.\n",
    "\n",
    "\n",
    "The basic architecture for this model is derived from deep learning networks used for marine mammal acoustics found in literature review. These sources were operating with data of different volumes, from different environments, and often to different ends (ie multiclass classification, or dealing with species unique calls & frequency ranges). Thus, no network from prior literature was ready 'out of the box' for this project, but they were a better starting point than completely winging it. NNs from these sources had to be made much shallower to fit within my memory limits.\n",
    "\n",
    "---\n",
    "Sources guiding CNN structure:  \n",
    "* [Padovese et al. 2021.](https://asa.scitation.org/doi/full/10.1121/10.0004258) Data augmentation for the classification of North Atlantic right whales upcalls. _Journal of the Acoustical Society of America_ 149:4.\n",
    "* [Thomas et al. 2019.](https://ecmlpkdd2019.org/downloads/paper/314.pdf) Marine Mammal Species Classification using CNN and a Novel Acoustic Representation. \n",
    "* [Shiu et al. 2020.](https://www.nature.com/articles/s41598-020-57549-y) Deep neural networks for automated detection of marine mammal species. _Nature: Scientific Reports_ 10:607.\n",
    "* I did not brush up on correct citation format. Please send all complaints to https://github.com/charles-rice"
   ]
  },
  {
   "cell_type": "code",
   "execution_count": 1,
   "id": "3a8bf573",
   "metadata": {
    "ExecuteTime": {
     "end_time": "2021-06-12T21:26:04.241515Z",
     "start_time": "2021-06-12T21:26:02.070436Z"
    }
   },
   "outputs": [],
   "source": [
    "import pandas as pd\n",
    "import numpy as np\n",
    "import matplotlib.pyplot as plt\n",
    "import pickle\n",
    "import os\n",
    "import gc\n",
    "\n",
    "from tensorflow.keras.models import Sequential\n",
    "from tensorflow.keras.layers import Dense, Dropout, Flatten, Conv2D, MaxPooling2D, BatchNormalization\n",
    "from tensorflow.keras import utils\n",
    "from tensorflow.keras.optimizers import Adam\n",
    "from tensorflow.keras.callbacks import EarlyStopping\n",
    "from tensorflow.keras.regularizers import l1, l2, l1_l2\n",
    "import tensorflow as tf\n",
    "\n",
    "\n",
    "import random\n",
    "random.seed(42)"
   ]
  },
  {
   "cell_type": "markdown",
   "id": "788e8d25",
   "metadata": {},
   "source": [
    "### Model architecture\n",
    "Basic LeNet construction, preceded by a Conv2D layer with a larger filter and stride to reduce dimensions quickly."
   ]
  },
  {
   "cell_type": "code",
   "execution_count": 2,
   "id": "fccab157",
   "metadata": {
    "ExecuteTime": {
     "end_time": "2021-06-12T21:26:04.288032Z",
     "start_time": "2021-06-12T21:26:04.242380Z"
    }
   },
   "outputs": [],
   "source": [
    "# 3 x convolutional layers with max pooling\n",
    "cnn = Sequential()\n",
    "cnn.add(Conv2D(filters = 8, \n",
    "               kernel_size=(11,11),\n",
    "               strides = (4,4), #kernel_size and stride from AlexNet\n",
    "               activation='relu', \n",
    "               input_shape=(610, 368, 1),\n",
    "               padding = 'valid')) # = no padding\n",
    "cnn.add(MaxPooling2D(pool_size = (3,3), strides=(2,2)))\n",
    "cnn.add(BatchNormalization())\n",
    "\n",
    "cnn.add(Conv2D(filters= 16, \n",
    "              kernel_size=(5,5), #LeNet uses 2xconv2d with 5x5 kernel, 2x2 pooling\n",
    "              activation='relu')) #default strides =1\n",
    "cnn.add(MaxPooling2D(pool_size = (2,2), strides=(2,2)))\n",
    "cnn.add(BatchNormalization())\n",
    "        \n",
    "cnn.add(Conv2D(filters = 16,\n",
    "               kernel_size = (5,5),\n",
    "               activation = 'relu'))\n",
    "cnn.add(MaxPooling2D(pool_size = (2,2), strides=(2,2)))  #output dim = 15 x 8 x 16 = 1920\n",
    "cnn.add(BatchNormalization())\n",
    "\n",
    "cnn.add(Flatten())\n",
    "\n",
    "#input nodes = # features\n",
    "cnn.add(Dense(1920, activation='relu')) #, kernel_regularizer=l2(.01))) not used in vX\n",
    "#cnn.add(Dropout(.2)) #not used in vX\n",
    "cnn.add(Dense(256, activation = 'relu')) #, kernel_regularizer=l2(.01)))\n",
    "#cnn.add(Dropout(.2))\n",
    "cnn.add(Dense(1, activation='sigmoid'))"
   ]
  },
  {
   "cell_type": "code",
   "execution_count": 3,
   "id": "25f0f44a",
   "metadata": {
    "ExecuteTime": {
     "end_time": "2021-06-12T21:26:04.290476Z",
     "start_time": "2021-06-12T21:26:04.289067Z"
    }
   },
   "outputs": [],
   "source": [
    "#lower learning rate\n",
    "slow_Adam = tf.keras.optimizers.Adam(learning_rate=.0001)"
   ]
  },
  {
   "cell_type": "code",
   "execution_count": 4,
   "id": "9fb0a1dd",
   "metadata": {
    "ExecuteTime": {
     "end_time": "2021-06-12T21:26:04.297355Z",
     "start_time": "2021-06-12T21:26:04.291457Z"
    }
   },
   "outputs": [],
   "source": [
    "# compile model\n",
    "cnn.compile(loss = 'binary_crossentropy', optimizer=slow_Adam, \n",
    "            metrics=['acc', 'Recall', 'Precision'])"
   ]
  },
  {
   "cell_type": "code",
   "execution_count": 5,
   "id": "8771a73c",
   "metadata": {
    "ExecuteTime": {
     "end_time": "2021-06-12T21:26:04.301591Z",
     "start_time": "2021-06-12T21:26:04.298046Z"
    }
   },
   "outputs": [
    {
     "name": "stdout",
     "output_type": "stream",
     "text": [
      "Model: \"sequential\"\n",
      "_________________________________________________________________\n",
      "Layer (type)                 Output Shape              Param #   \n",
      "=================================================================\n",
      "conv2d (Conv2D)              (None, 150, 90, 8)        976       \n",
      "_________________________________________________________________\n",
      "max_pooling2d (MaxPooling2D) (None, 74, 44, 8)         0         \n",
      "_________________________________________________________________\n",
      "batch_normalization (BatchNo (None, 74, 44, 8)         32        \n",
      "_________________________________________________________________\n",
      "conv2d_1 (Conv2D)            (None, 70, 40, 16)        3216      \n",
      "_________________________________________________________________\n",
      "max_pooling2d_1 (MaxPooling2 (None, 35, 20, 16)        0         \n",
      "_________________________________________________________________\n",
      "batch_normalization_1 (Batch (None, 35, 20, 16)        64        \n",
      "_________________________________________________________________\n",
      "conv2d_2 (Conv2D)            (None, 31, 16, 16)        6416      \n",
      "_________________________________________________________________\n",
      "max_pooling2d_2 (MaxPooling2 (None, 15, 8, 16)         0         \n",
      "_________________________________________________________________\n",
      "batch_normalization_2 (Batch (None, 15, 8, 16)         64        \n",
      "_________________________________________________________________\n",
      "flatten (Flatten)            (None, 1920)              0         \n",
      "_________________________________________________________________\n",
      "dense (Dense)                (None, 1920)              3688320   \n",
      "_________________________________________________________________\n",
      "dense_1 (Dense)              (None, 256)               491776    \n",
      "_________________________________________________________________\n",
      "dense_2 (Dense)              (None, 1)                 257       \n",
      "=================================================================\n",
      "Total params: 4,191,121\n",
      "Trainable params: 4,191,041\n",
      "Non-trainable params: 80\n",
      "_________________________________________________________________\n"
     ]
    }
   ],
   "source": [
    "cnn.summary()"
   ]
  },
  {
   "cell_type": "code",
   "execution_count": 6,
   "id": "907dae6a",
   "metadata": {
    "ExecuteTime": {
     "end_time": "2021-06-12T21:26:04.303871Z",
     "start_time": "2021-06-12T21:26:04.302274Z"
    }
   },
   "outputs": [],
   "source": [
    "#add earlystop\n",
    "early_stop = EarlyStopping(monitor='val_recall', patience = 5)"
   ]
  },
  {
   "cell_type": "markdown",
   "id": "33c90350",
   "metadata": {},
   "source": [
    "### Preview of a train-test subset"
   ]
  },
  {
   "cell_type": "code",
   "execution_count": 7,
   "id": "96a8baf5",
   "metadata": {
    "ExecuteTime": {
     "end_time": "2021-06-12T21:26:04.308014Z",
     "start_time": "2021-06-12T21:26:04.304531Z"
    }
   },
   "outputs": [
    {
     "data": {
      "text/plain": [
       "['ch5_test.pkl',\n",
       " 'ch4_test.pkl',\n",
       " 'ch7_train.pkl',\n",
       " 'ch1_train.pkl',\n",
       " 'ch6_train.pkl',\n",
       " 'ch8_test.pkl',\n",
       " 'ch2_test.pkl',\n",
       " 'ch3_test.pkl',\n",
       " 'ch0_train.pkl',\n",
       " 'ch8_train.pkl',\n",
       " 'ch5_train.pkl',\n",
       " 'ch6_test.pkl',\n",
       " 'ch7_test.pkl',\n",
       " 'ch3_train.pkl',\n",
       " 'ch1_test.pkl',\n",
       " 'ch0_test.pkl',\n",
       " 'ch4_train.pkl',\n",
       " 'ch2_train.pkl']"
      ]
     },
     "execution_count": 7,
     "metadata": {},
     "output_type": "execute_result"
    }
   ],
   "source": [
    "#import data, assign pos/neg\n",
    "in_path = '../scratch_data/tts_chunked/'\n",
    "files = os.listdir(in_path)\n",
    "files #chunks 0-8"
   ]
  },
  {
   "cell_type": "code",
   "execution_count": 8,
   "id": "89876015",
   "metadata": {
    "ExecuteTime": {
     "end_time": "2021-06-12T21:26:05.089993Z",
     "start_time": "2021-06-12T21:26:04.310136Z"
    }
   },
   "outputs": [],
   "source": [
    "with open (in_path+'ch0_train.pkl', mode = 'rb') as f:\n",
    "    ch0_train = pickle.load(f)\n",
    "with open (in_path+'ch0_test.pkl', mode = 'rb') as j:\n",
    "    ch0_test = pickle.load(j)"
   ]
  },
  {
   "cell_type": "code",
   "execution_count": 9,
   "id": "86ec0c4c",
   "metadata": {
    "ExecuteTime": {
     "end_time": "2021-06-12T21:26:05.233347Z",
     "start_time": "2021-06-12T21:26:05.091402Z"
    }
   },
   "outputs": [
    {
     "name": "stdout",
     "output_type": "stream",
     "text": [
      "X_train type and shape: <class 'numpy.ndarray'> (1875, 610, 368, 1)\n",
      "y_train type and shape: <class 'numpy.ndarray'> (1875,)\n"
     ]
    }
   ],
   "source": [
    "X_train0, y_train0 = list(zip(*ch0_train))\n",
    "X_train0 = np.array(X_train0)\n",
    "y_train0 = np.array(y_train0)\n",
    "print('X_train type and shape:', type(X_train0), X_train0.shape)\n",
    "print('y_train type and shape:', type(y_train0), y_train0.shape)"
   ]
  },
  {
   "cell_type": "code",
   "execution_count": 10,
   "id": "d7f63fa7",
   "metadata": {
    "ExecuteTime": {
     "end_time": "2021-06-12T21:26:05.287590Z",
     "start_time": "2021-06-12T21:26:05.234157Z"
    }
   },
   "outputs": [
    {
     "name": "stdout",
     "output_type": "stream",
     "text": [
      "X_test type and shape: <class 'numpy.ndarray'> (625, 610, 368, 1)\n",
      "y_test type and shape: <class 'numpy.ndarray'> (625,)\n"
     ]
    }
   ],
   "source": [
    "X_test0, y_test0 = list(zip(*ch0_test))\n",
    "X_test0 = np.array(X_test0)\n",
    "y_test0 = np.array(y_test0)\n",
    "print('X_test type and shape:', type(X_test0), X_test0.shape)\n",
    "print('y_test type and shape:', type(y_test0), y_test0.shape)"
   ]
  },
  {
   "cell_type": "code",
   "execution_count": 11,
   "id": "b0bf4879",
   "metadata": {
    "ExecuteTime": {
     "end_time": "2021-06-12T21:26:05.297245Z",
     "start_time": "2021-06-12T21:26:05.288466Z"
    }
   },
   "outputs": [
    {
     "name": "stdout",
     "output_type": "stream",
     "text": [
      "0    0.749867\n",
      "1    0.250133\n",
      "dtype: float64 \n",
      "\n",
      "0    0.7504\n",
      "1    0.2496\n",
      "dtype: float64\n"
     ]
    }
   ],
   "source": [
    "#confirm consistent y-stratification\n",
    "print(pd.Series(y_train0).value_counts(normalize=True),'\\n')\n",
    "print(pd.Series(y_test0).value_counts(normalize=True))"
   ]
  },
  {
   "cell_type": "markdown",
   "id": "e57b875c",
   "metadata": {},
   "source": [
    "### Fit model\n",
    "Verbose=1 here in order to monitor progress, apologies for the long output. Small batches necessary for memory."
   ]
  },
  {
   "cell_type": "code",
   "execution_count": 13,
   "id": "0d8568ce",
   "metadata": {
    "ExecuteTime": {
     "end_time": "2021-06-12T21:26:05.372028Z",
     "start_time": "2021-06-12T21:26:05.369832Z"
    }
   },
   "outputs": [],
   "source": [
    "#function to import, unzip, recast\n",
    "\n",
    "def pkl_to_CNN(train_file, test_file):\n",
    "    with open (in_path+train_file, mode = 'rb') as f:\n",
    "        temp_train = pickle.load(f)\n",
    "    with open (in_path+test_file, mode = 'rb') as j:\n",
    "        temp_test = pickle.load(j)\n",
    "        \n",
    "    X_train, y_train = list(zip(*temp_train))\n",
    "    X_test, y_test = list(zip(*temp_test))\n",
    "\n",
    "    return np.array(X_train), np.array(X_test), np.array(y_train), np.array(y_test)"
   ]
  },
  {
   "cell_type": "code",
   "execution_count": 14,
   "id": "53c8193a",
   "metadata": {
    "ExecuteTime": {
     "end_time": "2021-06-12T21:44:33.681398Z",
     "start_time": "2021-06-12T21:26:05.372753Z"
    }
   },
   "outputs": [
    {
     "name": "stdout",
     "output_type": "stream",
     "text": [
      "Epoch 1/300\n",
      "28/28 [==============================] - 18s 600ms/step - loss: 0.5940 - acc: 0.7375 - recall: 0.1945 - precision: 0.3873 - val_loss: 0.6723 - val_acc: 0.5739 - val_recall: 0.6190 - val_precision: 0.3182\n",
      "Epoch 2/300\n",
      "28/28 [==============================] - 16s 563ms/step - loss: 0.3340 - acc: 0.8632 - recall: 0.7365 - precision: 0.7065 - val_loss: 0.5907 - val_acc: 0.7725 - val_recall: 0.1565 - val_precision: 0.6970\n",
      "Epoch 3/300\n",
      "28/28 [==============================] - 17s 610ms/step - loss: 0.3511 - acc: 0.8594 - recall: 0.7189 - precision: 0.7285 - val_loss: 0.5543 - val_acc: 0.7742 - val_recall: 0.0952 - val_precision: 1.0000\n",
      "Epoch 4/300\n",
      "28/28 [==============================] - 19s 656ms/step - loss: 0.3369 - acc: 0.8722 - recall: 0.7315 - precision: 0.7310 - val_loss: 0.5329 - val_acc: 0.7742 - val_recall: 0.0952 - val_precision: 1.0000\n",
      "Epoch 5/300\n",
      "28/28 [==============================] - 17s 589ms/step - loss: 0.3374 - acc: 0.8733 - recall: 0.7551 - precision: 0.7328 - val_loss: 0.5183 - val_acc: 0.7742 - val_recall: 0.1088 - val_precision: 0.8889\n",
      "Epoch 6/300\n",
      "28/28 [==============================] - 17s 588ms/step - loss: 0.3414 - acc: 0.8682 - recall: 0.6917 - precision: 0.7340 - val_loss: 0.5081 - val_acc: 0.7793 - val_recall: 0.1497 - val_precision: 0.8148\n",
      "Epoch 7/300\n",
      "28/28 [==============================] - 18s 620ms/step - loss: 0.3480 - acc: 0.8592 - recall: 0.7161 - precision: 0.7015 - val_loss: 0.5012 - val_acc: 0.7827 - val_recall: 0.2041 - val_precision: 0.7317\n",
      "Epoch 8/300\n",
      "28/28 [==============================] - 17s 612ms/step - loss: 0.3420 - acc: 0.8689 - recall: 0.7398 - precision: 0.7553 - val_loss: 0.4973 - val_acc: 0.7878 - val_recall: 0.2721 - val_precision: 0.6897\n",
      "\n",
      "\n",
      "        chunk 1 of 9 fit\n",
      "\n",
      "\n",
      "Epoch 1/300\n",
      "30/30 [==============================] - 19s 617ms/step - loss: 0.5311 - acc: 0.7467 - recall: 0.4307 - precision: 0.4927 - val_loss: 0.5213 - val_acc: 0.7824 - val_recall: 0.2821 - val_precision: 0.6471\n",
      "Epoch 2/300\n",
      "30/30 [==============================] - 18s 597ms/step - loss: 0.5288 - acc: 0.7515 - recall: 0.4478 - precision: 0.5036 - val_loss: 0.5235 - val_acc: 0.7824 - val_recall: 0.3205 - val_precision: 0.6250\n",
      "Epoch 3/300\n",
      "30/30 [==============================] - 18s 596ms/step - loss: 0.5305 - acc: 0.7499 - recall: 0.4478 - precision: 0.5000 - val_loss: 0.5269 - val_acc: 0.7856 - val_recall: 0.3782 - val_precision: 0.6146\n",
      "Epoch 4/300\n",
      "30/30 [==============================] - 19s 626ms/step - loss: 0.5311 - acc: 0.7509 - recall: 0.4414 - precision: 0.5024 - val_loss: 0.5304 - val_acc: 0.7872 - val_recall: 0.3846 - val_precision: 0.6186\n",
      "Epoch 5/300\n",
      "30/30 [==============================] - 19s 613ms/step - loss: 0.5309 - acc: 0.7493 - recall: 0.4456 - precision: 0.4988 - val_loss: 0.5341 - val_acc: 0.7856 - val_recall: 0.3910 - val_precision: 0.6100\n",
      "Epoch 6/300\n",
      "30/30 [==============================] - 19s 620ms/step - loss: 0.5315 - acc: 0.7461 - recall: 0.4350 - precision: 0.4916 - val_loss: 0.5375 - val_acc: 0.7792 - val_recall: 0.3910 - val_precision: 0.5865\n",
      "\n",
      "\n",
      "        chunk 2 of 9 fit\n",
      "\n",
      "\n",
      "Epoch 1/300\n",
      "30/30 [==============================] - 18s 600ms/step - loss: 0.5056 - acc: 0.7765 - recall: 0.4691 - precision: 0.5641 - val_loss: 0.5293 - val_acc: 0.7728 - val_recall: 0.4295 - val_precision: 0.5583\n",
      "Epoch 2/300\n",
      "30/30 [==============================] - 18s 594ms/step - loss: 0.5043 - acc: 0.7792 - recall: 0.4648 - precision: 0.5722 - val_loss: 0.5311 - val_acc: 0.7712 - val_recall: 0.4295 - val_precision: 0.5537\n",
      "Epoch 3/300\n",
      "30/30 [==============================] - 19s 621ms/step - loss: 0.5063 - acc: 0.7776 - recall: 0.4691 - precision: 0.5670 - val_loss: 0.5326 - val_acc: 0.7696 - val_recall: 0.4295 - val_precision: 0.5492\n",
      "Epoch 4/300\n",
      "30/30 [==============================] - 18s 597ms/step - loss: 0.5041 - acc: 0.7760 - recall: 0.4627 - precision: 0.5636 - val_loss: 0.5340 - val_acc: 0.7696 - val_recall: 0.4295 - val_precision: 0.5492\n",
      "Epoch 5/300\n",
      "30/30 [==============================] - 18s 604ms/step - loss: 0.5054 - acc: 0.7781 - recall: 0.4670 - precision: 0.5688 - val_loss: 0.5350 - val_acc: 0.7664 - val_recall: 0.4295 - val_precision: 0.5403\n",
      "Epoch 6/300\n",
      "30/30 [==============================] - 18s 595ms/step - loss: 0.5058 - acc: 0.7765 - recall: 0.4670 - precision: 0.5644 - val_loss: 0.5358 - val_acc: 0.7664 - val_recall: 0.4295 - val_precision: 0.5403\n",
      "\n",
      "\n",
      "        chunk 3 of 9 fit\n",
      "\n",
      "\n",
      "Epoch 1/300\n",
      "30/30 [==============================] - 18s 593ms/step - loss: 0.5317 - acc: 0.7643 - recall: 0.4755 - precision: 0.5322 - val_loss: 0.5408 - val_acc: 0.7424 - val_recall: 0.4359 - val_precision: 0.4823\n",
      "Epoch 2/300\n",
      "30/30 [==============================] - 18s 586ms/step - loss: 0.5308 - acc: 0.7648 - recall: 0.4733 - precision: 0.5337 - val_loss: 0.5415 - val_acc: 0.7424 - val_recall: 0.4359 - val_precision: 0.4823\n",
      "Epoch 3/300\n",
      "30/30 [==============================] - 18s 589ms/step - loss: 0.5312 - acc: 0.7621 - recall: 0.4733 - precision: 0.5273 - val_loss: 0.5422 - val_acc: 0.7424 - val_recall: 0.4359 - val_precision: 0.4823\n",
      "Epoch 4/300\n",
      "30/30 [==============================] - 19s 616ms/step - loss: 0.5311 - acc: 0.7659 - recall: 0.4797 - precision: 0.5357 - val_loss: 0.5428 - val_acc: 0.7408 - val_recall: 0.4359 - val_precision: 0.4789\n",
      "Epoch 5/300\n",
      "30/30 [==============================] - 18s 598ms/step - loss: 0.5317 - acc: 0.7669 - recall: 0.4840 - precision: 0.5379 - val_loss: 0.5432 - val_acc: 0.7408 - val_recall: 0.4423 - val_precision: 0.4792\n",
      "Epoch 6/300\n",
      "30/30 [==============================] - 18s 602ms/step - loss: 0.5314 - acc: 0.7653 - recall: 0.4776 - precision: 0.5346 - val_loss: 0.5438 - val_acc: 0.7408 - val_recall: 0.4423 - val_precision: 0.4792\n",
      "\n",
      "\n",
      "        chunk 4 of 9 fit\n",
      "\n",
      "\n",
      "Epoch 1/300\n",
      "30/30 [==============================] - 18s 596ms/step - loss: 0.5290 - acc: 0.7616 - recall: 0.4456 - precision: 0.5278 - val_loss: 0.5027 - val_acc: 0.7600 - val_recall: 0.4936 - val_precision: 0.5203\n",
      "Epoch 2/300\n",
      "30/30 [==============================] - 18s 592ms/step - loss: 0.5271 - acc: 0.7616 - recall: 0.4499 - precision: 0.5275 - val_loss: 0.5023 - val_acc: 0.7600 - val_recall: 0.4936 - val_precision: 0.5203\n",
      "Epoch 3/300\n",
      "30/30 [==============================] - 18s 593ms/step - loss: 0.5279 - acc: 0.7637 - recall: 0.4520 - precision: 0.5327 - val_loss: 0.5018 - val_acc: 0.7584 - val_recall: 0.4872 - val_precision: 0.5170\n",
      "Epoch 4/300\n",
      "30/30 [==============================] - 19s 636ms/step - loss: 0.5258 - acc: 0.7621 - recall: 0.4478 - precision: 0.5290 - val_loss: 0.5015 - val_acc: 0.7616 - val_recall: 0.4872 - val_precision: 0.5241\n",
      "Epoch 5/300\n",
      "30/30 [==============================] - 18s 598ms/step - loss: 0.5280 - acc: 0.7573 - recall: 0.4456 - precision: 0.5173 - val_loss: 0.5014 - val_acc: 0.7632 - val_recall: 0.4872 - val_precision: 0.5278\n",
      "Epoch 6/300\n",
      "30/30 [==============================] - 18s 595ms/step - loss: 0.5257 - acc: 0.7621 - recall: 0.4478 - precision: 0.5290 - val_loss: 0.5014 - val_acc: 0.7632 - val_recall: 0.4872 - val_precision: 0.5278\n",
      "Epoch 7/300\n",
      "30/30 [==============================] - 19s 619ms/step - loss: 0.5272 - acc: 0.7611 - recall: 0.4499 - precision: 0.5262 - val_loss: 0.5015 - val_acc: 0.7632 - val_recall: 0.4872 - val_precision: 0.5278\n",
      "Epoch 8/300\n",
      "30/30 [==============================] - 18s 601ms/step - loss: 0.5268 - acc: 0.7627 - recall: 0.4520 - precision: 0.5300 - val_loss: 0.5014 - val_acc: 0.7632 - val_recall: 0.4872 - val_precision: 0.5278\n",
      "\n",
      "\n",
      "        chunk 5 of 9 fit\n",
      "\n",
      "\n",
      "Epoch 1/300\n",
      "30/30 [==============================] - 18s 603ms/step - loss: 0.5248 - acc: 0.7701 - recall: 0.4989 - precision: 0.5442 - val_loss: 0.4767 - val_acc: 0.7984 - val_recall: 0.5128 - val_precision: 0.6154\n",
      "Epoch 2/300\n",
      "30/30 [==============================] - 18s 598ms/step - loss: 0.5260 - acc: 0.7675 - recall: 0.4925 - precision: 0.5385 - val_loss: 0.4772 - val_acc: 0.7984 - val_recall: 0.5128 - val_precision: 0.6154\n",
      "Epoch 3/300\n",
      "30/30 [==============================] - 18s 599ms/step - loss: 0.5242 - acc: 0.7632 - recall: 0.4904 - precision: 0.5287 - val_loss: 0.4774 - val_acc: 0.7984 - val_recall: 0.5128 - val_precision: 0.6154\n",
      "Epoch 4/300\n",
      "30/30 [==============================] - 18s 596ms/step - loss: 0.5252 - acc: 0.7632 - recall: 0.4861 - precision: 0.5290 - val_loss: 0.4780 - val_acc: 0.7984 - val_recall: 0.5128 - val_precision: 0.6154\n",
      "Epoch 5/300\n",
      "30/30 [==============================] - 19s 622ms/step - loss: 0.5232 - acc: 0.7643 - recall: 0.4883 - precision: 0.5313 - val_loss: 0.4780 - val_acc: 0.7984 - val_recall: 0.5128 - val_precision: 0.6154\n",
      "Epoch 6/300\n",
      "30/30 [==============================] - 18s 598ms/step - loss: 0.5243 - acc: 0.7643 - recall: 0.4883 - precision: 0.5313 - val_loss: 0.4781 - val_acc: 0.7984 - val_recall: 0.5128 - val_precision: 0.6154\n",
      "\n",
      "\n",
      "        chunk 6 of 9 fit\n",
      "\n",
      "\n",
      "Epoch 1/300\n",
      "30/30 [==============================] - 18s 605ms/step - loss: 0.5315 - acc: 0.7664 - recall: 0.4414 - precision: 0.5405 - val_loss: 0.5246 - val_acc: 0.7584 - val_recall: 0.4038 - val_precision: 0.5207\n",
      "Epoch 2/300\n",
      "30/30 [==============================] - 18s 598ms/step - loss: 0.5328 - acc: 0.7616 - recall: 0.4435 - precision: 0.5279 - val_loss: 0.5242 - val_acc: 0.7600 - val_recall: 0.4038 - val_precision: 0.5250\n",
      "Epoch 3/300\n",
      "30/30 [==============================] - 18s 600ms/step - loss: 0.5318 - acc: 0.7632 - recall: 0.4456 - precision: 0.5318 - val_loss: 0.5240 - val_acc: 0.7600 - val_recall: 0.4038 - val_precision: 0.5250\n",
      "Epoch 4/300\n",
      "30/30 [==============================] - 18s 605ms/step - loss: 0.5304 - acc: 0.7595 - recall: 0.4286 - precision: 0.5234 - val_loss: 0.5239 - val_acc: 0.7600 - val_recall: 0.4038 - val_precision: 0.5250\n",
      "Epoch 5/300\n",
      "30/30 [==============================] - 19s 628ms/step - loss: 0.5305 - acc: 0.7632 - recall: 0.4350 - precision: 0.5326 - val_loss: 0.5238 - val_acc: 0.7600 - val_recall: 0.4038 - val_precision: 0.5250\n",
      "Epoch 6/300\n",
      "30/30 [==============================] - 19s 633ms/step - loss: 0.5295 - acc: 0.7637 - recall: 0.4392 - precision: 0.5337 - val_loss: 0.5236 - val_acc: 0.7616 - val_recall: 0.4038 - val_precision: 0.5294\n",
      "\n",
      "\n",
      "        chunk 7 of 9 fit\n",
      "\n",
      "\n",
      "Epoch 1/300\n",
      "30/30 [==============================] - 19s 634ms/step - loss: 0.5192 - acc: 0.7707 - recall: 0.4584 - precision: 0.5499 - val_loss: 0.5575 - val_acc: 0.7376 - val_recall: 0.3846 - val_precision: 0.4688\n",
      "Epoch 2/300\n",
      "30/30 [==============================] - 19s 638ms/step - loss: 0.5183 - acc: 0.7691 - recall: 0.4499 - precision: 0.5466 - val_loss: 0.5576 - val_acc: 0.7376 - val_recall: 0.3846 - val_precision: 0.4688\n",
      "Epoch 3/300\n",
      "30/30 [==============================] - 19s 644ms/step - loss: 0.5180 - acc: 0.7691 - recall: 0.4627 - precision: 0.5452 - val_loss: 0.5578 - val_acc: 0.7344 - val_recall: 0.3846 - val_precision: 0.4615\n",
      "Epoch 4/300\n",
      "30/30 [==============================] - 20s 652ms/step - loss: 0.5182 - acc: 0.7659 - recall: 0.4542 - precision: 0.5379 - val_loss: 0.5578 - val_acc: 0.7344 - val_recall: 0.3846 - val_precision: 0.4615\n",
      "Epoch 5/300\n",
      "30/30 [==============================] - 21s 662ms/step - loss: 0.5208 - acc: 0.7696 - recall: 0.4584 - precision: 0.5471 - val_loss: 0.5580 - val_acc: 0.7344 - val_recall: 0.3846 - val_precision: 0.4615\n",
      "Epoch 6/300\n",
      "30/30 [==============================] - 20s 660ms/step - loss: 0.5192 - acc: 0.7675 - recall: 0.4456 - precision: 0.5429 - val_loss: 0.5580 - val_acc: 0.7328 - val_recall: 0.3846 - val_precision: 0.4580\n",
      "\n",
      "\n",
      "        chunk 8 of 9 fit\n",
      "\n",
      "\n",
      "Epoch 1/300\n",
      "30/30 [==============================] - 20s 661ms/step - loss: 0.5215 - acc: 0.7739 - recall: 0.4755 - precision: 0.5561 - val_loss: 0.5285 - val_acc: 0.7648 - val_recall: 0.4487 - val_precision: 0.5344\n",
      "Epoch 2/300\n",
      "30/30 [==============================] - 20s 663ms/step - loss: 0.5214 - acc: 0.7744 - recall: 0.4755 - precision: 0.5575 - val_loss: 0.5287 - val_acc: 0.7664 - val_recall: 0.4551 - val_precision: 0.5379\n",
      "Epoch 3/300\n",
      "30/30 [==============================] - 20s 666ms/step - loss: 0.5206 - acc: 0.7781 - recall: 0.4840 - precision: 0.5661 - val_loss: 0.5288 - val_acc: 0.7648 - val_recall: 0.4551 - val_precision: 0.5338\n",
      "Epoch 4/300\n",
      "30/30 [==============================] - 21s 679ms/step - loss: 0.5228 - acc: 0.7744 - recall: 0.4691 - precision: 0.5584 - val_loss: 0.5289 - val_acc: 0.7648 - val_recall: 0.4551 - val_precision: 0.5338\n",
      "Epoch 5/300\n",
      "30/30 [==============================] - 21s 691ms/step - loss: 0.5207 - acc: 0.7776 - recall: 0.4797 - precision: 0.5653 - val_loss: 0.5290 - val_acc: 0.7648 - val_recall: 0.4551 - val_precision: 0.5338\n",
      "Epoch 6/300\n",
      "30/30 [==============================] - 21s 692ms/step - loss: 0.5207 - acc: 0.7712 - recall: 0.4691 - precision: 0.5500 - val_loss: 0.5290 - val_acc: 0.7648 - val_recall: 0.4551 - val_precision: 0.5338\n",
      "\n",
      "\n",
      "        chunk 9 of 9 fit\n",
      "\n",
      "\n"
     ]
    }
   ],
   "source": [
    "histlist = [] #save history for each subset fit\n",
    "for i in range(0,9):\n",
    "    #subbing (8-i) for i this round to feed training subsets in reverse to norm\n",
    "    X_train, X_test, y_train, y_test = pkl_to_CNN(f'ch{8-i}_train.pkl', f'ch{8-i}_test.pkl')\n",
    "\n",
    "    history = cnn.fit(X_train, y_train,\n",
    "                      batch_size=64,\n",
    "                      validation_data = (X_test, y_test),\n",
    "                      epochs = 300, #overkill because earlystop\n",
    "                      callbacks = early_stop, verbose=1)\n",
    "    histlist.append(history.history)\n",
    "    \n",
    "    if i<8: #probably gratuitous\n",
    "        del X_train, X_test, y_train, y_test\n",
    "        gc.collect()\n",
    "    \n",
    "    print(f'\\n\\n        chunk {i+1} of 9 fit\\n\\n')"
   ]
  },
  {
   "cell_type": "code",
   "execution_count": 15,
   "id": "e3aadb38",
   "metadata": {
    "ExecuteTime": {
     "end_time": "2021-06-12T21:44:34.723223Z",
     "start_time": "2021-06-12T21:44:33.684908Z"
    }
   },
   "outputs": [
    {
     "name": "stderr",
     "output_type": "stream",
     "text": [
      "/Users/helenmeigs/miniforge3/envs/tensorflow_env/lib/python3.8/site-packages/tensorflow/python/keras/engine/training.py:2325: UserWarning: `Model.state_updates` will be removed in a future version. This property should not be used in TensorFlow 2.0, as `updates` are applied automatically.\n",
      "  warnings.warn('`Model.state_updates` will be removed in a future version. '\n",
      "/Users/helenmeigs/miniforge3/envs/tensorflow_env/lib/python3.8/site-packages/tensorflow/python/keras/engine/base_layer.py:1397: UserWarning: `layer.updates` will be removed in a future version. This property should not be used in TensorFlow 2.0, as `updates` are applied automatically.\n",
      "  warnings.warn('`layer.updates` will be removed in a future version. '\n"
     ]
    },
    {
     "name": "stdout",
     "output_type": "stream",
     "text": [
      "WARNING:tensorflow:FOR KERAS USERS: The object that you are saving contains one or more Keras models or layers. If you are loading the SavedModel with `tf.keras.models.load_model`, continue reading (otherwise, you may ignore the following instructions). Please change your code to save with `tf.keras.models.save_model` or `model.save`, and confirm that the file \"keras.metadata\" exists in the export directory. In the future, Keras will only load the SavedModels that have this file. In other words, `tf.saved_model.save` will no longer write SavedModels that can be recovered as Keras models (this will apply in TF 2.5).\n",
      "\n",
      "FOR DEVS: If you are overwriting _tracking_metadata in your class, this property has been used to save metadata in the SavedModel. The metadta field will be deprecated soon, so please move the metadata to a different file.\n",
      "INFO:tensorflow:Assets written to: ../data/models/vX_rev_nomasks/assets\n"
     ]
    }
   ],
   "source": [
    "#first things first save results before kernel dies!\n",
    "tf.keras.models.save_model(cnn, '../data/models/vX_rev_nomasks')"
   ]
  },
  {
   "cell_type": "code",
   "execution_count": 16,
   "id": "ccf5bf87",
   "metadata": {
    "ExecuteTime": {
     "end_time": "2021-06-12T21:44:34.729385Z",
     "start_time": "2021-06-12T21:44:34.724045Z"
    }
   },
   "outputs": [],
   "source": [
    "with open ('../data/models/histories/vX_rev_hist.pkl', mode = 'wb') as f:\n",
    "    pickle.dump(histlist, f)"
   ]
  },
  {
   "cell_type": "markdown",
   "id": "e6c08156",
   "metadata": {},
   "source": [
    "### Investigate\n",
    "Final evaluation of all model versions is on holdout test set in later notebook. For now, we've retained the last train-test subset in memory to at least look at _A_ score."
   ]
  },
  {
   "cell_type": "code",
   "execution_count": 17,
   "id": "e366babb",
   "metadata": {
    "ExecuteTime": {
     "end_time": "2021-06-12T21:44:35.441422Z",
     "start_time": "2021-06-12T21:44:34.732046Z"
    }
   },
   "outputs": [
    {
     "name": "stdout",
     "output_type": "stream",
     "text": [
      "20/20 [==============================] - 1s 18ms/step - loss: 0.5290 - acc: 0.7648 - recall: 0.4551 - precision: 0.5338\n",
      "CNN final subset loss : 0.529003381729126\n",
      "CNN final subset acc : 0.7648000121116638\n",
      "CNN final subset recall : 0.45512819290161133\n",
      "CNN final subset precision : 0.5338345766067505\n"
     ]
    }
   ],
   "source": [
    "cnn_score = cnn.evaluate(X_test, y_test, verbose=1)\n",
    "cnn_labels = cnn.metrics_names\n",
    "for i in range(len(cnn_labels)):\n",
    "    print(f'CNN final subset {cnn_labels[i]} : {cnn_score[i]}')"
   ]
  },
  {
   "cell_type": "code",
   "execution_count": 18,
   "id": "28baf917",
   "metadata": {
    "ExecuteTime": {
     "end_time": "2021-06-12T21:44:35.446103Z",
     "start_time": "2021-06-12T21:44:35.442565Z"
    }
   },
   "outputs": [
    {
     "data": {
      "text/plain": [
       "[8, 6, 6, 6, 8, 6, 6, 6, 6]"
      ]
     },
     "execution_count": 18,
     "metadata": {},
     "output_type": "execute_result"
    }
   ],
   "source": [
    "#epochs per subset\n",
    "num_epochs = [len(i['loss']) for i in histlist]\n",
    "num_epochs"
   ]
  },
  {
   "cell_type": "markdown",
   "id": "10ffad81",
   "metadata": {},
   "source": [
    "### Visualize\n",
    "Recall is priority classification metric here. Small subsets and few epochs make these visualizations not exactly compelling, but it's what we're working with."
   ]
  },
  {
   "cell_type": "code",
   "execution_count": 19,
   "id": "835b3c3d",
   "metadata": {
    "ExecuteTime": {
     "end_time": "2021-06-12T21:44:36.136267Z",
     "start_time": "2021-06-12T21:44:35.447192Z"
    }
   },
   "outputs": [
    {
     "data": {
      "image/png": "[encoded data removed]",
      "text/plain": [
       "<Figure size 432x288 with 1 Axes>"
      ]
     },
     "metadata": {
      "needs_background": "light"
     },
     "output_type": "display_data"
    },
    {
     "data": {
      "image/png": "[encoded data removed]",
      "text/plain": [
       "<Figure size 432x288 with 1 Axes>"
      ]
     },
     "metadata": {
      "needs_background": "light"
     },
     "output_type": "display_data"
    },
    {
     "data": {
      "image/png": "[encoded data removed]",
      "text/plain": [
       "<Figure size 432x288 with 1 Axes>"
      ]
     },
     "metadata": {
      "needs_background": "light"
     },
     "output_type": "display_data"
    },
    {
     "data": {
      "image/png": "[encoded data removed]",
      "text/plain": [
       "<Figure size 432x288 with 1 Axes>"
      ]
     },
     "metadata": {
      "needs_background": "light"
     },
     "output_type": "display_data"
    },
    {
     "data": {
      "image/png": "[encoded data removed]",
      "text/plain": [
       "<Figure size 432x288 with 1 Axes>"
      ]
     },
     "metadata": {
      "needs_background": "light"
     },
     "output_type": "display_data"
    },
    {
     "data": {
      "image/png": "[encoded data removed]",
      "text/plain": [
       "<Figure size 432x288 with 1 Axes>"
      ]
     },
     "metadata": {
      "needs_background": "light"
     },
     "output_type": "display_data"
    },
    {
     "data": {
      "image/png": "[encoded data removed]",
      "text/plain": [
       "<Figure size 432x288 with 1 Axes>"
      ]
     },
     "metadata": {
      "needs_background": "light"
     },
     "output_type": "display_data"
    },
    {
     "data": {
      "image/png": "[encoded data removed]",
      "text/plain": [
       "<Figure size 432x288 with 1 Axes>"
      ]
     },
     "metadata": {
      "needs_background": "light"
     },
     "output_type": "display_data"
    },
    {
     "data": {
      "image/png": "[encoded data removed]",
      "text/plain": [
       "<Figure size 432x288 with 1 Axes>"
      ]
     },
     "metadata": {
      "needs_background": "light"
     },
     "output_type": "display_data"
    }
   ],
   "source": [
    "for i in range(len(histlist)):\n",
    "    plt.figure()\n",
    "    plt.plot(histlist[i]['recall'], label='Training recall')\n",
    "    plt.plot(histlist[i]['val_recall'], label='Testing recall')\n",
    "    plt.legend();"
   ]
  },
  {
   "cell_type": "markdown",
   "id": "95aac35c",
   "metadata": {},
   "source": [
    "### Next Steps\n",
    "* The next step in this project is to include the augmented data that we generated earlier.   \n",
    "\n",
    "vX is the best scoring model so far, and likely represents the maximum recall achievable with this depth of neural network. External server options were pursued but still did not allow for fitting the entire dataset at once, let alone increasing CNN depth.\n",
    "\n",
    "For optimum performance (outside the scope of this project for now), this neural net needs to be deeper. Given more memory and GPU access, first step would be to at least **double the number of filters** in each Conv2D layer. Secondly, most marine mammal acoustic CNNs utilize many _more_ Conv2D layers in addition to higher filter count."
   ]
  }
 ],
 "metadata": {
  "kernelspec": {
   "display_name": "Python 3",
   "language": "python",
   "name": "python3"
  },
  "language_info": {
   "codemirror_mode": {
    "name": "ipython",
    "version": 3
   },
   "file_extension": ".py",
   "mimetype": "text/x-python",
   "name": "python",
   "nbconvert_exporter": "python",
   "pygments_lexer": "ipython3",
   "version": "3.8.8"
  },
  "varInspector": {
   "cols": {
    "lenName": 16,
    "lenType": 16,
    "lenVar": 40
   },
   "kernels_config": {
    "python": {
     "delete_cmd_postfix": "",
     "delete_cmd_prefix": "del ",
     "library": "var_list.py",
     "varRefreshCmd": "print(var_dic_list())"
    },
    "r": {
     "delete_cmd_postfix": ") ",
     "delete_cmd_prefix": "rm(",
     "library": "var_list.r",
     "varRefreshCmd": "cat(var_dic_list()) "
    }
   },
   "types_to_exclude": [
    "module",
    "function",
    "builtin_function_or_method",
    "instance",
    "_Feature"
   ],
   "window_display": false
  }
 },
 "nbformat": 4,
 "nbformat_minor": 5
}
