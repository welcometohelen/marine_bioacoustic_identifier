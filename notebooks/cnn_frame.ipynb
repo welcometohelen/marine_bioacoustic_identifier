{
 "cells": [
  {
   "cell_type": "markdown",
   "id": "2230394d",
   "metadata": {},
   "source": [
    "## Base model construction and training\n",
    "This notebook includes importing and unpacking data that have been preprocessed for model training and training a single CNN model. Additional models or model adjustments - including exposure to augmented training data - will be performed in separate notebooks.\n",
    "\n",
    "Spectrograms have already been **standardized** (standard-scaler within each array, not across whole dataset), **reshaped**, and train-test-splat in prior notebook. This format is due to memory limitations: training the model on all data at once continuosly broke.  As such, I have broken the whole into 9 chunks and will train the model(s) with each subset sequentially. Train-test subsets will be deleted before importing the next one to free up as much memory as possible. Overkill? Yes. But better than a dead kernel partway through fitting. The code below begins with importing the subsets, already standardized, already divided into train-test splits with consistent pos:neg ratios. Import formats are lists of tuples: (spectrogram_array , label).  \n",
    "\n",
    "The architecture for this base model is based on that of deep learning networks used for marine mammal acoustics in several sources. These sources were operating with data of different volumes, from different environments, and often to different ends (ie multiclass classification, or dealing with species functioning in entirely different frequency ranges). Thus, no network from prior literature is ready 'out of the box' for this project, but they are a better starting point than completely winging it.\n",
    "\n",
    "EDIT: kernel still dies upon fitting second or third subset. Reducing model complexity to run to completion here, but with heavily downsampled data _and_ shallow network, impressive results not expected. See results from AWS for results on higher resolution data.\n",
    "\n",
    "---\n",
    "#### Spoiler Results\n",
    "Base model did not converge. Whether due to loop-fitting, or reduced complexity of data and model to be determined.  Tune in next time.\n",
    "\n",
    "---\n",
    "Sources guiding CNN structure:  \n",
    "* [Padovese et al. 2021.](https://asa.scitation.org/doi/full/10.1121/10.0004258) Data augmentation for the classification of North Atlantic right whales upcalls. _Journal of the Acoustical Society of America_ 149:4.\n",
    "* [Thomas et al. 2019.](https://ecmlpkdd2019.org/downloads/paper/314.pdf) Marine Mammal Species Classification using CNN and a Novel Acoustic Representation. \n",
    "* [Shiu et al. 2020.](https://www.nature.com/articles/s41598-020-57549-y) Deep neural networks for automated detection of marine mammal species. _Nature: Scientific Reports_ 10:607.\n",
    "* I did not look up correct citation format, please send all complaints to https://github.com/charles-rice"
   ]
  },
  {
   "cell_type": "code",
   "execution_count": 1,
   "id": "3a8bf573",
   "metadata": {
    "ExecuteTime": {
     "end_time": "2021-06-06T20:04:25.001545Z",
     "start_time": "2021-06-06T20:04:23.618418Z"
    }
   },
   "outputs": [],
   "source": [
    "import pandas as pd\n",
    "import numpy as np\n",
    "import matplotlib.pyplot as plt\n",
    "import pickle\n",
    "import os\n",
    "import gc\n",
    "\n",
    "from tensorflow.keras.models import Sequential\n",
    "from tensorflow.keras.layers import Dense, Dropout, Flatten, Conv2D, MaxPooling2D\n",
    "from tensorflow.keras import utils\n",
    "from tensorflow.keras.optimizers import Adam\n",
    "from tensorflow.keras.callbacks import EarlyStopping\n",
    "from tensorflow.keras.regularizers import l1, l2, l1_l2\n",
    "\n",
    "from sklearn.model_selection import train_test_split\n",
    "from sklearn.metrics import confusion_matrix, plot_confusion_matrix, recall_score, \\\n",
    "                            accuracy_score, precision_score, f1_score\n",
    "from sklearn.preprocessing import StandardScaler\n",
    "\n",
    "import random\n",
    "random.seed(42)"
   ]
  },
  {
   "cell_type": "code",
   "execution_count": 2,
   "id": "96a8baf5",
   "metadata": {
    "ExecuteTime": {
     "end_time": "2021-06-06T20:04:25.004869Z",
     "start_time": "2021-06-06T20:04:25.002338Z"
    }
   },
   "outputs": [
    {
     "data": {
      "text/plain": [
       "['ch5_test.pkl',\n",
       " 'ch4_test.pkl',\n",
       " 'ch7_train.pkl',\n",
       " 'ch1_train.pkl',\n",
       " 'ch6_train.pkl',\n",
       " 'ch8_test.pkl',\n",
       " 'ch2_test.pkl',\n",
       " 'ch3_test.pkl',\n",
       " 'ch0_train.pkl',\n",
       " 'ch8_train.pkl',\n",
       " 'ch5_train.pkl',\n",
       " 'ch6_test.pkl',\n",
       " 'ch7_test.pkl',\n",
       " 'ch3_train.pkl',\n",
       " 'ch1_test.pkl',\n",
       " 'ch0_test.pkl',\n",
       " 'ch4_train.pkl',\n",
       " 'ch2_train.pkl']"
      ]
     },
     "execution_count": 2,
     "metadata": {},
     "output_type": "execute_result"
    }
   ],
   "source": [
    "#import data, assign pos/neg\n",
    "in_path = '../scratch_data/tts_chunked_sm/'\n",
    "files = os.listdir(in_path)\n",
    "files"
   ]
  },
  {
   "cell_type": "code",
   "execution_count": 3,
   "id": "89876015",
   "metadata": {
    "ExecuteTime": {
     "end_time": "2021-06-06T20:04:25.205347Z",
     "start_time": "2021-06-06T20:04:25.005941Z"
    }
   },
   "outputs": [],
   "source": [
    "with open (in_path+'ch0_train.pkl', mode = 'rb') as f:\n",
    "    ch0_train = pickle.load(f)\n",
    "with open (in_path+'ch0_test.pkl', mode = 'rb') as j:\n",
    "    ch0_test = pickle.load(j)"
   ]
  },
  {
   "cell_type": "code",
   "execution_count": 4,
   "id": "86ec0c4c",
   "metadata": {
    "ExecuteTime": {
     "end_time": "2021-06-06T20:04:25.294527Z",
     "start_time": "2021-06-06T20:04:25.206435Z"
    }
   },
   "outputs": [
    {
     "name": "stdout",
     "output_type": "stream",
     "text": [
      "<class 'numpy.ndarray'> (1875, 307, 460, 1)\n",
      "<class 'numpy.ndarray'> (1875,)\n"
     ]
    }
   ],
   "source": [
    "X_train0, y_train0 = list(zip(*ch0_train))\n",
    "X_train0 = np.array(X_train0)\n",
    "y_train0 = np.array(y_train0)\n",
    "print(type(X_train0), X_train0.shape)\n",
    "print(type(y_train0), y_train0.shape)"
   ]
  },
  {
   "cell_type": "code",
   "execution_count": 5,
   "id": "d7f63fa7",
   "metadata": {
    "ExecuteTime": {
     "end_time": "2021-06-06T20:04:25.327589Z",
     "start_time": "2021-06-06T20:04:25.295242Z"
    }
   },
   "outputs": [
    {
     "name": "stdout",
     "output_type": "stream",
     "text": [
      "<class 'numpy.ndarray'> (625, 307, 460, 1)\n",
      "<class 'numpy.ndarray'> (625,)\n"
     ]
    }
   ],
   "source": [
    "X_test0, y_test0 = list(zip(*ch0_test))\n",
    "X_test0 = np.array(X_test0)\n",
    "y_test0 = np.array(y_test0)\n",
    "print(type(X_test0), X_test0.shape)\n",
    "print(type(y_test0), y_test0.shape)"
   ]
  },
  {
   "cell_type": "code",
   "execution_count": 6,
   "id": "b0bf4879",
   "metadata": {
    "ExecuteTime": {
     "end_time": "2021-06-06T20:04:25.334444Z",
     "start_time": "2021-06-06T20:04:25.328350Z"
    }
   },
   "outputs": [
    {
     "name": "stdout",
     "output_type": "stream",
     "text": [
      "0    0.749867\n",
      "1    0.250133\n",
      "dtype: float64\n",
      "0    0.7504\n",
      "1    0.2496\n",
      "dtype: float64\n"
     ]
    }
   ],
   "source": [
    "print(pd.Series(y_train0).value_counts(normalize=True))\n",
    "print(pd.Series(y_test0).value_counts(normalize=True))"
   ]
  },
  {
   "cell_type": "code",
   "execution_count": 7,
   "id": "8b4d4f63",
   "metadata": {
    "ExecuteTime": {
     "end_time": "2021-06-06T20:04:25.337412Z",
     "start_time": "2021-06-06T20:04:25.335132Z"
    }
   },
   "outputs": [],
   "source": [
    "#function to speed up future chunks\n",
    "\n",
    "def pkl_to_CNN(train_file, test_file):\n",
    "    with open (in_path+train_file, mode = 'rb') as f:\n",
    "        temp_train = pickle.load(f)\n",
    "    with open (in_path+test_file, mode = 'rb') as j:\n",
    "        temp_test = pickle.load(j)\n",
    "        \n",
    "    X_train, y_train = list(zip(*temp_train))\n",
    "    X_test, y_test = list(zip(*temp_test))\n",
    "\n",
    "    return np.array(X_train), np.array(X_test), np.array(y_train), np.array(y_test)"
   ]
  },
  {
   "cell_type": "markdown",
   "id": "788e8d25",
   "metadata": {},
   "source": [
    "#### Model architecture\n",
    "Basic LeNet construction, preceded by a Conv2D layer with a larger filter and stride to reduce dimensions quickly."
   ]
  },
  {
   "cell_type": "code",
   "execution_count": 8,
   "id": "fccab157",
   "metadata": {
    "ExecuteTime": {
     "end_time": "2021-06-06T20:04:25.375560Z",
     "start_time": "2021-06-06T20:04:25.340378Z"
    }
   },
   "outputs": [],
   "source": [
    "# 3 x convolutional layers with max pooling\n",
    "cnn = Sequential()\n",
    "cnn.add(Conv2D(filters = 8, \n",
    "               kernel_size=(11,11),\n",
    "               strides = (4,4), #kernel_size and stride from AlexNet\n",
    "               activation='relu', \n",
    "               input_shape=(307, 460, 1),\n",
    "               padding = 'valid')) #no padding\n",
    "cnn.add(MaxPooling2D(pool_size = (3,3), strides=(2,2)))\n",
    "\n",
    "cnn.add(Conv2D(filters= 16, \n",
    "              kernel_size=(5,5), #LeNet uses 2xconv2d with 5x5 kernel, 2x2 pooling\n",
    "              activation='relu')) #default strides =1\n",
    "cnn.add(MaxPooling2D(pool_size = (2,2), strides=(2,2)))\n",
    "        \n",
    "cnn.add(Conv2D(filters = 16,\n",
    "               kernel_size = (5,5),\n",
    "               activation = 'relu'))\n",
    "cnn.add(MaxPooling2D(pool_size = (2,2), strides=(2,2)))  #output dim = 6 x 11 x 16 = 1056\n",
    "\n",
    "cnn.add(Flatten())\n",
    "\n",
    "# 2 x hidden layers w dropout and weight decay\n",
    "#input nodes = # features\n",
    "cnn.add(Dense(1056, activation='relu', kernel_regularizer=l2(.001))) \n",
    "cnn.add(Dropout(.2)) #double regularization to mitigate overfitting\n",
    "cnn.add(Dense(128, activation = 'relu', kernel_regularizer=l2(.001)))\n",
    "cnn.add(Dropout(.2))\n",
    "cnn.add(Dense(1, activation='sigmoid')) #output layer binary classification"
   ]
  },
  {
   "cell_type": "code",
   "execution_count": 9,
   "id": "9fb0a1dd",
   "metadata": {
    "ExecuteTime": {
     "end_time": "2021-06-06T20:04:25.382237Z",
     "start_time": "2021-06-06T20:04:25.376899Z"
    }
   },
   "outputs": [],
   "source": [
    "# compile model\n",
    "cnn.compile(loss = 'binary_crossentropy', optimizer='Adam', \n",
    "            metrics=['acc', 'Recall', 'Precision'])"
   ]
  },
  {
   "cell_type": "code",
   "execution_count": 10,
   "id": "8771a73c",
   "metadata": {
    "ExecuteTime": {
     "end_time": "2021-06-06T20:04:25.385473Z",
     "start_time": "2021-06-06T20:04:25.382912Z"
    }
   },
   "outputs": [
    {
     "name": "stdout",
     "output_type": "stream",
     "text": [
      "Model: \"sequential\"\n",
      "_________________________________________________________________\n",
      "Layer (type)                 Output Shape              Param #   \n",
      "=================================================================\n",
      "conv2d (Conv2D)              (None, 75, 113, 8)        976       \n",
      "_________________________________________________________________\n",
      "max_pooling2d (MaxPooling2D) (None, 37, 56, 8)         0         \n",
      "_________________________________________________________________\n",
      "conv2d_1 (Conv2D)            (None, 33, 52, 16)        3216      \n",
      "_________________________________________________________________\n",
      "max_pooling2d_1 (MaxPooling2 (None, 16, 26, 16)        0         \n",
      "_________________________________________________________________\n",
      "conv2d_2 (Conv2D)            (None, 12, 22, 16)        6416      \n",
      "_________________________________________________________________\n",
      "max_pooling2d_2 (MaxPooling2 (None, 6, 11, 16)         0         \n",
      "_________________________________________________________________\n",
      "flatten (Flatten)            (None, 1056)              0         \n",
      "_________________________________________________________________\n",
      "dense (Dense)                (None, 1056)              1116192   \n",
      "_________________________________________________________________\n",
      "dropout (Dropout)            (None, 1056)              0         \n",
      "_________________________________________________________________\n",
      "dense_1 (Dense)              (None, 128)               135296    \n",
      "_________________________________________________________________\n",
      "dropout_1 (Dropout)          (None, 128)               0         \n",
      "_________________________________________________________________\n",
      "dense_2 (Dense)              (None, 1)                 129       \n",
      "=================================================================\n",
      "Total params: 1,262,225\n",
      "Trainable params: 1,262,225\n",
      "Non-trainable params: 0\n",
      "_________________________________________________________________\n"
     ]
    }
   ],
   "source": [
    "cnn.summary()"
   ]
  },
  {
   "cell_type": "code",
   "execution_count": 11,
   "id": "907dae6a",
   "metadata": {
    "ExecuteTime": {
     "end_time": "2021-06-06T20:04:25.387410Z",
     "start_time": "2021-06-06T20:04:25.386163Z"
    }
   },
   "outputs": [],
   "source": [
    "#add earlystop?\n",
    "early_stop = EarlyStopping(patience = 10)"
   ]
  },
  {
   "cell_type": "markdown",
   "id": "e57b875c",
   "metadata": {},
   "source": [
    "#### Fit model\n",
    "Verbose at first bc the feedback is helpful to know if things are progressing. Not enacting early_stop because want model trained on all subsets equally. Small batches seems to help with memory demands."
   ]
  },
  {
   "cell_type": "code",
   "execution_count": 12,
   "id": "f4e45e92",
   "metadata": {
    "ExecuteTime": {
     "end_time": "2021-06-06T20:22:49.582306Z",
     "start_time": "2021-06-06T20:04:25.388109Z"
    },
    "collapsed": true
   },
   "outputs": [
    {
     "name": "stdout",
     "output_type": "stream",
     "text": [
      "Epoch 1/100\n",
      "30/30 [==============================] - 11s 342ms/step - loss: 1.8840 - acc: 0.7248 - recall: 0.0864 - precision: 0.3329 - val_loss: 1.8571 - val_acc: 0.7504 - val_recall: 0.0000e+00 - val_precision: 0.0000e+00\n",
      "Epoch 2/100\n",
      "30/30 [==============================] - 9s 315ms/step - loss: 1.8655 - acc: 0.7453 - recall: 0.0000e+00 - precision: 0.0000e+00 - val_loss: 1.8571 - val_acc: 0.7504 - val_recall: 0.0000e+00 - val_precision: 0.0000e+00\n",
      "Epoch 3/100\n",
      "30/30 [==============================] - 10s 319ms/step - loss: 1.8339 - acc: 0.7607 - recall: 0.0000e+00 - precision: 0.0000e+00 - val_loss: 1.8571 - val_acc: 0.7504 - val_recall: 0.0000e+00 - val_precision: 0.0000e+00\n",
      "Epoch 4/100\n",
      "30/30 [==============================] - 10s 320ms/step - loss: 1.8472 - acc: 0.7504 - recall: 0.0000e+00 - precision: 0.0000e+00 - val_loss: 1.8571 - val_acc: 0.7504 - val_recall: 0.0000e+00 - val_precision: 0.0000e+00\n",
      "Epoch 5/100\n",
      "30/30 [==============================] - 10s 320ms/step - loss: 1.8281 - acc: 0.7654 - recall: 0.0000e+00 - precision: 0.0000e+00 - val_loss: 1.8571 - val_acc: 0.7504 - val_recall: 0.0000e+00 - val_precision: 0.0000e+00\n",
      "Epoch 6/100\n",
      "30/30 [==============================] - 10s 323ms/step - loss: 1.8369 - acc: 0.7562 - recall: 0.0000e+00 - precision: 0.0000e+00 - val_loss: 1.8571 - val_acc: 0.7504 - val_recall: 0.0000e+00 - val_precision: 0.0000e+00\n",
      "Epoch 7/100\n",
      "30/30 [==============================] - 10s 323ms/step - loss: 1.8612 - acc: 0.7445 - recall: 0.0000e+00 - precision: 0.0000e+00 - val_loss: 1.8571 - val_acc: 0.7504 - val_recall: 0.0000e+00 - val_precision: 0.0000e+00\n",
      "Epoch 8/100\n",
      "30/30 [==============================] - 10s 324ms/step - loss: 1.8531 - acc: 0.7484 - recall: 0.0000e+00 - precision: 0.0000e+00 - val_loss: 1.8571 - val_acc: 0.7504 - val_recall: 0.0000e+00 - val_precision: 0.0000e+00\n",
      "Epoch 9/100\n",
      "30/30 [==============================] - 10s 327ms/step - loss: 1.8747 - acc: 0.7386 - recall: 0.0000e+00 - precision: 0.0000e+00 - val_loss: 1.8571 - val_acc: 0.7504 - val_recall: 0.0000e+00 - val_precision: 0.0000e+00\n",
      "Epoch 10/100\n",
      "30/30 [==============================] - 10s 329ms/step - loss: 1.8593 - acc: 0.7508 - recall: 0.0000e+00 - precision: 0.0000e+00 - val_loss: 1.8571 - val_acc: 0.7504 - val_recall: 0.0000e+00 - val_precision: 0.0000e+00\n",
      "Epoch 11/100\n",
      "30/30 [==============================] - 10s 331ms/step - loss: 1.8287 - acc: 0.7596 - recall: 0.0000e+00 - precision: 0.0000e+00 - val_loss: 1.8571 - val_acc: 0.7504 - val_recall: 0.0000e+00 - val_precision: 0.0000e+00\n",
      "Epoch 12/100\n",
      "30/30 [==============================] - 10s 331ms/step - loss: 1.8618 - acc: 0.7479 - recall: 0.0000e+00 - precision: 0.0000e+00 - val_loss: 1.8571 - val_acc: 0.7504 - val_recall: 0.0000e+00 - val_precision: 0.0000e+00\n",
      "Epoch 13/100\n",
      "30/30 [==============================] - 10s 336ms/step - loss: 1.8533 - acc: 0.7508 - recall: 0.0000e+00 - precision: 0.0000e+00 - val_loss: 1.8571 - val_acc: 0.7504 - val_recall: 0.0000e+00 - val_precision: 0.0000e+00\n",
      "Epoch 14/100\n",
      "30/30 [==============================] - 10s 338ms/step - loss: 1.8594 - acc: 0.7475 - recall: 0.0000e+00 - precision: 0.0000e+00 - val_loss: 1.8571 - val_acc: 0.7504 - val_recall: 0.0000e+00 - val_precision: 0.0000e+00\n",
      "Epoch 15/100\n",
      "30/30 [==============================] - 10s 337ms/step - loss: 1.8672 - acc: 0.7427 - recall: 0.0000e+00 - precision: 0.0000e+00 - val_loss: 1.8571 - val_acc: 0.7504 - val_recall: 0.0000e+00 - val_precision: 0.0000e+00\n",
      "Epoch 16/100\n",
      "30/30 [==============================] - 10s 342ms/step - loss: 1.8432 - acc: 0.7527 - recall: 0.0000e+00 - precision: 0.0000e+00 - val_loss: 1.8571 - val_acc: 0.7504 - val_recall: 0.0000e+00 - val_precision: 0.0000e+00\n",
      "Epoch 17/100\n",
      "30/30 [==============================] - 10s 342ms/step - loss: 1.8461 - acc: 0.7530 - recall: 0.0000e+00 - precision: 0.0000e+00 - val_loss: 1.8571 - val_acc: 0.7504 - val_recall: 0.0000e+00 - val_precision: 0.0000e+00\n",
      "Epoch 18/100\n",
      "30/30 [==============================] - 10s 347ms/step - loss: 1.8583 - acc: 0.7528 - recall: 0.0000e+00 - precision: 0.0000e+00 - val_loss: 1.8571 - val_acc: 0.7504 - val_recall: 0.0000e+00 - val_precision: 0.0000e+00\n",
      "Epoch 19/100\n",
      "30/30 [==============================] - 11s 345ms/step - loss: 1.8401 - acc: 0.7595 - recall: 0.0000e+00 - precision: 0.0000e+00 - val_loss: 1.8571 - val_acc: 0.7504 - val_recall: 0.0000e+00 - val_precision: 0.0000e+00\n",
      "Epoch 20/100\n",
      "30/30 [==============================] - 10s 345ms/step - loss: 1.8541 - acc: 0.7471 - recall: 0.0000e+00 - precision: 0.0000e+00 - val_loss: 1.8571 - val_acc: 0.7504 - val_recall: 0.0000e+00 - val_precision: 0.0000e+00\n",
      "Epoch 21/100\n",
      "30/30 [==============================] - 10s 344ms/step - loss: 1.8742 - acc: 0.7370 - recall: 0.0000e+00 - precision: 0.0000e+00 - val_loss: 1.8571 - val_acc: 0.7504 - val_recall: 0.0000e+00 - val_precision: 0.0000e+00\n",
      "Epoch 22/100\n",
      "30/30 [==============================] - 11s 355ms/step - loss: 1.8397 - acc: 0.7537 - recall: 0.0000e+00 - precision: 0.0000e+00 - val_loss: 1.8571 - val_acc: 0.7504 - val_recall: 0.0000e+00 - val_precision: 0.0000e+00\n",
      "Epoch 23/100\n",
      "30/30 [==============================] - 10s 348ms/step - loss: 1.8447 - acc: 0.7547 - recall: 0.0000e+00 - precision: 0.0000e+00 - val_loss: 1.8571 - val_acc: 0.7504 - val_recall: 0.0000e+00 - val_precision: 0.0000e+00\n",
      "Epoch 24/100\n",
      "30/30 [==============================] - 11s 351ms/step - loss: 1.8693 - acc: 0.7428 - recall: 0.0000e+00 - precision: 0.0000e+00 - val_loss: 1.8571 - val_acc: 0.7504 - val_recall: 0.0000e+00 - val_precision: 0.0000e+00\n",
      "Epoch 25/100\n",
      "30/30 [==============================] - 11s 351ms/step - loss: 1.8491 - acc: 0.7507 - recall: 0.0000e+00 - precision: 0.0000e+00 - val_loss: 1.8571 - val_acc: 0.7504 - val_recall: 0.0000e+00 - val_precision: 0.0000e+00\n",
      "Epoch 26/100\n",
      "30/30 [==============================] - 11s 347ms/step - loss: 1.8406 - acc: 0.7618 - recall: 0.0000e+00 - precision: 0.0000e+00 - val_loss: 1.8571 - val_acc: 0.7504 - val_recall: 0.0000e+00 - val_precision: 0.0000e+00\n",
      "Epoch 27/100\n",
      "30/30 [==============================] - 11s 349ms/step - loss: 1.8690 - acc: 0.7431 - recall: 0.0000e+00 - precision: 0.0000e+00 - val_loss: 1.8571 - val_acc: 0.7504 - val_recall: 0.0000e+00 - val_precision: 0.0000e+00\n",
      "Epoch 28/100\n",
      "30/30 [==============================] - 11s 351ms/step - loss: 1.8712 - acc: 0.7389 - recall: 0.0000e+00 - precision: 0.0000e+00 - val_loss: 1.8571 - val_acc: 0.7504 - val_recall: 0.0000e+00 - val_precision: 0.0000e+00\n",
      "Epoch 29/100\n",
      "30/30 [==============================] - 11s 353ms/step - loss: 1.8534 - acc: 0.7518 - recall: 0.0000e+00 - precision: 0.0000e+00 - val_loss: 1.8571 - val_acc: 0.7504 - val_recall: 0.0000e+00 - val_precision: 0.0000e+00\n",
      "Epoch 30/100\n",
      "30/30 [==============================] - 11s 357ms/step - loss: 1.8532 - acc: 0.7464 - recall: 0.0000e+00 - precision: 0.0000e+00 - val_loss: 1.8571 - val_acc: 0.7504 - val_recall: 0.0000e+00 - val_precision: 0.0000e+00\n",
      "Epoch 31/100\n",
      "30/30 [==============================] - 11s 371ms/step - loss: 1.4876 - acc: 0.4318 - recall: 0.5911 - precision: 0.2304 - val_loss: 0.9161 - val_acc: 0.7504 - val_recall: 0.0000e+00 - val_precision: 0.0000e+00\n",
      "Epoch 32/100\n",
      "30/30 [==============================] - 11s 366ms/step - loss: 1.4629 - acc: 0.7493 - recall: 0.0000e+00 - precision: 0.0000e+00 - val_loss: 2.9287 - val_acc: 0.7504 - val_recall: 0.0000e+00 - val_precision: 0.0000e+00\n",
      "Epoch 33/100\n",
      "30/30 [==============================] - 11s 365ms/step - loss: 2.7917 - acc: 0.7604 - recall: 0.0000e+00 - precision: 0.0000e+00 - val_loss: 6.0362 - val_acc: 0.7504 - val_recall: 0.0000e+00 - val_precision: 0.0000e+00\n",
      "Epoch 34/100\n",
      "30/30 [==============================] - 11s 372ms/step - loss: 3.1383 - acc: 0.7624 - recall: 0.0000e+00 - precision: 0.0000e+00 - val_loss: 1.7049 - val_acc: 0.7504 - val_recall: 0.0000e+00 - val_precision: 0.0000e+00\n",
      "Epoch 35/100\n",
      "30/30 [==============================] - 11s 368ms/step - loss: 4.4673 - acc: 0.7485 - recall: 0.0000e+00 - precision: 0.0000e+00 - val_loss: 8.0778 - val_acc: 0.7504 - val_recall: 0.0000e+00 - val_precision: 0.0000e+00\n",
      "Epoch 36/100\n"
     ]
    },
    {
     "name": "stdout",
     "output_type": "stream",
     "text": [
      "30/30 [==============================] - 11s 365ms/step - loss: 6.3951 - acc: 0.7519 - recall: 0.0000e+00 - precision: 0.0000e+00 - val_loss: 3.6164 - val_acc: 0.7504 - val_recall: 0.0000e+00 - val_precision: 0.0000e+00\n",
      "Epoch 37/100\n",
      "30/30 [==============================] - 11s 362ms/step - loss: 8.3950 - acc: 0.7625 - recall: 0.0000e+00 - precision: 0.0000e+00 - val_loss: 10.2863 - val_acc: 0.7504 - val_recall: 0.0000e+00 - val_precision: 0.0000e+00\n",
      "Epoch 38/100\n",
      "30/30 [==============================] - 11s 372ms/step - loss: 6.2408 - acc: 0.7452 - recall: 0.0000e+00 - precision: 0.0000e+00 - val_loss: 5.4612 - val_acc: 0.7504 - val_recall: 0.0000e+00 - val_precision: 0.0000e+00\n",
      "Epoch 39/100\n",
      "30/30 [==============================] - 12s 398ms/step - loss: 3.5190 - acc: 0.7644 - recall: 0.0000e+00 - precision: 0.0000e+00 - val_loss: 3.5909 - val_acc: 0.7504 - val_recall: 0.0000e+00 - val_precision: 0.0000e+00\n",
      "Epoch 40/100\n",
      "30/30 [==============================] - 11s 368ms/step - loss: 5.4318 - acc: 0.7474 - recall: 0.0000e+00 - precision: 0.0000e+00 - val_loss: 7.8843 - val_acc: 0.7504 - val_recall: 0.0000e+00 - val_precision: 0.0000e+00\n",
      "Epoch 41/100\n",
      "30/30 [==============================] - 11s 370ms/step - loss: 4.8324 - acc: 0.7520 - recall: 0.0000e+00 - precision: 0.0000e+00 - val_loss: 4.0854 - val_acc: 0.7504 - val_recall: 0.0000e+00 - val_precision: 0.0000e+00\n",
      "Epoch 42/100\n",
      "30/30 [==============================] - 11s 383ms/step - loss: 3.9786 - acc: 0.7430 - recall: 0.0000e+00 - precision: 0.0000e+00 - val_loss: 7.2206 - val_acc: 0.7504 - val_recall: 0.0000e+00 - val_precision: 0.0000e+00\n",
      "Epoch 43/100\n",
      "30/30 [==============================] - 11s 367ms/step - loss: 3.6260 - acc: 0.7542 - recall: 0.0000e+00 - precision: 0.0000e+00 - val_loss: 2.1792 - val_acc: 0.7504 - val_recall: 0.0000e+00 - val_precision: 0.0000e+00\n",
      "Epoch 44/100\n",
      "30/30 [==============================] - 11s 370ms/step - loss: 2.9733 - acc: 0.7464 - recall: 0.0000e+00 - precision: 0.0000e+00 - val_loss: 2.1040 - val_acc: 0.7504 - val_recall: 0.0000e+00 - val_precision: 0.0000e+00\n",
      "Epoch 45/100\n",
      "30/30 [==============================] - 11s 366ms/step - loss: 3.1158 - acc: 0.7639 - recall: 0.0000e+00 - precision: 0.0000e+00 - val_loss: 3.1215 - val_acc: 0.7504 - val_recall: 0.0000e+00 - val_precision: 0.0000e+00\n",
      "Epoch 46/100\n",
      "30/30 [==============================] - 11s 367ms/step - loss: 4.0445 - acc: 0.7527 - recall: 0.0000e+00 - precision: 0.0000e+00 - val_loss: 8.0889 - val_acc: 0.7504 - val_recall: 0.0000e+00 - val_precision: 0.0000e+00\n",
      "Epoch 47/100\n",
      "30/30 [==============================] - 11s 372ms/step - loss: 5.8712 - acc: 0.7483 - recall: 0.0000e+00 - precision: 0.0000e+00 - val_loss: 3.0828 - val_acc: 0.7504 - val_recall: 0.0000e+00 - val_precision: 0.0000e+00\n",
      "Epoch 48/100\n",
      "30/30 [==============================] - 11s 366ms/step - loss: 3.6915 - acc: 0.7532 - recall: 0.0000e+00 - precision: 0.0000e+00 - val_loss: 4.4895 - val_acc: 0.7504 - val_recall: 0.0000e+00 - val_precision: 0.0000e+00\n",
      "Epoch 49/100\n",
      "30/30 [==============================] - 11s 368ms/step - loss: 5.5595 - acc: 0.7566 - recall: 0.0000e+00 - precision: 0.0000e+00 - val_loss: 2.6020 - val_acc: 0.7504 - val_recall: 0.0000e+00 - val_precision: 0.0000e+00\n",
      "Epoch 50/100\n",
      "30/30 [==============================] - 11s 371ms/step - loss: 10.7150 - acc: 0.7375 - recall: 0.0000e+00 - precision: 0.0000e+00 - val_loss: 2.5319 - val_acc: 0.7504 - val_recall: 0.0000e+00 - val_precision: 0.0000e+00\n",
      "Epoch 51/100\n",
      "30/30 [==============================] - 11s 370ms/step - loss: 4.5105 - acc: 0.7487 - recall: 0.0000e+00 - precision: 0.0000e+00 - val_loss: 28.4558 - val_acc: 0.7504 - val_recall: 0.0000e+00 - val_precision: 0.0000e+00\n",
      "Epoch 52/100\n",
      "30/30 [==============================] - 11s 370ms/step - loss: 49.9371 - acc: 0.7411 - recall: 0.0000e+00 - precision: 0.0000e+00 - val_loss: 2.8403 - val_acc: 0.7504 - val_recall: 0.0000e+00 - val_precision: 0.0000e+00\n",
      "Epoch 53/100\n",
      "30/30 [==============================] - 11s 369ms/step - loss: 3.5099 - acc: 0.7580 - recall: 0.0000e+00 - precision: 0.0000e+00 - val_loss: 3.2138 - val_acc: 0.7504 - val_recall: 0.0000e+00 - val_precision: 0.0000e+00\n",
      "Epoch 54/100\n",
      "30/30 [==============================] - 11s 369ms/step - loss: 3.3608 - acc: 0.7588 - recall: 0.0000e+00 - precision: 0.0000e+00 - val_loss: 4.8009 - val_acc: 0.7504 - val_recall: 0.0000e+00 - val_precision: 0.0000e+00\n",
      "Epoch 55/100\n",
      "30/30 [==============================] - 11s 371ms/step - loss: 4.7025 - acc: 0.7587 - recall: 0.0000e+00 - precision: 0.0000e+00 - val_loss: 7.5495 - val_acc: 0.7504 - val_recall: 0.0000e+00 - val_precision: 0.0000e+00\n",
      "Epoch 56/100\n",
      "30/30 [==============================] - 11s 370ms/step - loss: 4.3118 - acc: 0.7568 - recall: 0.0000e+00 - precision: 0.0000e+00 - val_loss: 4.9279 - val_acc: 0.7504 - val_recall: 0.0000e+00 - val_precision: 0.0000e+00\n",
      "Epoch 57/100\n",
      "30/30 [==============================] - 11s 371ms/step - loss: 4.4646 - acc: 0.7533 - recall: 0.0000e+00 - precision: 0.0000e+00 - val_loss: 2.7810 - val_acc: 0.7504 - val_recall: 0.0000e+00 - val_precision: 0.0000e+00\n",
      "Epoch 58/100\n",
      "30/30 [==============================] - 11s 369ms/step - loss: 132.9353 - acc: 0.7530 - recall: 0.0000e+00 - precision: 0.0000e+00 - val_loss: 19.3665 - val_acc: 0.7504 - val_recall: 0.0000e+00 - val_precision: 0.0000e+00\n",
      "Epoch 59/100\n",
      "30/30 [==============================] - 11s 372ms/step - loss: 8.3057 - acc: 0.7522 - recall: 0.0000e+00 - precision: 0.0000e+00 - val_loss: 5.0558 - val_acc: 0.7504 - val_recall: 0.0000e+00 - val_precision: 0.0000e+00\n",
      "Epoch 60/100\n",
      "30/30 [==============================] - 11s 371ms/step - loss: 4.8737 - acc: 0.7590 - recall: 0.0000e+00 - precision: 0.0000e+00 - val_loss: 60.4513 - val_acc: 0.7504 - val_recall: 0.0000e+00 - val_precision: 0.0000e+00\n",
      "Epoch 61/100\n",
      "30/30 [==============================] - 11s 370ms/step - loss: 29.4679 - acc: 0.7468 - recall: 0.0000e+00 - precision: 0.0000e+00 - val_loss: 2.4453 - val_acc: 0.7504 - val_recall: 0.0000e+00 - val_precision: 0.0000e+00\n",
      "Epoch 62/100\n",
      "30/30 [==============================] - 11s 373ms/step - loss: 3.8291 - acc: 0.7550 - recall: 0.0000e+00 - precision: 0.0000e+00 - val_loss: 4.0094 - val_acc: 0.7504 - val_recall: 0.0000e+00 - val_precision: 0.0000e+00\n",
      "Epoch 63/100\n",
      "30/30 [==============================] - 11s 373ms/step - loss: 5.7400 - acc: 0.7603 - recall: 0.0000e+00 - precision: 0.0000e+00 - val_loss: 2.6782 - val_acc: 0.7504 - val_recall: 0.0000e+00 - val_precision: 0.0000e+00\n",
      "Epoch 64/100\n",
      "30/30 [==============================] - 11s 372ms/step - loss: 3.1891 - acc: 0.7455 - recall: 0.0000e+00 - precision: 0.0000e+00 - val_loss: 4.5219 - val_acc: 0.7504 - val_recall: 0.0000e+00 - val_precision: 0.0000e+00\n",
      "Epoch 65/100\n",
      "30/30 [==============================] - 11s 371ms/step - loss: 15.7749 - acc: 0.7499 - recall: 0.0000e+00 - precision: 0.0000e+00 - val_loss: 30.2087 - val_acc: 0.7504 - val_recall: 0.0000e+00 - val_precision: 0.0000e+00\n",
      "Epoch 66/100\n",
      "30/30 [==============================] - 11s 374ms/step - loss: 17.0357 - acc: 0.7437 - recall: 0.0000e+00 - precision: 0.0000e+00 - val_loss: 3.5509 - val_acc: 0.7504 - val_recall: 0.0000e+00 - val_precision: 0.0000e+00\n",
      "Epoch 67/100\n",
      "30/30 [==============================] - 11s 371ms/step - loss: 24.4701 - acc: 0.7650 - recall: 0.0000e+00 - precision: 0.0000e+00 - val_loss: 3.9858 - val_acc: 0.7504 - val_recall: 0.0000e+00 - val_precision: 0.0000e+00\n",
      "Epoch 68/100\n",
      "30/30 [==============================] - 11s 372ms/step - loss: 5.3501 - acc: 0.7520 - recall: 0.0000e+00 - precision: 0.0000e+00 - val_loss: 6.2879 - val_acc: 0.7504 - val_recall: 0.0000e+00 - val_precision: 0.0000e+00\n",
      "Epoch 69/100\n",
      "30/30 [==============================] - 11s 374ms/step - loss: 6.1534 - acc: 0.7653 - recall: 0.0000e+00 - precision: 0.0000e+00 - val_loss: 2.5443 - val_acc: 0.7504 - val_recall: 0.0000e+00 - val_precision: 0.0000e+00\n",
      "Epoch 70/100\n",
      "30/30 [==============================] - 11s 373ms/step - loss: 3.5880 - acc: 0.7430 - recall: 0.0000e+00 - precision: 0.0000e+00 - val_loss: 4.0254 - val_acc: 0.7504 - val_recall: 0.0000e+00 - val_precision: 0.0000e+00\n",
      "Epoch 71/100\n"
     ]
    },
    {
     "name": "stdout",
     "output_type": "stream",
     "text": [
      "30/30 [==============================] - 11s 370ms/step - loss: 3.9484 - acc: 0.7401 - recall: 0.0000e+00 - precision: 0.0000e+00 - val_loss: 25.7603 - val_acc: 0.7504 - val_recall: 0.0000e+00 - val_precision: 0.0000e+00\n",
      "Epoch 72/100\n",
      "30/30 [==============================] - 11s 367ms/step - loss: 57.6813 - acc: 0.7497 - recall: 0.0000e+00 - precision: 0.0000e+00 - val_loss: 4.1837 - val_acc: 0.7504 - val_recall: 0.0000e+00 - val_precision: 0.0000e+00\n",
      "Epoch 73/100\n",
      "30/30 [==============================] - 11s 374ms/step - loss: 3.9768 - acc: 0.7534 - recall: 0.0000e+00 - precision: 0.0000e+00 - val_loss: 3.9214 - val_acc: 0.7504 - val_recall: 0.0000e+00 - val_precision: 0.0000e+00\n",
      "Epoch 74/100\n",
      "30/30 [==============================] - 11s 372ms/step - loss: 3.5551 - acc: 0.7587 - recall: 0.0000e+00 - precision: 0.0000e+00 - val_loss: 3.6463 - val_acc: 0.7504 - val_recall: 0.0000e+00 - val_precision: 0.0000e+00\n",
      "Epoch 75/100\n",
      "30/30 [==============================] - 11s 375ms/step - loss: 4.8101 - acc: 0.7480 - recall: 0.0000e+00 - precision: 0.0000e+00 - val_loss: 2.7574 - val_acc: 0.7504 - val_recall: 0.0000e+00 - val_precision: 0.0000e+00\n",
      "Epoch 76/100\n",
      "30/30 [==============================] - 11s 378ms/step - loss: 4.5992 - acc: 0.7575 - recall: 0.0000e+00 - precision: 0.0000e+00 - val_loss: 3.9225 - val_acc: 0.7504 - val_recall: 0.0000e+00 - val_precision: 0.0000e+00\n",
      "Epoch 77/100\n",
      "30/30 [==============================] - 11s 380ms/step - loss: 4.1949 - acc: 0.7552 - recall: 0.0000e+00 - precision: 0.0000e+00 - val_loss: 3.5855 - val_acc: 0.7504 - val_recall: 0.0000e+00 - val_precision: 0.0000e+00\n",
      "Epoch 78/100\n",
      "30/30 [==============================] - 12s 383ms/step - loss: 175.2202 - acc: 0.7472 - recall: 0.0000e+00 - precision: 0.0000e+00 - val_loss: 193.8447 - val_acc: 0.7504 - val_recall: 0.0000e+00 - val_precision: 0.0000e+00\n",
      "Epoch 79/100\n",
      "30/30 [==============================] - 12s 384ms/step - loss: 77.6508 - acc: 0.7469 - recall: 0.0000e+00 - precision: 0.0000e+00 - val_loss: 10.0986 - val_acc: 0.7504 - val_recall: 0.0000e+00 - val_precision: 0.0000e+00\n",
      "Epoch 80/100\n",
      "30/30 [==============================] - 12s 385ms/step - loss: 13.2440 - acc: 0.7521 - recall: 0.0000e+00 - precision: 0.0000e+00 - val_loss: 630.5362 - val_acc: 0.7504 - val_recall: 0.0000e+00 - val_precision: 0.0000e+00\n",
      "Epoch 81/100\n",
      "30/30 [==============================] - 12s 388ms/step - loss: 938.1090 - acc: 0.7422 - recall: 0.0000e+00 - precision: 0.0000e+00 - val_loss: 382.9564 - val_acc: 0.7504 - val_recall: 0.0000e+00 - val_precision: 0.0000e+00\n",
      "Epoch 82/100\n",
      "30/30 [==============================] - 12s 386ms/step - loss: 277.5505 - acc: 0.7405 - recall: 0.0000e+00 - precision: 0.0000e+00 - val_loss: 15.9749 - val_acc: 0.7504 - val_recall: 0.0000e+00 - val_precision: 0.0000e+00\n",
      "Epoch 83/100\n",
      "30/30 [==============================] - 12s 391ms/step - loss: 16.8991 - acc: 0.7451 - recall: 0.0000e+00 - precision: 0.0000e+00 - val_loss: 32.5127 - val_acc: 0.7504 - val_recall: 0.0000e+00 - val_precision: 0.0000e+00\n",
      "Epoch 84/100\n",
      "30/30 [==============================] - 12s 390ms/step - loss: 21.5037 - acc: 0.7518 - recall: 0.0000e+00 - precision: 0.0000e+00 - val_loss: 5.0161 - val_acc: 0.7504 - val_recall: 0.0000e+00 - val_precision: 0.0000e+00\n",
      "Epoch 85/100\n",
      "30/30 [==============================] - 12s 392ms/step - loss: 282.9071 - acc: 0.7538 - recall: 0.0000e+00 - precision: 0.0000e+00 - val_loss: 507.0309 - val_acc: 0.7504 - val_recall: 0.0000e+00 - val_precision: 0.0000e+00\n",
      "Epoch 86/100\n",
      "30/30 [==============================] - 12s 394ms/step - loss: 334.4501 - acc: 0.7644 - recall: 0.0000e+00 - precision: 0.0000e+00 - val_loss: 62.5835 - val_acc: 0.7504 - val_recall: 0.0000e+00 - val_precision: 0.0000e+00\n",
      "Epoch 87/100\n",
      "30/30 [==============================] - 12s 394ms/step - loss: 26.9453 - acc: 0.7441 - recall: 0.0000e+00 - precision: 0.0000e+00 - val_loss: 7.2321 - val_acc: 0.7504 - val_recall: 0.0000e+00 - val_precision: 0.0000e+00\n",
      "Epoch 88/100\n",
      "30/30 [==============================] - 12s 395ms/step - loss: 4.9863 - acc: 0.7652 - recall: 0.0000e+00 - precision: 0.0000e+00 - val_loss: 3.6428 - val_acc: 0.7504 - val_recall: 0.0000e+00 - val_precision: 0.0000e+00\n",
      "Epoch 89/100\n",
      "30/30 [==============================] - 12s 396ms/step - loss: 3.6442 - acc: 0.7427 - recall: 0.0000e+00 - precision: 0.0000e+00 - val_loss: 4.3151 - val_acc: 0.7504 - val_recall: 0.0000e+00 - val_precision: 0.0000e+00\n",
      "Epoch 90/100\n",
      "30/30 [==============================] - 12s 397ms/step - loss: 97.5129 - acc: 0.7478 - recall: 0.0000e+00 - precision: 0.0000e+00 - val_loss: 133.2652 - val_acc: 0.7504 - val_recall: 0.0000e+00 - val_precision: 0.0000e+00\n",
      "Epoch 91/100\n",
      "30/30 [==============================] - 12s 397ms/step - loss: 80.1911 - acc: 0.7500 - recall: 0.0000e+00 - precision: 0.0000e+00 - val_loss: 16.9136 - val_acc: 0.7504 - val_recall: 0.0000e+00 - val_precision: 0.0000e+00\n",
      "Epoch 92/100\n",
      "30/30 [==============================] - 12s 399ms/step - loss: 13.5032 - acc: 0.7417 - recall: 0.0000e+00 - precision: 0.0000e+00 - val_loss: 4.2886 - val_acc: 0.7504 - val_recall: 0.0000e+00 - val_precision: 0.0000e+00\n",
      "Epoch 93/100\n",
      "30/30 [==============================] - 12s 401ms/step - loss: 4.5078 - acc: 0.7373 - recall: 0.0000e+00 - precision: 0.0000e+00 - val_loss: 7.6528 - val_acc: 0.7504 - val_recall: 0.0000e+00 - val_precision: 0.0000e+00\n",
      "Epoch 94/100\n",
      "30/30 [==============================] - 12s 399ms/step - loss: 28.1081 - acc: 0.7568 - recall: 0.0000e+00 - precision: 0.0000e+00 - val_loss: 1511.7538 - val_acc: 0.7504 - val_recall: 0.0000e+00 - val_precision: 0.0000e+00\n",
      "Epoch 95/100\n",
      "30/30 [==============================] - 12s 401ms/step - loss: 1950.1349 - acc: 0.7467 - recall: 0.0000e+00 - precision: 0.0000e+00 - val_loss: 743.2072 - val_acc: 0.7504 - val_recall: 0.0000e+00 - val_precision: 0.0000e+00\n",
      "Epoch 96/100\n",
      "30/30 [==============================] - 12s 402ms/step - loss: 226.2338 - acc: 0.7456 - recall: 0.0000e+00 - precision: 0.0000e+00 - val_loss: 35.8400 - val_acc: 0.7504 - val_recall: 0.0000e+00 - val_precision: 0.0000e+00\n",
      "Epoch 97/100\n",
      "30/30 [==============================] - 12s 403ms/step - loss: 27.9385 - acc: 0.7545 - recall: 0.0000e+00 - precision: 0.0000e+00 - val_loss: 3.9221 - val_acc: 0.7504 - val_recall: 0.0000e+00 - val_precision: 0.0000e+00\n",
      "Epoch 98/100\n",
      "30/30 [==============================] - 12s 402ms/step - loss: 3.6746 - acc: 0.7576 - recall: 0.0000e+00 - precision: 0.0000e+00 - val_loss: 4.9911 - val_acc: 0.7504 - val_recall: 0.0000e+00 - val_precision: 0.0000e+00\n",
      "Epoch 99/100\n",
      "30/30 [==============================] - 12s 406ms/step - loss: 16.8741 - acc: 0.7604 - recall: 0.0000e+00 - precision: 0.0000e+00 - val_loss: 1639.8666 - val_acc: 0.7504 - val_recall: 0.0000e+00 - val_precision: 0.0000e+00\n",
      "Epoch 100/100\n",
      "30/30 [==============================] - 12s 404ms/step - loss: 2213.6167 - acc: 0.7492 - recall: 0.0000e+00 - precision: 0.0000e+00 - val_loss: 842.7114 - val_acc: 0.7504 - val_recall: 0.0000e+00 - val_precision: 0.0000e+00\n"
     ]
    }
   ],
   "source": [
    "history = cnn.fit(X_train0, y_train0,\n",
    "                  batch_size=64,\n",
    "                  validation_data = (X_test0, y_test0),\n",
    "                  epochs = 100)"
   ]
  },
  {
   "cell_type": "code",
   "execution_count": 13,
   "id": "94b5d495",
   "metadata": {
    "ExecuteTime": {
     "end_time": "2021-06-06T20:22:49.705028Z",
     "start_time": "2021-06-06T20:22:49.583363Z"
    }
   },
   "outputs": [
    {
     "data": {
      "text/plain": [
       "2042"
      ]
     },
     "execution_count": 13,
     "metadata": {},
     "output_type": "execute_result"
    }
   ],
   "source": [
    "del X_train0, y_train0, X_test0, y_test0\n",
    "gc.collect()"
   ]
  },
  {
   "cell_type": "markdown",
   "id": "915068e5",
   "metadata": {},
   "source": [
    "One subset success without memory overload. Just predicting majority class the whole time - no surprise it couldn't pull nuances out of such small subset, check back at the end.  Looping the rest, verbose=0."
   ]
  },
  {
   "cell_type": "code",
   "execution_count": 14,
   "id": "53bb778e",
   "metadata": {
    "ExecuteTime": {
     "end_time": "2021-06-06T23:24:32.047590Z",
     "start_time": "2021-06-06T20:22:49.705772Z"
    }
   },
   "outputs": [
    {
     "name": "stdout",
     "output_type": "stream",
     "text": [
      "chunk 1 of 8 fit\n",
      "chunk 2 of 8 fit\n",
      "chunk 3 of 8 fit\n",
      "chunk 4 of 8 fit\n",
      "chunk 5 of 8 fit\n",
      "chunk 6 of 8 fit\n",
      "chunk 7 of 8 fit\n",
      "chunk 8 of 8 fit\n"
     ]
    }
   ],
   "source": [
    "for i in range(1,9):\n",
    "    \n",
    "    X_train, X_test, y_train, y_test = pkl_to_CNN(f'ch{i}_train.pkl', f'ch{i}_test.pkl')\n",
    "\n",
    "    history = cnn.fit(X_train, y_train,\n",
    "                      batch_size=64,\n",
    "                      validation_data = (X_test, y_test),\n",
    "                      epochs = 100, verbose=0)\n",
    "    print(f'chunk {i} of 8 fit')"
   ]
  },
  {
   "cell_type": "code",
   "execution_count": null,
   "id": "1d3152f4",
   "metadata": {},
   "outputs": [],
   "source": []
  },
  {
   "cell_type": "code",
   "execution_count": null,
   "id": "e9774144",
   "metadata": {},
   "outputs": [],
   "source": []
  },
  {
   "cell_type": "code",
   "execution_count": null,
   "id": "9b5f183a",
   "metadata": {},
   "outputs": [],
   "source": []
  },
  {
   "cell_type": "markdown",
   "id": "10ffad81",
   "metadata": {},
   "source": [
    "#### Visualize"
   ]
  },
  {
   "cell_type": "code",
   "execution_count": 18,
   "id": "835b3c3d",
   "metadata": {
    "ExecuteTime": {
     "end_time": "2021-06-07T00:00:51.157311Z",
     "start_time": "2021-06-07T00:00:51.048780Z"
    }
   },
   "outputs": [
    {
     "data": {
      "image/png": "[encoded data removed]",
      "text/plain": [
       "<Figure size 432x288 with 1 Axes>"
      ]
     },
     "metadata": {
      "needs_background": "light"
     },
     "output_type": "display_data"
    }
   ],
   "source": [
    "plt.plot(history.history['loss'], label='Training loss')\n",
    "plt.plot(history.history['val_loss'], label='Testing loss')\n",
    "plt.legend();"
   ]
  },
  {
   "cell_type": "code",
   "execution_count": 19,
   "id": "783d7519",
   "metadata": {
    "ExecuteTime": {
     "end_time": "2021-06-07T00:01:06.625143Z",
     "start_time": "2021-06-07T00:01:06.537144Z"
    }
   },
   "outputs": [
    {
     "data": {
      "image/png": "[encoded data removed]",
      "text/plain": [
       "<Figure size 432x288 with 1 Axes>"
      ]
     },
     "metadata": {
      "needs_background": "light"
     },
     "output_type": "display_data"
    }
   ],
   "source": [
    "#priority metric = recall: minimize false negatives\n",
    "plt.plot(history.history['recall'], label='Training Recall')\n",
    "plt.plot(history.history['val_recall'], label='Testing Recall')\n",
    "plt.legend();"
   ]
  },
  {
   "cell_type": "code",
   "execution_count": 17,
   "id": "c18ba99f",
   "metadata": {
    "ExecuteTime": {
     "end_time": "2021-06-06T23:24:32.060464Z",
     "start_time": "2021-06-06T23:24:32.057776Z"
    }
   },
   "outputs": [],
   "source": [
    "# history.history"
   ]
  },
  {
   "cell_type": "code",
   "execution_count": 20,
   "id": "faaa7727",
   "metadata": {
    "ExecuteTime": {
     "end_time": "2021-06-07T00:11:01.898437Z",
     "start_time": "2021-06-07T00:11:01.892257Z"
    }
   },
   "outputs": [],
   "source": [
    "with open ('../data/models/01_hist_cnn_base_sm.pkl', mode = 'wb') as f:\n",
    "    pickle.dump(history.history, f)"
   ]
  }
 ],
 "metadata": {
  "kernelspec": {
   "display_name": "Python 3",
   "language": "python",
   "name": "python3"
  },
  "language_info": {
   "codemirror_mode": {
    "name": "ipython",
    "version": 3
   },
   "file_extension": ".py",
   "mimetype": "text/x-python",
   "name": "python",
   "nbconvert_exporter": "python",
   "pygments_lexer": "ipython3",
   "version": "3.8.8"
  },
  "varInspector": {
   "cols": {
    "lenName": 16,
    "lenType": 16,
    "lenVar": 40
   },
   "kernels_config": {
    "python": {
     "delete_cmd_postfix": "",
     "delete_cmd_prefix": "del ",
     "library": "var_list.py",
     "varRefreshCmd": "print(var_dic_list())"
    },
    "r": {
     "delete_cmd_postfix": ") ",
     "delete_cmd_prefix": "rm(",
     "library": "var_list.r",
     "varRefreshCmd": "cat(var_dic_list()) "
    }
   },
   "types_to_exclude": [
    "module",
    "function",
    "builtin_function_or_method",
    "instance",
    "_Feature"
   ],
   "window_display": false
  }
 },
 "nbformat": 4,
 "nbformat_minor": 5
}
