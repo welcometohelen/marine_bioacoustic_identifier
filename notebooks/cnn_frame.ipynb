{
 "cells": [
  {
   "cell_type": "code",
   "execution_count": null,
   "id": "3a8bf573",
   "metadata": {
    "ExecuteTime": {
     "end_time": "2021-06-03T06:48:05.567133Z",
     "start_time": "2021-06-03T06:48:05.389373Z"
    }
   },
   "outputs": [],
   "source": [
    "import numpy as np\n",
    "import matplotlib.pyplot as plt\n",
    "\n",
    "from tensorflow.keras.models import Sequential\n",
    "from tensorflow.keras.layers import Dense, Dropout, Flatten, Conv2D, MaxPooling2D\n",
    "from tensorflow.keras import utils\n",
    "from tensorflow.keras.optimizers import Adam\n",
    "from tensorflow.keras.callbacks import EarlyStopping\n",
    "\n",
    "from sklearn.model_selection import train_test_split\n",
    "from sklearn.metrics import confusion_matrix, plot_confusion_matrix, recall_score, \\\n",
    "                            accuracy_score, precision_score, f1_score\n"
   ]
  },
  {
   "cell_type": "code",
   "execution_count": null,
   "id": "428e0764",
   "metadata": {
    "ExecuteTime": {
     "end_time": "2021-06-03T06:49:00.307277Z",
     "start_time": "2021-06-03T06:49:00.305949Z"
    }
   },
   "outputs": [],
   "source": [
    "#import data, assign pos/neg"
   ]
  },
  {
   "cell_type": "code",
   "execution_count": null,
   "id": "098e360d",
   "metadata": {},
   "outputs": [],
   "source": [
    "#merge into single list with corresponding y"
   ]
  },
  {
   "cell_type": "code",
   "execution_count": null,
   "id": "bb975580",
   "metadata": {
    "ExecuteTime": {
     "end_time": "2021-06-03T06:54:10.568326Z",
     "start_time": "2021-06-03T06:54:10.565701Z"
    }
   },
   "outputs": [],
   "source": [
    "#standardize by StandardScaler\n",
    "#don't standardize by max because future data may differ\n",
    "\n",
    "# (allofit - mean) / std"
   ]
  },
  {
   "cell_type": "code",
   "execution_count": null,
   "id": "aa079746",
   "metadata": {
    "ExecuteTime": {
     "end_time": "2021-06-04T05:12:07.520215Z",
     "start_time": "2021-06-04T05:12:07.513577Z"
    }
   },
   "outputs": [],
   "source": [
    "#tts\n"
   ]
  },
  {
   "cell_type": "code",
   "execution_count": null,
   "id": "e2475e42",
   "metadata": {
    "ExecuteTime": {
     "end_time": "2021-06-04T05:13:00.012388Z",
     "start_time": "2021-06-04T05:12:59.916572Z"
    }
   },
   "outputs": [],
   "source": [
    "#reshape?\n",
    "#X_train.shape will be (~14000, 610, 368)"
   ]
  },
  {
   "cell_type": "markdown",
   "id": "788e8d25",
   "metadata": {},
   "source": [
    "#### Model architecture\n",
    "still need weight decay, dropout"
   ]
  },
  {
   "cell_type": "code",
   "execution_count": null,
   "id": "50ee6654",
   "metadata": {
    "ExecuteTime": {
     "end_time": "2021-06-03T06:58:36.110059Z",
     "start_time": "2021-06-03T06:58:36.080695Z"
    }
   },
   "outputs": [],
   "source": [
    "cnn = Sequential()"
   ]
  },
  {
   "cell_type": "code",
   "execution_count": null,
   "id": "fccab157",
   "metadata": {
    "ExecuteTime": {
     "end_time": "2021-06-03T07:01:57.133980Z",
     "start_time": "2021-06-03T07:01:57.131406Z"
    }
   },
   "outputs": [],
   "source": [
    "# convolutional layer\n",
    "cnn.add(Conv2D(filters = , kernel_size=( , ), activation='relu', input_shape=(610, 368, 1)))"
   ]
  },
  {
   "cell_type": "code",
   "execution_count": null,
   "id": "1e43690b",
   "metadata": {
    "ExecuteTime": {
     "end_time": "2021-06-03T07:07:13.620858Z",
     "start_time": "2021-06-03T07:07:13.617287Z"
    },
    "scrolled": true
   },
   "outputs": [],
   "source": [
    "# dimensions of region pooling\n",
    "cnn.add(MaxPooling2D(pool_size = ( , )))\n",
    "#repeat\n",
    "cnn.add(Conv2D(filters = , kernel_size=( , ), activation='relu'))\n",
    "cnn.add(MaxPooling2D(pool_size=( , )))"
   ]
  },
  {
   "cell_type": "code",
   "execution_count": null,
   "id": "0044b972",
   "metadata": {},
   "outputs": [],
   "source": [
    "cnn.add(Flatten())"
   ]
  },
  {
   "cell_type": "code",
   "execution_count": null,
   "id": "1d2855ed",
   "metadata": {},
   "outputs": [],
   "source": [
    "cnn.add(Dense(XXX, activation='relu'))\n",
    "cnn.add(Dropout(__))\n",
    "cnn.add(Dense(XX, activation = 'relu'))\n",
    "cnn.add(Dropout(__))\n",
    "cdd.add(Dense(1, activation='sigmoid'))"
   ]
  },
  {
   "cell_type": "code",
   "execution_count": null,
   "id": "9fb0a1dd",
   "metadata": {},
   "outputs": [],
   "source": [
    "# compile model\n",
    "cnn.compile(loss = 'binary_crossentropy', optimizer='Adam', \n",
    "            metrics=['acc', 'recall', 'precision'])"
   ]
  },
  {
   "cell_type": "code",
   "execution_count": null,
   "id": "907dae6a",
   "metadata": {},
   "outputs": [],
   "source": [
    "#add earlystop?\n",
    "early_stop = EarlyStopping(monitor = 'val_loss', min_delta=0, patience = 10)"
   ]
  },
  {
   "cell_type": "markdown",
   "id": "e57b875c",
   "metadata": {},
   "source": [
    "#### Fit model\n",
    "This will take a while"
   ]
  },
  {
   "cell_type": "code",
   "execution_count": null,
   "id": "f4e45e92",
   "metadata": {},
   "outputs": [],
   "source": [
    "history = cnn.fit(X_train, y_train,\n",
    "                  batch_size=2048,\n",
    "                  validation_data = (X_test, y_test),\n",
    "                  epochs = 300, #overkill because early_stop\n",
    "                  callbacks = [early_stop], \n",
    "                  verbose = 0)"
   ]
  },
  {
   "cell_type": "markdown",
   "id": "10ffad81",
   "metadata": {},
   "source": [
    "#### Visualize"
   ]
  },
  {
   "cell_type": "code",
   "execution_count": null,
   "id": "835b3c3d",
   "metadata": {},
   "outputs": [],
   "source": [
    "plt.plot(history.history['loss'], label='Training loss')\n",
    "plt.plot(history.history['val_loss'], label='Testing loss')\n",
    "plt.legend();"
   ]
  },
  {
   "cell_type": "code",
   "execution_count": null,
   "id": "783d7519",
   "metadata": {},
   "outputs": [],
   "source": [
    "#priority metric = recall: minimize false negatives\n",
    "plt.plot(history.history['recall'], label='Training Recall')\n",
    "plt.plot(history.history['val_recall'], label='Testing Recall')\n",
    "plt.legend();"
   ]
  },
  {
   "cell_type": "code",
   "execution_count": null,
   "id": "c18ba99f",
   "metadata": {},
   "outputs": [],
   "source": []
  }
 ],
 "metadata": {
  "kernelspec": {
   "display_name": "Python 3",
   "language": "python",
   "name": "python3"
  },
  "language_info": {
   "codemirror_mode": {
    "name": "ipython",
    "version": 3
   },
   "file_extension": ".py",
   "mimetype": "text/x-python",
   "name": "python",
   "nbconvert_exporter": "python",
   "pygments_lexer": "ipython3",
   "version": "3.9.2"
  },
  "varInspector": {
   "cols": {
    "lenName": 16,
    "lenType": 16,
    "lenVar": 40
   },
   "kernels_config": {
    "python": {
     "delete_cmd_postfix": "",
     "delete_cmd_prefix": "del ",
     "library": "var_list.py",
     "varRefreshCmd": "print(var_dic_list())"
    },
    "r": {
     "delete_cmd_postfix": ") ",
     "delete_cmd_prefix": "rm(",
     "library": "var_list.r",
     "varRefreshCmd": "cat(var_dic_list()) "
    }
   },
   "types_to_exclude": [
    "module",
    "function",
    "builtin_function_or_method",
    "instance",
    "_Feature"
   ],
   "window_display": false
  }
 },
 "nbformat": 4,
 "nbformat_minor": 5
}
