{
 "cells": [
  {
   "cell_type": "markdown",
   "id": "a13aa2cf",
   "metadata": {},
   "source": [
    "# Model validation\n",
    "Testing models against holdout set not used in training.  \n",
    "501 positive files, 1539 negative files, randomly selected across all 11 deployments.  \n",
    "\n",
    "In this holdout testing, vX was identified as the best model: highest recall _and_ other classification metrics.  There is a degree of randomness to neural networks, which can cause variation in performance even with the same architecture and the same training data. This variation will absolutely be exacerbated by our subset-mini-batch training format that we had to implement.  It is good practice to fit the model many times and average all scores for reporting.  \n",
    "\n",
    "Thus, vX was vetted through reinstantiation and training on the same data (here, 5 fits each for both augmented and no-augmented data).  Two of the five re-fits received the subsets in reverse order in order to mix it up a little.  The validation process below contains all 10 of these vX models, and the single fits for all other versions (v2-9, vXI).\n",
    "\n",
    "The architectures for each version are summarized in the readme.\n",
    "\n",
    "---\n",
    "Citations:  \n",
    "Dennis T, [Confusion Matrix Visualization](https://medium.com/@dtuk81/confusion-matrix-visualization-fc31e3f30fea)"
   ]
  },
  {
   "cell_type": "code",
   "execution_count": 1,
   "id": "91198f6b",
   "metadata": {
    "ExecuteTime": {
     "end_time": "2021-06-13T23:12:26.393416Z",
     "start_time": "2021-06-13T23:12:24.650842Z"
    }
   },
   "outputs": [],
   "source": [
    "import tensorflow as tf\n",
    "import pandas as pd\n",
    "import seaborn as sns\n",
    "import os\n",
    "import numpy as np\n",
    "import pickle\n",
    "import gc"
   ]
  },
  {
   "cell_type": "markdown",
   "id": "6da60d0b",
   "metadata": {},
   "source": [
    "#### Import holdout set and label with positive/negative.\n",
    "Similar to process in notebooks for model training."
   ]
  },
  {
   "cell_type": "code",
   "execution_count": 2,
   "id": "2c999ad0",
   "metadata": {
    "ExecuteTime": {
     "end_time": "2021-06-13T23:12:26.397594Z",
     "start_time": "2021-06-13T23:12:26.394303Z"
    }
   },
   "outputs": [
    {
     "data": {
      "text/plain": [
       "['holdout_1_neg.pkl', 'holdout_1_pos.pkl', 'positives', 'negatives']"
      ]
     },
     "execution_count": 2,
     "metadata": {},
     "output_type": "execute_result"
    }
   ],
   "source": [
    "#import holdout set\n",
    "in_path = '../scratch_data/holdout/'\n",
    "os.listdir(in_path)"
   ]
  },
  {
   "cell_type": "code",
   "execution_count": 3,
   "id": "8b6c87f5",
   "metadata": {
    "ExecuteTime": {
     "end_time": "2021-06-13T23:12:26.400872Z",
     "start_time": "2021-06-13T23:12:26.398651Z"
    }
   },
   "outputs": [
    {
     "data": {
      "text/plain": [
       "['holdout_1_neg.pkl', 'holdout_1_pos.pkl']"
      ]
     },
     "execution_count": 3,
     "metadata": {},
     "output_type": "execute_result"
    }
   ],
   "source": [
    "target_files = [i for i in os.listdir(in_path) if 'pkl' in i]\n",
    "target_files"
   ]
  },
  {
   "cell_type": "code",
   "execution_count": 4,
   "id": "6b5dc3f4",
   "metadata": {
    "ExecuteTime": {
     "end_time": "2021-06-13T23:12:27.042928Z",
     "start_time": "2021-06-13T23:12:26.401864Z"
    }
   },
   "outputs": [],
   "source": [
    "X_holdout = []\n",
    "y_holdout = []\n",
    "for i in target_files:\n",
    "    with open (in_path + i, mode = 'rb') as f:\n",
    "        temp = pickle.load(f)\n",
    "        X_holdout += temp\n",
    "        if 'pos' in i:\n",
    "            y_holdout += [1]*len(temp)\n",
    "        else:\n",
    "            y_holdout += [0]*len(temp)"
   ]
  },
  {
   "cell_type": "code",
   "execution_count": 5,
   "id": "9fe17091",
   "metadata": {
    "ExecuteTime": {
     "end_time": "2021-06-13T23:12:27.861060Z",
     "start_time": "2021-06-13T23:12:27.043693Z"
    }
   },
   "outputs": [],
   "source": [
    "#standard scaler to match training data\n",
    "X_holdout = [((i-np.mean(i))/np.std(i)) for i in X_holdout]\n",
    "\n",
    "#recast for model input\n",
    "X_holdout = np.array(X_holdout)\n",
    "y_holdout = np.array(y_holdout)\n",
    "X_holdout = X_holdout.reshape(X_holdout.shape[0], 610, 368, 1)"
   ]
  },
  {
   "cell_type": "code",
   "execution_count": 6,
   "id": "648c487e",
   "metadata": {
    "ExecuteTime": {
     "end_time": "2021-06-13T23:12:27.866337Z",
     "start_time": "2021-06-13T23:12:27.861794Z"
    }
   },
   "outputs": [
    {
     "data": {
      "text/plain": [
       "['v6_masked',\n",
       " 'v5_nomasks',\n",
       " 'vX_again_masked',\n",
       " 'vXI_masked',\n",
       " 'v2_dnc',\n",
       " 'vX_third_masked',\n",
       " 'vX_again_nomasks',\n",
       " 'v4_nomasks',\n",
       " 'v4_masked',\n",
       " 'vX_third_nomasks',\n",
       " 'vXI_nomasks',\n",
       " 'v6_nomasks',\n",
       " 'v7_nomasks',\n",
       " 'vX_rev_nomasks',\n",
       " 'vX_rev2_nomasks',\n",
       " 'v9_masked',\n",
       " 'v5_masked',\n",
       " 'vX_rev2_masked',\n",
       " 'vX_rev_masked',\n",
       " 'histories',\n",
       " 'vX_original_masked',\n",
       " 'vX_original_nomasks',\n",
       " 'v9_nomasks']"
      ]
     },
     "execution_count": 6,
     "metadata": {},
     "output_type": "execute_result"
    }
   ],
   "source": [
    "mod_path = '../data/models/'\n",
    "os.listdir(mod_path)"
   ]
  },
  {
   "cell_type": "markdown",
   "id": "50b08d81",
   "metadata": {},
   "source": [
    "#### Define function to evaluate each model on holdout data and configure results in a dataframe:"
   ]
  },
  {
   "cell_type": "code",
   "execution_count": 7,
   "id": "6853873b",
   "metadata": {
    "ExecuteTime": {
     "end_time": "2021-06-13T23:12:27.871449Z",
     "start_time": "2021-06-13T23:12:27.866960Z"
    }
   },
   "outputs": [],
   "source": [
    "def group_eval_to_df(mod_path, X_val, y_val):\n",
    "    mod_list = [i for i in os.listdir(mod_path) if 'hist' not in i]\n",
    "    \n",
    "    list_for_df = []\n",
    "    \n",
    "    for m in mod_list:\n",
    "        model = tf.keras.models.load_model(mod_path+m)\n",
    "        score = model.evaluate(X_val, y_val, verbose=0)\n",
    "        metrics = model.metrics_names\n",
    "        for i in range(len(model.metrics_names)):\n",
    "            row = [m, model.metrics_names[i], score[i]]\n",
    "            list_for_df.append(row)\n",
    "    \n",
    "    df = pd.DataFrame(list_for_df, columns = ['model', 'metric', 'score'])\n",
    "    df = df.set_index(['model', 'metric'])['score'].unstack()\n",
    "    df = df[['recall', 'acc', 'precision', 'loss']]\n",
    "    return df"
   ]
  },
  {
   "cell_type": "markdown",
   "id": "1641f54f",
   "metadata": {},
   "source": [
    "#### Evaluate all models at once:\n",
    "Read something recreational for 40 seconds you've earned it"
   ]
  },
  {
   "cell_type": "code",
   "execution_count": 8,
   "id": "fcb74cdc",
   "metadata": {
    "ExecuteTime": {
     "end_time": "2021-06-13T23:13:09.541083Z",
     "start_time": "2021-06-13T23:12:27.874222Z"
    },
    "scrolled": true
   },
   "outputs": [
    {
     "data": {
      "text/html": [
       "<div>\n",
       "<style scoped>\n",
       "    .dataframe tbody tr th:only-of-type {\n",
       "        vertical-align: middle;\n",
       "    }\n",
       "\n",
       "    .dataframe tbody tr th {\n",
       "        vertical-align: top;\n",
       "    }\n",
       "\n",
       "    .dataframe thead th {\n",
       "        text-align: right;\n",
       "    }\n",
       "</style>\n",
       "<table border=\"1\" class=\"dataframe\">\n",
       "  <thead>\n",
       "    <tr style=\"text-align: right;\">\n",
       "      <th>metric</th>\n",
       "      <th>recall</th>\n",
       "      <th>acc</th>\n",
       "      <th>precision</th>\n",
       "      <th>loss</th>\n",
       "    </tr>\n",
       "    <tr>\n",
       "      <th>model</th>\n",
       "      <th></th>\n",
       "      <th></th>\n",
       "      <th></th>\n",
       "      <th></th>\n",
       "    </tr>\n",
       "  </thead>\n",
       "  <tbody>\n",
       "    <tr>\n",
       "      <th>v2_dnc</th>\n",
       "      <td>0.000</td>\n",
       "      <td>0.754661</td>\n",
       "      <td>0.000000</td>\n",
       "      <td>0.557160</td>\n",
       "    </tr>\n",
       "    <tr>\n",
       "      <th>v4_masked</th>\n",
       "      <td>0.360</td>\n",
       "      <td>0.786065</td>\n",
       "      <td>0.608108</td>\n",
       "      <td>2.649781</td>\n",
       "    </tr>\n",
       "    <tr>\n",
       "      <th>v4_nomasks</th>\n",
       "      <td>0.330</td>\n",
       "      <td>0.773307</td>\n",
       "      <td>0.565068</td>\n",
       "      <td>2.661591</td>\n",
       "    </tr>\n",
       "    <tr>\n",
       "      <th>v5_masked</th>\n",
       "      <td>0.292</td>\n",
       "      <td>0.786065</td>\n",
       "      <td>0.640351</td>\n",
       "      <td>3.221844</td>\n",
       "    </tr>\n",
       "    <tr>\n",
       "      <th>v5_nomasks</th>\n",
       "      <td>0.304</td>\n",
       "      <td>0.773307</td>\n",
       "      <td>0.571429</td>\n",
       "      <td>3.224825</td>\n",
       "    </tr>\n",
       "    <tr>\n",
       "      <th>v6_masked</th>\n",
       "      <td>0.394</td>\n",
       "      <td>0.781158</td>\n",
       "      <td>0.579412</td>\n",
       "      <td>22.098425</td>\n",
       "    </tr>\n",
       "    <tr>\n",
       "      <th>v6_nomasks</th>\n",
       "      <td>0.374</td>\n",
       "      <td>0.778214</td>\n",
       "      <td>0.573620</td>\n",
       "      <td>22.140457</td>\n",
       "    </tr>\n",
       "    <tr>\n",
       "      <th>v7_nomasks</th>\n",
       "      <td>0.376</td>\n",
       "      <td>0.700196</td>\n",
       "      <td>0.386037</td>\n",
       "      <td>11228.722656</td>\n",
       "    </tr>\n",
       "    <tr>\n",
       "      <th>v9_masked</th>\n",
       "      <td>0.378</td>\n",
       "      <td>0.780177</td>\n",
       "      <td>0.579755</td>\n",
       "      <td>24.220379</td>\n",
       "    </tr>\n",
       "    <tr>\n",
       "      <th>v9_nomasks</th>\n",
       "      <td>0.332</td>\n",
       "      <td>0.781649</td>\n",
       "      <td>0.599278</td>\n",
       "      <td>24.227171</td>\n",
       "    </tr>\n",
       "    <tr>\n",
       "      <th>vXI_masked</th>\n",
       "      <td>0.402</td>\n",
       "      <td>0.788518</td>\n",
       "      <td>0.603604</td>\n",
       "      <td>0.455632</td>\n",
       "    </tr>\n",
       "    <tr>\n",
       "      <th>vXI_nomasks</th>\n",
       "      <td>0.388</td>\n",
       "      <td>0.784593</td>\n",
       "      <td>0.593272</td>\n",
       "      <td>0.498613</td>\n",
       "    </tr>\n",
       "    <tr>\n",
       "      <th>vX_again_masked</th>\n",
       "      <td>0.526</td>\n",
       "      <td>0.796860</td>\n",
       "      <td>0.597727</td>\n",
       "      <td>0.478910</td>\n",
       "    </tr>\n",
       "    <tr>\n",
       "      <th>vX_again_nomasks</th>\n",
       "      <td>0.254</td>\n",
       "      <td>0.776251</td>\n",
       "      <td>0.604762</td>\n",
       "      <td>0.486967</td>\n",
       "    </tr>\n",
       "    <tr>\n",
       "      <th>vX_original_masked</th>\n",
       "      <td>0.422</td>\n",
       "      <td>0.795388</td>\n",
       "      <td>0.622419</td>\n",
       "      <td>0.454362</td>\n",
       "    </tr>\n",
       "    <tr>\n",
       "      <th>vX_original_nomasks</th>\n",
       "      <td>0.310</td>\n",
       "      <td>0.783611</td>\n",
       "      <td>0.617530</td>\n",
       "      <td>0.510558</td>\n",
       "    </tr>\n",
       "    <tr>\n",
       "      <th>vX_rev2_masked</th>\n",
       "      <td>0.238</td>\n",
       "      <td>0.794897</td>\n",
       "      <td>0.762821</td>\n",
       "      <td>0.464661</td>\n",
       "    </tr>\n",
       "    <tr>\n",
       "      <th>vX_rev2_nomasks</th>\n",
       "      <td>0.368</td>\n",
       "      <td>0.778214</td>\n",
       "      <td>0.575000</td>\n",
       "      <td>0.509056</td>\n",
       "    </tr>\n",
       "    <tr>\n",
       "      <th>vX_rev_masked</th>\n",
       "      <td>0.390</td>\n",
       "      <td>0.791462</td>\n",
       "      <td>0.619048</td>\n",
       "      <td>0.470176</td>\n",
       "    </tr>\n",
       "    <tr>\n",
       "      <th>vX_rev_nomasks</th>\n",
       "      <td>0.440</td>\n",
       "      <td>0.764475</td>\n",
       "      <td>0.523810</td>\n",
       "      <td>0.513241</td>\n",
       "    </tr>\n",
       "    <tr>\n",
       "      <th>vX_third_masked</th>\n",
       "      <td>0.426</td>\n",
       "      <td>0.791953</td>\n",
       "      <td>0.608571</td>\n",
       "      <td>0.469696</td>\n",
       "    </tr>\n",
       "    <tr>\n",
       "      <th>vX_third_nomasks</th>\n",
       "      <td>0.410</td>\n",
       "      <td>0.765456</td>\n",
       "      <td>0.528351</td>\n",
       "      <td>0.525266</td>\n",
       "    </tr>\n",
       "  </tbody>\n",
       "</table>\n",
       "</div>"
      ],
      "text/plain": [
       "metric               recall       acc  precision          loss\n",
       "model                                                         \n",
       "v2_dnc                0.000  0.754661   0.000000      0.557160\n",
       "v4_masked             0.360  0.786065   0.608108      2.649781\n",
       "v4_nomasks            0.330  0.773307   0.565068      2.661591\n",
       "v5_masked             0.292  0.786065   0.640351      3.221844\n",
       "v5_nomasks            0.304  0.773307   0.571429      3.224825\n",
       "v6_masked             0.394  0.781158   0.579412     22.098425\n",
       "v6_nomasks            0.374  0.778214   0.573620     22.140457\n",
       "v7_nomasks            0.376  0.700196   0.386037  11228.722656\n",
       "v9_masked             0.378  0.780177   0.579755     24.220379\n",
       "v9_nomasks            0.332  0.781649   0.599278     24.227171\n",
       "vXI_masked            0.402  0.788518   0.603604      0.455632\n",
       "vXI_nomasks           0.388  0.784593   0.593272      0.498613\n",
       "vX_again_masked       0.526  0.796860   0.597727      0.478910\n",
       "vX_again_nomasks      0.254  0.776251   0.604762      0.486967\n",
       "vX_original_masked    0.422  0.795388   0.622419      0.454362\n",
       "vX_original_nomasks   0.310  0.783611   0.617530      0.510558\n",
       "vX_rev2_masked        0.238  0.794897   0.762821      0.464661\n",
       "vX_rev2_nomasks       0.368  0.778214   0.575000      0.509056\n",
       "vX_rev_masked         0.390  0.791462   0.619048      0.470176\n",
       "vX_rev_nomasks        0.440  0.764475   0.523810      0.513241\n",
       "vX_third_masked       0.426  0.791953   0.608571      0.469696\n",
       "vX_third_nomasks      0.410  0.765456   0.528351      0.525266"
      ]
     },
     "execution_count": 8,
     "metadata": {},
     "output_type": "execute_result"
    }
   ],
   "source": [
    "holdout_scores = group_eval_to_df(mod_path, X_holdout, y_holdout)\n",
    "holdout_scores"
   ]
  },
  {
   "cell_type": "markdown",
   "id": "663976fc",
   "metadata": {},
   "source": [
    "### 'Masked' generally outperforms unmasked\n",
    "The above is helpful output for comparing models sequentially, and with their masked counterpart. It appears at first glance that the models trained with the addition of augmented data usually outperformed the version not exposed to augmented data.  Sorting by recall confirms that 7 of the top 10 models were 'masked'.  Sorting also shows that vX consistently beat out other models, but occasionaly it took a real dive: iterations of vX hold all of the top 5 positions, but also 2 of the bottom 3:"
   ]
  },
  {
   "cell_type": "code",
   "execution_count": 9,
   "id": "006ae2c1",
   "metadata": {
    "ExecuteTime": {
     "end_time": "2021-06-13T23:13:09.548594Z",
     "start_time": "2021-06-13T23:13:09.542476Z"
    }
   },
   "outputs": [
    {
     "data": {
      "text/html": [
       "<div>\n",
       "<style scoped>\n",
       "    .dataframe tbody tr th:only-of-type {\n",
       "        vertical-align: middle;\n",
       "    }\n",
       "\n",
       "    .dataframe tbody tr th {\n",
       "        vertical-align: top;\n",
       "    }\n",
       "\n",
       "    .dataframe thead th {\n",
       "        text-align: right;\n",
       "    }\n",
       "</style>\n",
       "<table border=\"1\" class=\"dataframe\">\n",
       "  <thead>\n",
       "    <tr style=\"text-align: right;\">\n",
       "      <th>metric</th>\n",
       "      <th>recall</th>\n",
       "      <th>acc</th>\n",
       "      <th>precision</th>\n",
       "      <th>loss</th>\n",
       "    </tr>\n",
       "    <tr>\n",
       "      <th>model</th>\n",
       "      <th></th>\n",
       "      <th></th>\n",
       "      <th></th>\n",
       "      <th></th>\n",
       "    </tr>\n",
       "  </thead>\n",
       "  <tbody>\n",
       "    <tr>\n",
       "      <th>vX_again_masked</th>\n",
       "      <td>0.526</td>\n",
       "      <td>0.796860</td>\n",
       "      <td>0.597727</td>\n",
       "      <td>0.478910</td>\n",
       "    </tr>\n",
       "    <tr>\n",
       "      <th>vX_rev_nomasks</th>\n",
       "      <td>0.440</td>\n",
       "      <td>0.764475</td>\n",
       "      <td>0.523810</td>\n",
       "      <td>0.513241</td>\n",
       "    </tr>\n",
       "    <tr>\n",
       "      <th>vX_third_masked</th>\n",
       "      <td>0.426</td>\n",
       "      <td>0.791953</td>\n",
       "      <td>0.608571</td>\n",
       "      <td>0.469696</td>\n",
       "    </tr>\n",
       "    <tr>\n",
       "      <th>vX_original_masked</th>\n",
       "      <td>0.422</td>\n",
       "      <td>0.795388</td>\n",
       "      <td>0.622419</td>\n",
       "      <td>0.454362</td>\n",
       "    </tr>\n",
       "    <tr>\n",
       "      <th>vX_third_nomasks</th>\n",
       "      <td>0.410</td>\n",
       "      <td>0.765456</td>\n",
       "      <td>0.528351</td>\n",
       "      <td>0.525266</td>\n",
       "    </tr>\n",
       "    <tr>\n",
       "      <th>vXI_masked</th>\n",
       "      <td>0.402</td>\n",
       "      <td>0.788518</td>\n",
       "      <td>0.603604</td>\n",
       "      <td>0.455632</td>\n",
       "    </tr>\n",
       "    <tr>\n",
       "      <th>v6_masked</th>\n",
       "      <td>0.394</td>\n",
       "      <td>0.781158</td>\n",
       "      <td>0.579412</td>\n",
       "      <td>22.098425</td>\n",
       "    </tr>\n",
       "    <tr>\n",
       "      <th>vX_rev_masked</th>\n",
       "      <td>0.390</td>\n",
       "      <td>0.791462</td>\n",
       "      <td>0.619048</td>\n",
       "      <td>0.470176</td>\n",
       "    </tr>\n",
       "    <tr>\n",
       "      <th>vXI_nomasks</th>\n",
       "      <td>0.388</td>\n",
       "      <td>0.784593</td>\n",
       "      <td>0.593272</td>\n",
       "      <td>0.498613</td>\n",
       "    </tr>\n",
       "    <tr>\n",
       "      <th>v9_masked</th>\n",
       "      <td>0.378</td>\n",
       "      <td>0.780177</td>\n",
       "      <td>0.579755</td>\n",
       "      <td>24.220379</td>\n",
       "    </tr>\n",
       "    <tr>\n",
       "      <th>v7_nomasks</th>\n",
       "      <td>0.376</td>\n",
       "      <td>0.700196</td>\n",
       "      <td>0.386037</td>\n",
       "      <td>11228.722656</td>\n",
       "    </tr>\n",
       "    <tr>\n",
       "      <th>v6_nomasks</th>\n",
       "      <td>0.374</td>\n",
       "      <td>0.778214</td>\n",
       "      <td>0.573620</td>\n",
       "      <td>22.140457</td>\n",
       "    </tr>\n",
       "    <tr>\n",
       "      <th>vX_rev2_nomasks</th>\n",
       "      <td>0.368</td>\n",
       "      <td>0.778214</td>\n",
       "      <td>0.575000</td>\n",
       "      <td>0.509056</td>\n",
       "    </tr>\n",
       "    <tr>\n",
       "      <th>v4_masked</th>\n",
       "      <td>0.360</td>\n",
       "      <td>0.786065</td>\n",
       "      <td>0.608108</td>\n",
       "      <td>2.649781</td>\n",
       "    </tr>\n",
       "    <tr>\n",
       "      <th>v9_nomasks</th>\n",
       "      <td>0.332</td>\n",
       "      <td>0.781649</td>\n",
       "      <td>0.599278</td>\n",
       "      <td>24.227171</td>\n",
       "    </tr>\n",
       "    <tr>\n",
       "      <th>v4_nomasks</th>\n",
       "      <td>0.330</td>\n",
       "      <td>0.773307</td>\n",
       "      <td>0.565068</td>\n",
       "      <td>2.661591</td>\n",
       "    </tr>\n",
       "    <tr>\n",
       "      <th>vX_original_nomasks</th>\n",
       "      <td>0.310</td>\n",
       "      <td>0.783611</td>\n",
       "      <td>0.617530</td>\n",
       "      <td>0.510558</td>\n",
       "    </tr>\n",
       "    <tr>\n",
       "      <th>v5_nomasks</th>\n",
       "      <td>0.304</td>\n",
       "      <td>0.773307</td>\n",
       "      <td>0.571429</td>\n",
       "      <td>3.224825</td>\n",
       "    </tr>\n",
       "    <tr>\n",
       "      <th>v5_masked</th>\n",
       "      <td>0.292</td>\n",
       "      <td>0.786065</td>\n",
       "      <td>0.640351</td>\n",
       "      <td>3.221844</td>\n",
       "    </tr>\n",
       "    <tr>\n",
       "      <th>vX_again_nomasks</th>\n",
       "      <td>0.254</td>\n",
       "      <td>0.776251</td>\n",
       "      <td>0.604762</td>\n",
       "      <td>0.486967</td>\n",
       "    </tr>\n",
       "    <tr>\n",
       "      <th>vX_rev2_masked</th>\n",
       "      <td>0.238</td>\n",
       "      <td>0.794897</td>\n",
       "      <td>0.762821</td>\n",
       "      <td>0.464661</td>\n",
       "    </tr>\n",
       "    <tr>\n",
       "      <th>v2_dnc</th>\n",
       "      <td>0.000</td>\n",
       "      <td>0.754661</td>\n",
       "      <td>0.000000</td>\n",
       "      <td>0.557160</td>\n",
       "    </tr>\n",
       "  </tbody>\n",
       "</table>\n",
       "</div>"
      ],
      "text/plain": [
       "metric               recall       acc  precision          loss\n",
       "model                                                         \n",
       "vX_again_masked       0.526  0.796860   0.597727      0.478910\n",
       "vX_rev_nomasks        0.440  0.764475   0.523810      0.513241\n",
       "vX_third_masked       0.426  0.791953   0.608571      0.469696\n",
       "vX_original_masked    0.422  0.795388   0.622419      0.454362\n",
       "vX_third_nomasks      0.410  0.765456   0.528351      0.525266\n",
       "vXI_masked            0.402  0.788518   0.603604      0.455632\n",
       "v6_masked             0.394  0.781158   0.579412     22.098425\n",
       "vX_rev_masked         0.390  0.791462   0.619048      0.470176\n",
       "vXI_nomasks           0.388  0.784593   0.593272      0.498613\n",
       "v9_masked             0.378  0.780177   0.579755     24.220379\n",
       "v7_nomasks            0.376  0.700196   0.386037  11228.722656\n",
       "v6_nomasks            0.374  0.778214   0.573620     22.140457\n",
       "vX_rev2_nomasks       0.368  0.778214   0.575000      0.509056\n",
       "v4_masked             0.360  0.786065   0.608108      2.649781\n",
       "v9_nomasks            0.332  0.781649   0.599278     24.227171\n",
       "v4_nomasks            0.330  0.773307   0.565068      2.661591\n",
       "vX_original_nomasks   0.310  0.783611   0.617530      0.510558\n",
       "v5_nomasks            0.304  0.773307   0.571429      3.224825\n",
       "v5_masked             0.292  0.786065   0.640351      3.221844\n",
       "vX_again_nomasks      0.254  0.776251   0.604762      0.486967\n",
       "vX_rev2_masked        0.238  0.794897   0.762821      0.464661\n",
       "v2_dnc                0.000  0.754661   0.000000      0.557160"
      ]
     },
     "execution_count": 9,
     "metadata": {},
     "output_type": "execute_result"
    }
   ],
   "source": [
    "holdout_scores.sort_values('recall', ascending=False)"
   ]
  },
  {
   "cell_type": "code",
   "execution_count": 10,
   "id": "c88c8d61",
   "metadata": {
    "ExecuteTime": {
     "end_time": "2021-06-13T23:13:09.551433Z",
     "start_time": "2021-06-13T23:13:09.549317Z"
    }
   },
   "outputs": [],
   "source": [
    "holdout_scores.reset_index(inplace=True, drop=False)"
   ]
  },
  {
   "cell_type": "markdown",
   "id": "ea7cf75f",
   "metadata": {},
   "source": [
    "#### Take a closer look at model vX:"
   ]
  },
  {
   "cell_type": "code",
   "execution_count": 11,
   "id": "c2c220f0",
   "metadata": {
    "ExecuteTime": {
     "end_time": "2021-06-13T23:13:09.558055Z",
     "start_time": "2021-06-13T23:13:09.552098Z"
    }
   },
   "outputs": [
    {
     "data": {
      "text/html": [
       "<div>\n",
       "<style scoped>\n",
       "    .dataframe tbody tr th:only-of-type {\n",
       "        vertical-align: middle;\n",
       "    }\n",
       "\n",
       "    .dataframe tbody tr th {\n",
       "        vertical-align: top;\n",
       "    }\n",
       "\n",
       "    .dataframe thead th {\n",
       "        text-align: right;\n",
       "    }\n",
       "</style>\n",
       "<table border=\"1\" class=\"dataframe\">\n",
       "  <thead>\n",
       "    <tr style=\"text-align: right;\">\n",
       "      <th></th>\n",
       "      <th>model</th>\n",
       "      <th>recall</th>\n",
       "      <th>acc</th>\n",
       "      <th>precision</th>\n",
       "      <th>loss</th>\n",
       "    </tr>\n",
       "  </thead>\n",
       "  <tbody>\n",
       "    <tr>\n",
       "      <th>0</th>\n",
       "      <td>vX_again_masked</td>\n",
       "      <td>0.526</td>\n",
       "      <td>0.796860</td>\n",
       "      <td>0.597727</td>\n",
       "      <td>0.478910</td>\n",
       "    </tr>\n",
       "    <tr>\n",
       "      <th>1</th>\n",
       "      <td>vX_rev_nomasks</td>\n",
       "      <td>0.440</td>\n",
       "      <td>0.764475</td>\n",
       "      <td>0.523810</td>\n",
       "      <td>0.513241</td>\n",
       "    </tr>\n",
       "    <tr>\n",
       "      <th>2</th>\n",
       "      <td>vX_third_masked</td>\n",
       "      <td>0.426</td>\n",
       "      <td>0.791953</td>\n",
       "      <td>0.608571</td>\n",
       "      <td>0.469696</td>\n",
       "    </tr>\n",
       "    <tr>\n",
       "      <th>3</th>\n",
       "      <td>vX_original_masked</td>\n",
       "      <td>0.422</td>\n",
       "      <td>0.795388</td>\n",
       "      <td>0.622419</td>\n",
       "      <td>0.454362</td>\n",
       "    </tr>\n",
       "    <tr>\n",
       "      <th>4</th>\n",
       "      <td>vX_third_nomasks</td>\n",
       "      <td>0.410</td>\n",
       "      <td>0.765456</td>\n",
       "      <td>0.528351</td>\n",
       "      <td>0.525266</td>\n",
       "    </tr>\n",
       "    <tr>\n",
       "      <th>5</th>\n",
       "      <td>vX_rev_masked</td>\n",
       "      <td>0.390</td>\n",
       "      <td>0.791462</td>\n",
       "      <td>0.619048</td>\n",
       "      <td>0.470176</td>\n",
       "    </tr>\n",
       "    <tr>\n",
       "      <th>6</th>\n",
       "      <td>vX_rev2_nomasks</td>\n",
       "      <td>0.368</td>\n",
       "      <td>0.778214</td>\n",
       "      <td>0.575000</td>\n",
       "      <td>0.509056</td>\n",
       "    </tr>\n",
       "    <tr>\n",
       "      <th>7</th>\n",
       "      <td>vX_original_nomasks</td>\n",
       "      <td>0.310</td>\n",
       "      <td>0.783611</td>\n",
       "      <td>0.617530</td>\n",
       "      <td>0.510558</td>\n",
       "    </tr>\n",
       "    <tr>\n",
       "      <th>8</th>\n",
       "      <td>vX_again_nomasks</td>\n",
       "      <td>0.254</td>\n",
       "      <td>0.776251</td>\n",
       "      <td>0.604762</td>\n",
       "      <td>0.486967</td>\n",
       "    </tr>\n",
       "    <tr>\n",
       "      <th>9</th>\n",
       "      <td>vX_rev2_masked</td>\n",
       "      <td>0.238</td>\n",
       "      <td>0.794897</td>\n",
       "      <td>0.762821</td>\n",
       "      <td>0.464661</td>\n",
       "    </tr>\n",
       "  </tbody>\n",
       "</table>\n",
       "</div>"
      ],
      "text/plain": [
       "                 model  recall       acc  precision      loss\n",
       "0      vX_again_masked   0.526  0.796860   0.597727  0.478910\n",
       "1       vX_rev_nomasks   0.440  0.764475   0.523810  0.513241\n",
       "2      vX_third_masked   0.426  0.791953   0.608571  0.469696\n",
       "3   vX_original_masked   0.422  0.795388   0.622419  0.454362\n",
       "4     vX_third_nomasks   0.410  0.765456   0.528351  0.525266\n",
       "5        vX_rev_masked   0.390  0.791462   0.619048  0.470176\n",
       "6      vX_rev2_nomasks   0.368  0.778214   0.575000  0.509056\n",
       "7  vX_original_nomasks   0.310  0.783611   0.617530  0.510558\n",
       "8     vX_again_nomasks   0.254  0.776251   0.604762  0.486967\n",
       "9       vX_rev2_masked   0.238  0.794897   0.762821  0.464661"
      ]
     },
     "execution_count": 11,
     "metadata": {},
     "output_type": "execute_result"
    }
   ],
   "source": [
    "vx = holdout_scores[holdout_scores['model'].str.contains('vX_')].copy()\n",
    "vx.sort_values('recall', ascending=False, inplace=True)\n",
    "vx.reset_index(inplace=True, drop=True)\n",
    "vx.rename_axis(None, axis=1, inplace=True) #get rid of 'metric' as index title bc it bugs\n",
    "vx"
   ]
  },
  {
   "cell_type": "code",
   "execution_count": 12,
   "id": "531e4898",
   "metadata": {
    "ExecuteTime": {
     "end_time": "2021-06-13T23:13:09.565615Z",
     "start_time": "2021-06-13T23:13:09.558796Z"
    }
   },
   "outputs": [
    {
     "data": {
      "text/html": [
       "<div>\n",
       "<style scoped>\n",
       "    .dataframe tbody tr th:only-of-type {\n",
       "        vertical-align: middle;\n",
       "    }\n",
       "\n",
       "    .dataframe tbody tr th {\n",
       "        vertical-align: top;\n",
       "    }\n",
       "\n",
       "    .dataframe thead th {\n",
       "        text-align: right;\n",
       "    }\n",
       "</style>\n",
       "<table border=\"1\" class=\"dataframe\">\n",
       "  <thead>\n",
       "    <tr style=\"text-align: right;\">\n",
       "      <th></th>\n",
       "      <th>model</th>\n",
       "      <th>recall</th>\n",
       "      <th>acc</th>\n",
       "      <th>precision</th>\n",
       "      <th>loss</th>\n",
       "      <th>iteration</th>\n",
       "      <th>mask</th>\n",
       "    </tr>\n",
       "  </thead>\n",
       "  <tbody>\n",
       "    <tr>\n",
       "      <th>0</th>\n",
       "      <td>vX</td>\n",
       "      <td>0.526</td>\n",
       "      <td>0.796860</td>\n",
       "      <td>0.597727</td>\n",
       "      <td>0.478910</td>\n",
       "      <td>again</td>\n",
       "      <td>masked</td>\n",
       "    </tr>\n",
       "    <tr>\n",
       "      <th>1</th>\n",
       "      <td>vX</td>\n",
       "      <td>0.440</td>\n",
       "      <td>0.764475</td>\n",
       "      <td>0.523810</td>\n",
       "      <td>0.513241</td>\n",
       "      <td>rev</td>\n",
       "      <td>nomasks</td>\n",
       "    </tr>\n",
       "    <tr>\n",
       "      <th>2</th>\n",
       "      <td>vX</td>\n",
       "      <td>0.426</td>\n",
       "      <td>0.791953</td>\n",
       "      <td>0.608571</td>\n",
       "      <td>0.469696</td>\n",
       "      <td>third</td>\n",
       "      <td>masked</td>\n",
       "    </tr>\n",
       "    <tr>\n",
       "      <th>3</th>\n",
       "      <td>vX</td>\n",
       "      <td>0.422</td>\n",
       "      <td>0.795388</td>\n",
       "      <td>0.622419</td>\n",
       "      <td>0.454362</td>\n",
       "      <td>original</td>\n",
       "      <td>masked</td>\n",
       "    </tr>\n",
       "    <tr>\n",
       "      <th>4</th>\n",
       "      <td>vX</td>\n",
       "      <td>0.410</td>\n",
       "      <td>0.765456</td>\n",
       "      <td>0.528351</td>\n",
       "      <td>0.525266</td>\n",
       "      <td>third</td>\n",
       "      <td>nomasks</td>\n",
       "    </tr>\n",
       "    <tr>\n",
       "      <th>5</th>\n",
       "      <td>vX</td>\n",
       "      <td>0.390</td>\n",
       "      <td>0.791462</td>\n",
       "      <td>0.619048</td>\n",
       "      <td>0.470176</td>\n",
       "      <td>rev</td>\n",
       "      <td>masked</td>\n",
       "    </tr>\n",
       "    <tr>\n",
       "      <th>6</th>\n",
       "      <td>vX</td>\n",
       "      <td>0.368</td>\n",
       "      <td>0.778214</td>\n",
       "      <td>0.575000</td>\n",
       "      <td>0.509056</td>\n",
       "      <td>rev2</td>\n",
       "      <td>nomasks</td>\n",
       "    </tr>\n",
       "    <tr>\n",
       "      <th>7</th>\n",
       "      <td>vX</td>\n",
       "      <td>0.310</td>\n",
       "      <td>0.783611</td>\n",
       "      <td>0.617530</td>\n",
       "      <td>0.510558</td>\n",
       "      <td>original</td>\n",
       "      <td>nomasks</td>\n",
       "    </tr>\n",
       "    <tr>\n",
       "      <th>8</th>\n",
       "      <td>vX</td>\n",
       "      <td>0.254</td>\n",
       "      <td>0.776251</td>\n",
       "      <td>0.604762</td>\n",
       "      <td>0.486967</td>\n",
       "      <td>again</td>\n",
       "      <td>nomasks</td>\n",
       "    </tr>\n",
       "    <tr>\n",
       "      <th>9</th>\n",
       "      <td>vX</td>\n",
       "      <td>0.238</td>\n",
       "      <td>0.794897</td>\n",
       "      <td>0.762821</td>\n",
       "      <td>0.464661</td>\n",
       "      <td>rev2</td>\n",
       "      <td>masked</td>\n",
       "    </tr>\n",
       "  </tbody>\n",
       "</table>\n",
       "</div>"
      ],
      "text/plain": [
       "  model  recall       acc  precision      loss iteration     mask\n",
       "0    vX   0.526  0.796860   0.597727  0.478910     again   masked\n",
       "1    vX   0.440  0.764475   0.523810  0.513241       rev  nomasks\n",
       "2    vX   0.426  0.791953   0.608571  0.469696     third   masked\n",
       "3    vX   0.422  0.795388   0.622419  0.454362  original   masked\n",
       "4    vX   0.410  0.765456   0.528351  0.525266     third  nomasks\n",
       "5    vX   0.390  0.791462   0.619048  0.470176       rev   masked\n",
       "6    vX   0.368  0.778214   0.575000  0.509056      rev2  nomasks\n",
       "7    vX   0.310  0.783611   0.617530  0.510558  original  nomasks\n",
       "8    vX   0.254  0.776251   0.604762  0.486967     again  nomasks\n",
       "9    vX   0.238  0.794897   0.762821  0.464661      rev2   masked"
      ]
     },
     "execution_count": 12,
     "metadata": {},
     "output_type": "execute_result"
    }
   ],
   "source": [
    "# reformat for groupby\n",
    "vx[['model', 'iteration', 'mask']] = vx['model'].str.split('_', expand=True)\n",
    "vx.sort_values('recall', ascending=False, inplace=True)\n",
    "vx"
   ]
  },
  {
   "cell_type": "markdown",
   "id": "489777eb",
   "metadata": {},
   "source": [
    "### Confusion matrix\n",
    "Though we just evaluated models en masse on the holdout data (model.evaluate), model.predict() consistently breaks, possibly due to a [memory leak](https://github.com/tensorflow/tensorflow/issues/44711). Unfortunately, that means we cannot view individual files that are being misclassified. But since we have three classification metrics and know the true number of positives and negatives in the holdout set, we can at least back calculate TN, FP, FN, TP to build a confusion matrix manually.  \n",
    "\n",
    "Given:\n",
    "\n",
    "* accuracy = (tp + tn) / (tp + tn + fp + fn) = (tp + tn) / total\n",
    "* recall = tp / (tp + fn) = tp / tot_pos\n",
    "* precision = tp / (tp + fp)   "
   ]
  },
  {
   "cell_type": "markdown",
   "id": "997488e8",
   "metadata": {},
   "source": [
    "#### First, assess the best model: vX_again_masked\n",
    "(the second fitting of vX, training with inclusion of augmented data)"
   ]
  },
  {
   "cell_type": "code",
   "execution_count": 13,
   "id": "3b414dd8",
   "metadata": {
    "ExecuteTime": {
     "end_time": "2021-06-13T23:13:09.569395Z",
     "start_time": "2021-06-13T23:13:09.566375Z"
    }
   },
   "outputs": [
    {
     "name": "stdout",
     "output_type": "stream",
     "text": [
      "holdout positives: 501\n",
      "holdout negatives: 1539\n",
      "\n",
      "\n",
      "true negatives = 1362\n",
      "false positives = 177\n",
      "false negatives = 237\n",
      "true positives = 264\n"
     ]
    }
   ],
   "source": [
    "tot_pos = 501\n",
    "tot_neg = 1539\n",
    "\n",
    "recall = vx['recall'][0]\n",
    "prec = vx['precision'][0]\n",
    "acc = vx['acc'][0]\n",
    "\n",
    "# since recall = tp/tot_p\n",
    "tp = recall * tot_pos\n",
    "\n",
    "# knowing tp, and  prec = tp/(tp+fp) -> prec(tp + fp) = tp -> prec*fp = tp-(prec*tp)\n",
    "fp = (tp * (1-prec)) / prec\n",
    "\n",
    "# total_negatives = true negs + false positives\n",
    "tn = tot_neg - fp\n",
    "\n",
    "#total_positives = true positives + false negatives\n",
    "fn = tot_pos - tp\n",
    "\n",
    "print(f'holdout positives: {tot_pos}\\nholdout negatives: {tot_neg}\\n\\n')\n",
    "print(f'true negatives = {round(tn)}\\nfalse positives = {round(fp)}\\nfalse negatives = {round(fn)}\\ntrue positives = {round(tp)}')"
   ]
  },
  {
   "cell_type": "code",
   "execution_count": 14,
   "id": "e8b2f68d",
   "metadata": {
    "ExecuteTime": {
     "end_time": "2021-06-13T23:13:09.636298Z",
     "start_time": "2021-06-13T23:13:09.570062Z"
    }
   },
   "outputs": [
    {
     "data": {
      "image/png": "[encoded data removed]",
      "text/plain": [
       "<Figure size 432x288 with 2 Axes>"
      ]
     },
     "metadata": {
      "needs_background": "light"
     },
     "output_type": "display_data"
    }
   ],
   "source": [
    "confusion_matrix = np.array([[round(tn), round(fp)],[round(fn), round(tp)]])\n",
    "sns.heatmap(confusion_matrix, annot=True, cmap='Blues', fmt='.0f',\n",
    "            xticklabels =['no dolphin', 'dolphin'], yticklabels=['no dolphin', 'dolphin']);"
   ]
  },
  {
   "cell_type": "code",
   "execution_count": 15,
   "id": "dc09935a",
   "metadata": {
    "ExecuteTime": {
     "end_time": "2021-06-13T23:13:09.690355Z",
     "start_time": "2021-06-13T23:13:09.637075Z"
    }
   },
   "outputs": [
    {
     "data": {
      "image/png": "[encoded data removed]",
      "text/plain": [
       "<Figure size 432x288 with 2 Axes>"
      ]
     },
     "metadata": {
      "needs_background": "light"
     },
     "output_type": "display_data"
    }
   ],
   "source": [
    "# custom annotation code from Dennis T, 'Confusion Matrix Visualization'\n",
    "cats = ['TN', 'FP', 'FN', 'TP']\n",
    "percents = ['{0:.2%}'.format(i) for i in confusion_matrix.flatten()/np.sum(confusion_matrix)]\n",
    "labs = [f'{i}\\n{j}' for i,j in zip(cats, percents)]\n",
    "labs = np.array(labs).reshape(2,2)\n",
    "\n",
    "sns.heatmap(confusion_matrix/np.sum(confusion_matrix), annot=labs, cmap='Blues', fmt='',\n",
    "            xticklabels =['no dolphin', 'dolphin'], yticklabels=['no dolphin', 'dolphin']);"
   ]
  },
  {
   "cell_type": "markdown",
   "id": "e51ae25b",
   "metadata": {},
   "source": [
    "Looking at the above 'best model' is a bit misleading. \n",
    "\n",
    "vX was fit 5 times with unaugmented data and 5 times with augmented data included; 2 of 5 fits reversed the order of subset exposure. The variation across trainings is substantial. While the **best** iteration above achieved 53% recall, the **average** recall for this architecture on this validation data is a more accurate basis for expectations."
   ]
  },
  {
   "cell_type": "markdown",
   "id": "b980ad6a",
   "metadata": {},
   "source": [
    "#### Examining aggregate performance"
   ]
  },
  {
   "cell_type": "code",
   "execution_count": 16,
   "id": "7da25e83",
   "metadata": {
    "ExecuteTime": {
     "end_time": "2021-06-13T23:13:09.696107Z",
     "start_time": "2021-06-13T23:13:09.691149Z"
    }
   },
   "outputs": [
    {
     "data": {
      "text/html": [
       "<div>\n",
       "<style scoped>\n",
       "    .dataframe tbody tr th:only-of-type {\n",
       "        vertical-align: middle;\n",
       "    }\n",
       "\n",
       "    .dataframe tbody tr th {\n",
       "        vertical-align: top;\n",
       "    }\n",
       "\n",
       "    .dataframe thead th {\n",
       "        text-align: right;\n",
       "    }\n",
       "</style>\n",
       "<table border=\"1\" class=\"dataframe\">\n",
       "  <thead>\n",
       "    <tr style=\"text-align: right;\">\n",
       "      <th></th>\n",
       "      <th>recall</th>\n",
       "      <th>acc</th>\n",
       "      <th>precision</th>\n",
       "      <th>loss</th>\n",
       "    </tr>\n",
       "    <tr>\n",
       "      <th>mask</th>\n",
       "      <th></th>\n",
       "      <th></th>\n",
       "      <th></th>\n",
       "      <th></th>\n",
       "    </tr>\n",
       "  </thead>\n",
       "  <tbody>\n",
       "    <tr>\n",
       "      <th>masked</th>\n",
       "      <td>0.4004</td>\n",
       "      <td>0.794112</td>\n",
       "      <td>0.642117</td>\n",
       "      <td>0.467561</td>\n",
       "    </tr>\n",
       "    <tr>\n",
       "      <th>nomasks</th>\n",
       "      <td>0.3564</td>\n",
       "      <td>0.773602</td>\n",
       "      <td>0.569890</td>\n",
       "      <td>0.509018</td>\n",
       "    </tr>\n",
       "  </tbody>\n",
       "</table>\n",
       "</div>"
      ],
      "text/plain": [
       "         recall       acc  precision      loss\n",
       "mask                                          \n",
       "masked   0.4004  0.794112   0.642117  0.467561\n",
       "nomasks  0.3564  0.773602   0.569890  0.509018"
      ]
     },
     "execution_count": 16,
     "metadata": {},
     "output_type": "execute_result"
    }
   ],
   "source": [
    "grouped = vx.groupby('mask').mean() #bummer\n",
    "grouped"
   ]
  },
  {
   "cell_type": "code",
   "execution_count": 17,
   "id": "4b98b291",
   "metadata": {
    "ExecuteTime": {
     "end_time": "2021-06-13T23:13:09.699324Z",
     "start_time": "2021-06-13T23:13:09.696819Z"
    }
   },
   "outputs": [
    {
     "name": "stdout",
     "output_type": "stream",
     "text": [
      "holdout positives: 501\n",
      "holdout negatives: 1539\n",
      "\n",
      "vX_masked performance\n",
      "Average across 5 fits:\n",
      "TN = 1427\n",
      "FP = 112\n",
      "FN = 300\n",
      "TP = 201\n"
     ]
    }
   ],
   "source": [
    "tot_pos = 501\n",
    "tot_neg = 1539\n",
    "\n",
    "recall = grouped['recall'][0]\n",
    "prec = grouped['precision'][0]\n",
    "acc = grouped['acc'][0]\n",
    "\n",
    "tp_avg = recall * tot_pos\n",
    "fp_avg = (tp_avg * (1-prec)) / prec\n",
    "tn_avg = tot_neg - fp_avg\n",
    "fn_avg = tot_pos - tp_avg\n",
    "\n",
    "print(f'holdout positives: {tot_pos}\\nholdout negatives: {tot_neg}\\n')\n",
    "print('vX_masked performance\\nAverage across 5 fits:')\n",
    "print(f'TN = {round(tn_avg)}\\nFP = {round(fp_avg)}\\nFN = {round(fn_avg)}\\nTP = {round(tp_avg)}')"
   ]
  },
  {
   "cell_type": "code",
   "execution_count": 18,
   "id": "4c92f2df",
   "metadata": {
    "ExecuteTime": {
     "end_time": "2021-06-13T23:13:09.754117Z",
     "start_time": "2021-06-13T23:13:09.699967Z"
    }
   },
   "outputs": [
    {
     "data": {
      "image/png": "[encoded data removed]",
      "text/plain": [
       "<Figure size 432x288 with 2 Axes>"
      ]
     },
     "metadata": {
      "needs_background": "light"
     },
     "output_type": "display_data"
    }
   ],
   "source": [
    "avg_cm = np.array([[round(tn_avg), round(fp_avg)],[round(fn_avg), round(tp_avg)]])\n",
    "# custom annotation code from Dennis T, 'Confusion Matrix Visualization'\n",
    "cats = ['TN', 'FP', 'FN', 'TP']\n",
    "percents = ['{0:.2%}'.format(i) for i in avg_cm.flatten()/np.sum(avg_cm)]\n",
    "labs = [f'{i}\\n{j}' for i,j in zip(cats, percents)]\n",
    "labs = np.array(labs).reshape(2,2)\n",
    "\n",
    "sns.heatmap(avg_cm/np.sum(avg_cm), annot=labs, cmap='Blues', fmt='',\n",
    "            xticklabels =['no dolphin', 'dolphin'], yticklabels=['no dolphin', 'dolphin']);"
   ]
  },
  {
   "cell_type": "markdown",
   "id": "44df7e54",
   "metadata": {},
   "source": [
    "## Conclusions\n",
    "As mentioned 400 times so far, our priority metric is recall, also known as the _true positive rate_.  Though a 1:3 (p:n) ratio was used in training and validating this model, the true split in the cumulative data across deployments was 97% negative files and only 3% positive. Given the rarity of a positive, it is critical to identify every one, even at the expense of accumulating _false_ positives. As a former researcher that did this manually, if a program could grab say 10% of the total dataset and assure me that the 3% dolphin encounters were in there, and my role now was to go through this subset to weed out the false positives, that would still drastically reduce my workload. With a high false positive rate like that, it may have low specificity, precision, and accuracy on paper, but it would still be _useful_. However, if there is also a significant false negatives rate which must be vetted manually, there is no utility.  \n",
    "\n",
    "Unfortunately, in our best performing model, we still have a formidable percentage of false negatives. The max recall of 53% means that 47% of the positive dolphin files are not caught.  \n",
    "\n",
    "The aggregate performance over 5 fits is lower still: 40% recall, so 60% of dolphin files misclassified as no_dolphin. \n",
    "\n",
    "---\n",
    "The CNN architectures explored here do yield an average accuracy of 79.4%, consistently outperforming the baseline 75%.  For the final model vetted here (vX), exposing the model to augmented data during training yielded improved performance across all performance metrics. This was not necessarily true for all models tested, but the majority (70%) follow the same pattern. However, despite better-than-baseline, the number of false negatives needs to be significantly reduced for this model to be implemented as a research tool. \n",
    "\n",
    "---\n",
    "#### Recommended next steps\n",
    "* Get more positive files! A burgeoned minority would help greatly.\n",
    "    * The data suppliers are willing to contribute, so novel positive files is a realistic possibility\n",
    "    * In leiu of new positives, fabricating more positives by stacking pos/neg or pos/pos could help balance classes artificially\n",
    "* Reinstantiate and retrain other competitive models in this line up: given the variation seen in vX refitting, it may be that another version here is equally competitive or better when averaging multiple fits.\n",
    "* Use a platform or machine that can execute model.predict() in order to identify what misclassified files look like: are they dominated by whale calls or anthropogenic sounds, or just empty ambient files? Can this guide filter selection or spectrogram preprocessing techniques?\n",
    "* With access to more memory and GPU:\n",
    "    * Double the number of filters in each conv2d layer of the superior model.\n",
    "    * Deepen the NN: related literature points to VGG-19, ResNet-50, AlexNet as deep-layer NNs that have been employed for marine mammal acoustic tasks with better success\n",
    "        * there are even keras supported versions of [VGG-19](https://keras.io/api/applications/vgg/) and [ResNet-50](https://keras.io/api/applications/resnet/), but they will require significant tuning and/or gridsearching to tailor to spectrograms. Though not a pre-existing keras architecture, there are also examples of [how to code AlexNet for tensorflow](https://analyticsindiamag.com/hands-on-guide-to-implementing-alexnet-with-keras-for-multi-class-image-classification/).\n",
    "    * Explore the other spectrogram preprocessing parameters recommended at the end of notebook 2"
   ]
  }
 ],
 "metadata": {
  "kernelspec": {
   "display_name": "Python 3",
   "language": "python",
   "name": "python3"
  },
  "language_info": {
   "codemirror_mode": {
    "name": "ipython",
    "version": 3
   },
   "file_extension": ".py",
   "mimetype": "text/x-python",
   "name": "python",
   "nbconvert_exporter": "python",
   "pygments_lexer": "ipython3",
   "version": "3.8.8"
  },
  "varInspector": {
   "cols": {
    "lenName": 16,
    "lenType": 16,
    "lenVar": 40
   },
   "kernels_config": {
    "python": {
     "delete_cmd_postfix": "",
     "delete_cmd_prefix": "del ",
     "library": "var_list.py",
     "varRefreshCmd": "print(var_dic_list())"
    },
    "r": {
     "delete_cmd_postfix": ") ",
     "delete_cmd_prefix": "rm(",
     "library": "var_list.r",
     "varRefreshCmd": "cat(var_dic_list()) "
    }
   },
   "types_to_exclude": [
    "module",
    "function",
    "builtin_function_or_method",
    "instance",
    "_Feature"
   ],
   "window_display": false
  }
 },
 "nbformat": 4,
 "nbformat_minor": 5
}
