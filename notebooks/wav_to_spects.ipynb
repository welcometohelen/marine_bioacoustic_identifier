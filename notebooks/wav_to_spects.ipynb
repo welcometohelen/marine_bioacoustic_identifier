{
 "cells": [
  {
   "cell_type": "markdown",
   "id": "3f8cfbc2",
   "metadata": {},
   "source": [
    "# Generating model inputs from raw audio\n",
    "\n",
    "Generating spectrograms and then saving those images as _images_ loses much of the information stored in the spectrogram input data. The spectrogram input is a complex-valued matrix D, consisting of magnitude and phase of frequency bin f at frame t. A plotted spectrogram shows time on the x-axis, frequency on the y-axis, with amplitude/intensity/decibels as color.  The data here have a minimum sample rate of 50KHz, signifying 50,000 samples per second for the :30 clip. The frequency and time binning done to generate a spectrogram array groups these 1.5M+ samples into windows of specified length. \n",
    "\n",
    "The 12.5-25KHz frequency band encompasses most of the whistle vocalizations of the target species; their clicks are broadband and should be visible in this frequency as well.\n",
    "\n",
    "If transposing the resulting image to a .png and reimporting, the resulting matrix dimensions represent pixels (based on physical size of export), and resulting matrix values represent a color on a different scale than audio intensity. Very nuanced standardization of spectrograms, cmaps, etc may yield a comparable input for CNN; but given the significant smoothing, binning, resampling, frequency ranges, and other parameters that go into generating each spectrogram matrix, I think the information loss is too great, or at least too unquantifiable.\n",
    "\n",
    "To \"feed spectrograms to CNN\", what we want is the true spectrogram matrix, not the matrix of the .png (or other image format) rendering of the spectrogram matrix. \n",
    "\n",
    "---\n",
    "Parameters used herein, based on marine mammal and underwater acoustic literature review:\n",
    "* sr=50KHz --> all data are either 50k or 64k; resample the 64k files to 50k so working with equal times per frame\n",
    "* n_fft=4096; downsized to accommodate file size issues. Ideal was n_fft>=8192 (based on methods from Thomas et al 2019, and applying to the unique attributes of _S. longirostris_ vocalizations)\n",
    "* win_length = n_fft\n",
    "* hop_length = n_fft/2; downsized to accommodate file size issues. Ideal was win_length/4 (default)\n",
    "* window: Hann window\n",
    "    \n",
    "---\n",
    "  \n",
    "This notebook generates spectrogram matrices for training and test data with Librosa's stft function.\n",
    "\n"
   ]
  },
  {
   "cell_type": "code",
   "execution_count": 2,
   "id": "59b374f4",
   "metadata": {
    "ExecuteTime": {
     "end_time": "2021-06-03T07:52:56.649848Z",
     "start_time": "2021-06-03T07:52:55.582851Z"
    }
   },
   "outputs": [],
   "source": [
    "import pandas as pd\n",
    "import numpy as np\n",
    "from scipy import signal\n",
    "import matplotlib.pyplot as plt\n",
    "import os\n",
    "import wave\n",
    "import librosa\n",
    "import librosa.display\n",
    "import IPython.display as ipd\n",
    "import pickle"
   ]
  },
  {
   "cell_type": "markdown",
   "id": "9bf38e82",
   "metadata": {},
   "source": [
    "## Step 1. set aside holdout set\n",
    "This set will remain separate from regular train/test data for final validation.  \n",
    "500 positive files, 1538 negative files"
   ]
  },
  {
   "cell_type": "code",
   "execution_count": 3,
   "id": "707be980",
   "metadata": {
    "ExecuteTime": {
     "end_time": "2021-06-03T07:52:57.236991Z",
     "start_time": "2021-06-03T07:52:57.231717Z"
    }
   },
   "outputs": [],
   "source": [
    "#relocate positives and negatives from existing folders to holdout folders\n",
    "def define_holdout(n_pos, pos_origin, pos_dest, n_neg, neg_origin, neg_dest):\n",
    "    import shutil\n",
    "    \n",
    "    #positives\n",
    "    for i in range(n_pos):\n",
    "        shutil.move(pos_origin + np.random.choice(os.listdir(pos_origin)), pos_dest)\n",
    "        \n",
    "    #negatives\n",
    "    for j in range(n_neg):\n",
    "        shutil.move(neg_origin + np.random.choice(os.listdir(neg_origin)), neg_dest)\n",
    "        \n",
    "    print(f'# positives in holdout: {len(os.listdir(pos_dest))}')\n",
    "    print(f'# negatives in holdout: {len(os.listdir(neg_dest))}')\n",
    "    print(f'# pos for tts: {len(os.listdir(pos_origin))}')\n",
    "    print(f'# neg for tts: {len(os.listdir(neg_origin))}')"
   ]
  },
  {
   "cell_type": "code",
   "execution_count": 4,
   "id": "d16a3d2d",
   "metadata": {
    "ExecuteTime": {
     "end_time": "2021-06-03T07:52:58.270983Z",
     "start_time": "2021-06-03T07:52:58.266906Z"
    }
   },
   "outputs": [],
   "source": [
    "pos_origin = '../scratch_data/yes_dolphin/'\n",
    "pos_dest = '../scratch_data/holdout/positives'\n",
    "neg_origin = '../scratch_data/no_dolphin/'\n",
    "neg_dest = '../scratch_data/holdout/negatives'\n",
    "\n",
    "# define_holdout(500, pos_origin, pos_dest, 1538, neg_origin, neg_dest)\n",
    "\n",
    "# positives in holdout: 501\n",
    "# negatives in holdout: 1538\n",
    "# pos for tts: 5588\n",
    "# neg for tts: 16766"
   ]
  },
  {
   "cell_type": "markdown",
   "id": "8d76f42c",
   "metadata": {},
   "source": [
    "## Step 2. Create spectrograms for tts\n",
    "* Pos and Neg files currently only differentiated by directory; attach label (Yes/No) here\n",
    "* Trim arrays to only frequencies over 10KHz; critical range 12.5KHz-25KHz\n",
    "    * If data size still unweildy, trim to 12KHz\n",
    "    * rows to trim indicated by fft_freq results\n",
    "* Save spectrogram matrices and labels in list(s), save list via pickle or librosa cache?"
   ]
  },
  {
   "cell_type": "code",
   "execution_count": 5,
   "id": "f82ba206",
   "metadata": {
    "ExecuteTime": {
     "end_time": "2021-06-03T07:53:01.338672Z",
     "start_time": "2021-06-03T07:53:01.333673Z"
    }
   },
   "outputs": [],
   "source": [
    "#index of frequency bins that are below threshold depend on features of stft\n",
    "#function to define lower threshold\n",
    "\n",
    "def thresh(array, thresh_hz):\n",
    "    vals=[]\n",
    "    for i in range(len(array)):\n",
    "        vals.append(abs(thresh_hz-array[i]))\n",
    "    return vals.index(min(vals)) #returns index of almost-thresh value in ascending list"
   ]
  },
  {
   "cell_type": "code",
   "execution_count": 6,
   "id": "d7025261",
   "metadata": {
    "ExecuteTime": {
     "end_time": "2021-06-03T07:53:01.823957Z",
     "start_time": "2021-06-03T07:53:01.815358Z"
    }
   },
   "outputs": [
    {
     "data": {
      "text/plain": [
       "819"
      ]
     },
     "execution_count": 6,
     "metadata": {},
     "output_type": "execute_result"
    }
   ],
   "source": [
    "freq_key = librosa.fft_frequencies(sr=50000, n_fft=4096)\n",
    "thresh(freq_key, 10000)\n",
    "#indicates trim stft array to [820:]"
   ]
  },
  {
   "cell_type": "code",
   "execution_count": 7,
   "id": "d3a66790",
   "metadata": {
    "ExecuteTime": {
     "end_time": "2021-06-03T07:53:03.469748Z",
     "start_time": "2021-06-03T07:53:03.458284Z"
    }
   },
   "outputs": [],
   "source": [
    "#redefine thresh here so can run as single cell\n",
    "#(thresh fx called in listospects)\n",
    "def thresh(array, thresh_hz):\n",
    "    vals=[]\n",
    "    for i in range(len(array)):\n",
    "        vals.append(abs(thresh_hz-array[i]))\n",
    "    return vals.index(min(vals))\n",
    "\n",
    "\n",
    "def listospects(in_path, samp_rate, n_fft, win_length, window, pos_neg, low_thresh, ex_path):\n",
    "    import pickle\n",
    "    \n",
    "    freq_key = librosa.fft_frequencies(sr=samp_rate, n_fft=n_fft)\n",
    "    z = thresh(freq_key, low_thresh)\n",
    "    \n",
    "    \n",
    "    files = os.listdir(in_path)\n",
    "    spectrolist = []\n",
    "    count = 1\n",
    "    \n",
    "    for i in files:\n",
    "        y, sr = librosa.load(in_path + i, sr=samp_rate)\n",
    "        S = np.abs(librosa.stft(y, n_fft=n_fft, win_length=win_length, hop_length=int(n_fft/2),\n",
    "                               window=window))\n",
    "        trim = S[z+1:] #only keep values above lower freq threshold\n",
    "        \n",
    "        chunk = S[0:1229:2]  #downsample freq axis for compression\n",
    "        \n",
    "        spectrolist.append(chunk)\n",
    "        \n",
    "        if len(spectrolist) % 1000 == 0:\n",
    "            print(len(spectrolist))\n",
    "            \n",
    "        if len(spectrolist) % 3000 == 0: #save results so far and start anew (wary of pickle size limits)\n",
    "            with open(f'{ex_path}tts_{count}_{pos_neg}.pkl', mode = 'wb') as pickle_out:\n",
    "                pickle.dump(spectrolist, pickle_out)\n",
    "            count += 1\n",
    "            spectrolist = []\n",
    "            \n",
    "    #export whatever's in list when pau        \n",
    "    if len(spectrolist) > 0:\n",
    "        with open(f'{ex_path}tts_{count}_{pos_neg}.pkl', mode = 'wb') as pickle_out:\n",
    "            pickle.dump(spectrolist, pickle_out)\n",
    "            \n",
    "    print(\"thanks for all the fish\")"
   ]
  },
  {
   "cell_type": "code",
   "execution_count": 8,
   "id": "f8868fc1",
   "metadata": {
    "ExecuteTime": {
     "end_time": "2021-06-03T09:06:01.425051Z",
     "start_time": "2021-06-03T07:53:04.856809Z"
    }
   },
   "outputs": [
    {
     "name": "stdout",
     "output_type": "stream",
     "text": [
      "1000\n",
      "2000\n",
      "3000\n",
      "1000\n",
      "2000\n",
      "thanks for all the fish\n"
     ]
    }
   ],
   "source": [
    "#positive IDs first\n",
    "\n",
    "in_path = '../scratch_data/yes_dolphin/'\n",
    "ex_path = '../scratch_data/tts_arrays/'\n",
    "yes_tts = listospects(in_path=in_path, samp_rate=50000, n_fft=4096, win_length=4096,\n",
    "                      window=signal.windows.hann, pos_neg='pos', low_thresh=10000, ex_path=ex_path)"
   ]
  },
  {
   "cell_type": "code",
   "execution_count": 9,
   "id": "70ca93e8",
   "metadata": {
    "ExecuteTime": {
     "end_time": "2021-06-03T14:01:34.829850Z",
     "start_time": "2021-06-03T09:31:48.251161Z"
    }
   },
   "outputs": [
    {
     "name": "stdout",
     "output_type": "stream",
     "text": [
      "1000\n",
      "2000\n",
      "3000\n",
      "1000\n",
      "2000\n",
      "3000\n",
      "1000\n",
      "2000\n",
      "3000\n",
      "1000\n",
      "2000\n",
      "3000\n",
      "1000\n",
      "2000\n",
      "3000\n",
      "1000\n",
      "thanks for all the fish\n"
     ]
    }
   ],
   "source": [
    "#negative IDS. 4:30 not bad!\n",
    "in_path = '../scratch_data/no_dolphin/'\n",
    "ex_path = '../scratch_data/tts_arrays/'\n",
    "yes_tts = listospects(in_path=in_path, samp_rate=50000, n_fft=4096, win_length=4096,\n",
    "                      window=signal.windows.hann, pos_neg='neg', low_thresh=10000, ex_path=ex_path)"
   ]
  },
  {
   "cell_type": "code",
   "execution_count": 10,
   "id": "57d36548",
   "metadata": {
    "ExecuteTime": {
     "end_time": "2021-06-03T15:48:41.732533Z",
     "start_time": "2021-06-03T15:48:39.602131Z"
    }
   },
   "outputs": [],
   "source": [
    "with open ('../scratch_data/tts_arrays/tts_4_neg.pkl', mode = 'rb') as pickle_in:\n",
    "    check = pickle.load(pickle_in)"
   ]
  },
  {
   "cell_type": "code",
   "execution_count": 17,
   "id": "b04b650a",
   "metadata": {
    "ExecuteTime": {
     "end_time": "2021-06-03T17:28:25.232636Z",
     "start_time": "2021-06-03T17:28:25.223509Z"
    }
   },
   "outputs": [
    {
     "name": "stdout",
     "output_type": "stream",
     "text": [
      "3000\n",
      "(615, 740)\n"
     ]
    },
    {
     "data": {
      "text/plain": [
       "array([[0.04334272, 0.10069173, 0.09125934, ..., 0.2773754 , 0.3506636 ,\n",
       "        0.3499492 ],\n",
       "       [0.07013685, 0.10394271, 0.11942144, ..., 0.09624764, 0.09879693,\n",
       "        0.10170203],\n",
       "       [1.0786785 , 0.37674418, 0.01665294, ..., 0.34638163, 0.3596837 ,\n",
       "        0.3092308 ],\n",
       "       ...,\n",
       "       [0.26128706, 0.2993274 , 0.428127  , ..., 0.2639781 , 0.19433732,\n",
       "        0.37926418],\n",
       "       [0.60569626, 0.21978666, 0.3518643 , ..., 0.7123921 , 0.5948586 ,\n",
       "        0.36077625],\n",
       "       [0.26761234, 0.30750263, 0.26671088, ..., 0.1334184 , 0.51322204,\n",
       "        0.3484277 ]], dtype=float32)"
      ]
     },
     "execution_count": 17,
     "metadata": {},
     "output_type": "execute_result"
    }
   ],
   "source": [
    "print(len(check))\n",
    "print(check[4].shape)\n",
    "check[4]"
   ]
  },
  {
   "cell_type": "code",
   "execution_count": 16,
   "id": "15540ed8",
   "metadata": {
    "ExecuteTime": {
     "end_time": "2021-06-03T15:50:45.849989Z",
     "start_time": "2021-06-03T15:50:45.846097Z"
    }
   },
   "outputs": [
    {
     "data": {
      "text/plain": [
       "27104"
      ]
     },
     "execution_count": 16,
     "metadata": {},
     "output_type": "execute_result"
    }
   ],
   "source": [
    "import sys\n",
    "sys.getsizeof(check)"
   ]
  },
  {
   "cell_type": "markdown",
   "id": "cda25167",
   "metadata": {},
   "source": [
    "### Future work\n",
    "The parameters I planned to start with based on consultations and literature review are different than those used here. Computing power and time were both limiting factors for the scope of this initial modeling, so most parameters have been downsampled. The resulting features for model input are much lower resolution than preconceived, but this will still be informative for future steps. And hey, there's a high chance what I deem important features as a person trying to make sense of these audio and visual representations are not actually critical for machine learning.  The following specs are either what I wanted to implement here if I had better resources on hand, or what I intend to implement in the future:  \n",
    "\n",
    "* n_fft\n",
    "    * Future goal / next step: use multiple n_fft windows: train separate NNs on spectrograms of different n_ffts and compare performance, OR stack/interpolate into single spectrogram\n",
    "    * n_fft=128 could best capture clicks (bursts and/or trains) \n",
    "        * 128/50000 = .00256 sec = 2560$\\mu$s per FFT\n",
    "        * fastest dolphin clicks (burst pulses) ~ 1750 clicks/sec = 570$\\mu$s between clicks, each click 50-128 $\\mu$s duration \n",
    "        * 2560$\\mu$s window could capture several clicks; too short for whistles\n",
    "    * more inclusive window, clicks and whistles: ~ sr/4 = 12500; n_fft=8192(.16 sec); n_fft=16384(.33s)\n",
    "        * _S. longirostris_ whistle duration = 0.05-1.28s, avg .49s\n",
    "        * don't want to exceed n_fft=16384 (next power of 2 > 32K) because matrix size getting out of hand?\n",
    "\n",
    "* win_length: Future --> smaller values to better discriminate clicks\n",
    "\n",
    "* hop_length\n",
    "    * intent was win_length / 4, downsampled to win_length/2 above\n",
    "    \n",
    "* window\n",
    "    * Future: compare model performance using Hann vs. Hamming\n",
    "    * Blackman might be another window suitable for this audio but what do I know"
   ]
  }
 ],
 "metadata": {
  "kernelspec": {
   "display_name": "Python 3",
   "language": "python",
   "name": "python3"
  },
  "language_info": {
   "codemirror_mode": {
    "name": "ipython",
    "version": 3
   },
   "file_extension": ".py",
   "mimetype": "text/x-python",
   "name": "python",
   "nbconvert_exporter": "python",
   "pygments_lexer": "ipython3",
   "version": "3.8.8"
  },
  "varInspector": {
   "cols": {
    "lenName": 16,
    "lenType": 16,
    "lenVar": 40
   },
   "kernels_config": {
    "python": {
     "delete_cmd_postfix": "",
     "delete_cmd_prefix": "del ",
     "library": "var_list.py",
     "varRefreshCmd": "print(var_dic_list())"
    },
    "r": {
     "delete_cmd_postfix": ") ",
     "delete_cmd_prefix": "rm(",
     "library": "var_list.r",
     "varRefreshCmd": "cat(var_dic_list()) "
    }
   },
   "types_to_exclude": [
    "module",
    "function",
    "builtin_function_or_method",
    "instance",
    "_Feature"
   ],
   "window_display": false
  }
 },
 "nbformat": 4,
 "nbformat_minor": 5
}
